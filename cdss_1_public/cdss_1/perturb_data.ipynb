{
 "cells": [
  {
   "cell_type": "code",
   "execution_count": 40,
   "metadata": {},
   "outputs": [],
   "source": [
    "import pandas as pd\n",
    "import numpy as np"
   ]
  },
  {
   "cell_type": "code",
   "execution_count": 41,
   "metadata": {},
   "outputs": [],
   "source": [
    "def perturb_data(df, seed=None, scale=0.03):\n",
    "    \"\"\"\n",
    "    Function to perturb data in a DataFrame randomly but reproducibly.\n",
    "    \n",
    "    Parameters:\n",
    "        df (pd.DataFrame): Input DataFrame.\n",
    "        seed (int): Seed for reproducibility.\n",
    "        scale (float): Scaling factor for perturbation.\n",
    "        \n",
    "    Returns:\n",
    "        pd.DataFrame: Perturbed DataFrame.\n",
    "    \"\"\"\n",
    "    if seed is not None:\n",
    "        np.random.seed(seed)\n",
    "    \n",
    "    # Iterate over each row (excluding the first one which is assumed to be the index)\n",
    "    for idx, row in df.iterrows():\n",
    "        # Find non-missing values in the row\n",
    "        non_missing_indices = row.iloc[1:].dropna().index\n",
    "        \n",
    "        # If there are no non-missing values, skip this row\n",
    "        if len(non_missing_indices) == 0:\n",
    "            continue\n",
    "        \n",
    "        # Calculate the noise to add to non-missing values\n",
    "        noise = np.random.normal(0, scale, len(non_missing_indices))\n",
    "        \n",
    "        # Add the noise to non-missing values\n",
    "        for col_idx in non_missing_indices:\n",
    "            df.at[idx, col_idx] += noise[non_missing_indices.get_loc(col_idx)]\n",
    "        \n",
    "        # Limit floats to two decimal places for all rows\n",
    "        df.iloc[idx, 1:] = df.iloc[idx, 1:].astype(float).round(2)\n",
    "        \n",
    "        # Check if 'Glasgow Coma Score' or 'NEWS' is in the 'Metric / Time (hours)' column\n",
    "        if 'Glasgow Coma Score' in row['Metric / Time (hours)'] or 'NEWS' in row['Metric / Time (hours)']:\n",
    "            # Fill NaN values with a placeholder (-1)\n",
    "            df.iloc[idx, 1:] = df.iloc[idx, 1:].fillna(-1)\n",
    "            # Round to integers for rows containing 'Glasgow Coma Score' or 'NEWS'\n",
    "            df.iloc[idx, 1:] = df.iloc[idx, 1:].astype(int)\n",
    "            # Convert back placeholder values (-1) to NaN\n",
    "            df.iloc[idx, 1:] = df.iloc[idx, 1:].replace(-1, np.nan)\n",
    "    \n",
    "    return df"
   ]
  },
  {
   "cell_type": "code",
   "execution_count": 42,
   "metadata": {},
   "outputs": [
    {
     "name": "stdout",
     "output_type": "stream",
     "text": [
      "        Metric / Time (hours)       0       6      12      18      24      30\n",
      "0                 Temperature   37.78   38.47   39.28   39.28   39.28   39.28\n",
      "1            Respiratory Rate   19.39   19.56   22.05   20.32   21.57   21.53\n",
      "2                  Heart Rate   85.53   88.40  106.98  126.53  116.17  121.83\n",
      "3    Diastolic Blood Pressure   79.62   78.53   74.54   77.25   78.36   75.99\n",
      "4     Systolic Blood Pressure  144.54  143.46  127.32  134.64  135.35  126.09\n",
      "5      Mean Arterial Pressure  112.09  111.00  100.93  105.95  106.85  101.04\n",
      "6                        SpO2   96.40   96.18   94.35   96.22   94.39   98.12\n",
      "7          Glasgow Coma Score   15.00   15.00   14.00   15.00   15.00   15.00\n",
      "8  NEWS Conscious Level Score    0.00    0.00    0.00    0.00    0.00    0.00\n",
      "9     NEWS Supplemental Oxgen    2.00    2.00    2.00    2.00    2.00    2.00\n",
      "        Metric / Time (hours)       0       6      12      18      24      30\n",
      "0                 Temperature   37.87   38.49   39.33   39.39   39.37   39.23\n",
      "1            Respiratory Rate   19.44   19.55   22.04   20.34   21.58   21.60\n",
      "2                  Heart Rate   85.57   88.41  107.00  126.55  116.24  121.82\n",
      "3    Diastolic Blood Pressure   79.64   78.49   74.41   77.28   78.40   75.95\n",
      "4     Systolic Blood Pressure  144.65  143.39  127.32  134.63  135.43  126.16\n",
      "5      Mean Arterial Pressure  112.10  111.02  100.89  105.85  106.83  101.05\n",
      "6                        SpO2   96.46   96.24   94.33   96.20   94.34   98.05\n",
      "7          Glasgow Coma Score   14.00   15.00   13.00   14.00   14.00   15.00\n",
      "8  NEWS Conscious Level Score    0.00    0.00    0.00    0.00    0.00    0.00\n",
      "9     NEWS Supplemental Oxgen    2.00    2.00    2.00    2.00    1.00    1.00\n"
     ]
    }
   ],
   "source": [
    "# Slightly change patient_1 for patient_1_demo\n",
    "\n",
    "# Read CSV\n",
    "origional_df = pd.read_csv('/home/wb1115/VSCode_projects/cdss/cdss_1/csv/vitals/patient_1.csv')\n",
    "# Make a copy of the original DataFrame\n",
    "origional_df_copy = origional_df.copy()\n",
    "# Perturb the data\n",
    "perturbed_df = perturb_data(origional_df_copy, seed=0, scale=0.05)\n",
    "print(origional_df)\n",
    "# Save df\n",
    "perturbed_df.to_csv('/home/wb1115/VSCode_projects/cdss/cdss_1/csv/vitals/patient_1_demo.csv', index=False)\n",
    "print(perturbed_df)"
   ]
  },
  {
   "cell_type": "code",
   "execution_count": 43,
   "metadata": {},
   "outputs": [],
   "source": [
    "# Slightly change patient_2 for patient_2_demo\n",
    "\n",
    "# Read CSV\n",
    "origional_df = pd.read_csv('/home/wb1115/VSCode_projects/cdss/cdss_1/csv/vitals/patient_2.csv')\n",
    "# Make a copy of the original DataFrame\n",
    "origional_df_copy = origional_df.copy()\n",
    "# Perturb the data\n",
    "perturbed_df = perturb_data(origional_df_copy, seed=0, scale=0.05)\n",
    "# Save df\n",
    "perturbed_df.to_csv('/home/wb1115/VSCode_projects/cdss/cdss_1/csv/vitals/patient_2_demo.csv', index=False)"
   ]
  },
  {
   "cell_type": "code",
   "execution_count": 44,
   "metadata": {},
   "outputs": [],
   "source": [
    "# Slightly change patient_9 for patient_3_demo\n",
    "\n",
    "# Read CSV\n",
    "origional_df = pd.read_csv('/home/wb1115/VSCode_projects/cdss/cdss_1/csv/vitals/patient_9.csv')\n",
    "# Make a copy of the original DataFrame\n",
    "origional_df_copy = origional_df.copy()\n",
    "# Perturb the data\n",
    "perturbed_df = perturb_data(origional_df_copy, seed=0, scale=0.05)\n",
    "# Save df\n",
    "perturbed_df.to_csv('/home/wb1115/VSCode_projects/cdss/cdss_1/csv/vitals/patient_3_demo.csv', index=False)"
   ]
  }
 ],
 "metadata": {
  "kernelspec": {
   "display_name": "cdss",
   "language": "python",
   "name": "python3"
  },
  "language_info": {
   "codemirror_mode": {
    "name": "ipython",
    "version": 3
   },
   "file_extension": ".py",
   "mimetype": "text/x-python",
   "name": "python",
   "nbconvert_exporter": "python",
   "pygments_lexer": "ipython3",
   "version": "3.10.13"
  }
 },
 "nbformat": 4,
 "nbformat_minor": 2
}
