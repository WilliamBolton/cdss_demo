{
 "cells": [
  {
   "cell_type": "code",
   "execution_count": 63,
   "metadata": {},
   "outputs": [],
   "source": [
    "import pandas as pd\n",
    "import numpy as np\n",
    "from scipy.stats import chi2_contingency\n",
    "from scipy.stats import chisquare\n",
    "import statsmodels.api as sm\n",
    "from cmh import CMH\n",
    "from statsmodels.graphics.mosaicplot import mosaic\n",
    "import matplotlib.pyplot as plt\n",
    "import seaborn as sns\n",
    "\n",
    "from IPython.core.interactiveshell import InteractiveShell\n",
    "InteractiveShell.ast_node_interactivity = \"all\""
   ]
  },
  {
   "cell_type": "code",
   "execution_count": 3,
   "metadata": {},
   "outputs": [],
   "source": [
    "# Read CSV\n",
    "df_1 = pd.read_csv('/home/wb1115/VSCode_projects/cdss/cdss_1/cdss_1/switch_results/patient_1_choices.csv')\n",
    "df_2 = pd.read_csv('/home/wb1115/VSCode_projects/cdss/cdss_1/cdss_1/switch_results/patient_2_choices.csv')\n",
    "df_3 = pd.read_csv('/home/wb1115/VSCode_projects/cdss/cdss_1/cdss_1/switch_results/patient_3_choices.csv')\n",
    "df_4 = pd.read_csv('/home/wb1115/VSCode_projects/cdss/cdss_1/cdss_1/switch_results/patient_4_choices.csv')\n",
    "df_5 = pd.read_csv('/home/wb1115/VSCode_projects/cdss/cdss_1/cdss_1/switch_results/patient_5_choices.csv')\n",
    "df_6 = pd.read_csv('/home/wb1115/VSCode_projects/cdss/cdss_1/cdss_1/switch_results/patient_6_choices.csv')\n",
    "df_7 = pd.read_csv('/home/wb1115/VSCode_projects/cdss/cdss_1/cdss_1/switch_results/patient_7_choices.csv')\n",
    "df_8 = pd.read_csv('/home/wb1115/VSCode_projects/cdss/cdss_1/cdss_1/switch_results/patient_8_choices.csv')\n",
    "df_9 = pd.read_csv('/home/wb1115/VSCode_projects/cdss/cdss_1/cdss_1/switch_results/patient_9_choices.csv')\n",
    "df_10 = pd.read_csv('/home/wb1115/VSCode_projects/cdss/cdss_1/cdss_1/switch_results/patient_10_choices.csv')\n",
    "df_11 = pd.read_csv('/home/wb1115/VSCode_projects/cdss/cdss_1/cdss_1/switch_results/patient_11_choices.csv')\n",
    "df_12 = pd.read_csv('/home/wb1115/VSCode_projects/cdss/cdss_1/cdss_1/switch_results/patient_12_choices.csv')"
   ]
  },
  {
   "cell_type": "code",
   "execution_count": 4,
   "metadata": {},
   "outputs": [],
   "source": [
    "# Filter\n",
    "df_1 = df_1[df_1['user_id'] != 'tim']\n",
    "df_2 = df_2[df_2['user_id'] != 'tim']\n",
    "df_3 = df_3[df_3['user_id'] != 'tim']\n",
    "df_4 = df_4[df_4['user_id'] != 'tim']\n",
    "df_5 = df_5[df_5['user_id'] != 'tim']\n",
    "df_6 = df_6[df_6['user_id'] != 'tim']\n",
    "df_7 = df_7[df_7['user_id'] != 'tim']\n",
    "df_8 = df_8[df_8['user_id'] != 'tim']\n",
    "df_9 = df_9[df_9['user_id'] != 'tim']\n",
    "df_10 = df_10[df_10['user_id'] != 'tim']\n",
    "df_11 = df_11[df_11['user_id'] != 'tim']\n",
    "df_12 = df_12[df_12['user_id'] != 'tim']"
   ]
  },
  {
   "cell_type": "code",
   "execution_count": 5,
   "metadata": {},
   "outputs": [],
   "source": [
    "# Add patient column\n",
    "df_1['patient'] = 1\n",
    "df_2['patient'] = 2\n",
    "df_3['patient'] = 3\n",
    "df_4['patient'] = 4\n",
    "df_5['patient'] = 5\n",
    "df_6['patient'] = 6\n",
    "df_7['patient'] = 7\n",
    "df_8['patient'] = 8\n",
    "df_9['patient'] = 9\n",
    "df_10['patient'] = 10\n",
    "df_11['patient'] = 11\n",
    "df_12['patient'] = 12"
   ]
  },
  {
   "cell_type": "code",
   "execution_count": 6,
   "metadata": {},
   "outputs": [],
   "source": [
    "# Concatenate the DataFrames\n",
    "dfs = [df_1, df_2, df_3, df_4, df_5, df_6, df_7, df_8, df_9, df_10, df_11, df_12]\n",
    "all_choices = pd.concat(dfs, ignore_index=True)"
   ]
  },
  {
   "cell_type": "code",
   "execution_count": 7,
   "metadata": {},
   "outputs": [],
   "source": [
    "# Order of seeing CDSS (1) or SOC (2)\n",
    "# a and b are opposites of each other\n",
    "# a = 122121122112\n",
    "# b = 211212211221\n",
    "a_list = [1,2,2,1,2,1,1,2,2,1,1,2]\n",
    "b_list = [2,1,1,2,1,2,2,1,1,2,2,1]"
   ]
  },
  {
   "cell_type": "code",
   "execution_count": 8,
   "metadata": {},
   "outputs": [],
   "source": [
    "# Define if see cdss or soc\n",
    "def view_fun(row):\n",
    "    patient = row['patient']\n",
    "    user_archetype = row['user_archetype']\n",
    "    if user_archetype == 'a':\n",
    "        view = a_list[patient-1]\n",
    "    elif user_archetype == 'b':\n",
    "        view = b_list[patient-1]\n",
    "    if view == 1:\n",
    "        return 'cdss'\n",
    "    elif view == 2:\n",
    "        return 'soc'\n",
    "\n",
    "all_choices['view'] = all_choices.apply(lambda row: view_fun(row), axis=1)"
   ]
  },
  {
   "cell_type": "code",
   "execution_count": 8,
   "metadata": {},
   "outputs": [
    {
     "name": "stdout",
     "output_type": "stream",
     "text": [
      "<class 'pandas.core.frame.DataFrame'>\n",
      "RangeIndex: 396 entries, 0 to 395\n",
      "Data columns (total 6 columns):\n",
      " #   Column          Non-Null Count  Dtype \n",
      "---  ------          --------------  ----- \n",
      " 0   user_id         396 non-null    object\n",
      " 1   user_archetype  396 non-null    object\n",
      " 2   switch_choice   396 non-null    object\n",
      " 3   explanation     389 non-null    object\n",
      " 4   patient         396 non-null    int64 \n",
      " 5   view            396 non-null    object\n",
      "dtypes: int64(1), object(5)\n",
      "memory usage: 18.7+ KB\n"
     ]
    }
   ],
   "source": [
    "all_choices.info()"
   ]
  },
  {
   "cell_type": "code",
   "execution_count": 9,
   "metadata": {},
   "outputs": [
    {
     "data": {
      "text/html": [
       "<div>\n",
       "<style scoped>\n",
       "    .dataframe tbody tr th:only-of-type {\n",
       "        vertical-align: middle;\n",
       "    }\n",
       "\n",
       "    .dataframe tbody tr th {\n",
       "        vertical-align: top;\n",
       "    }\n",
       "\n",
       "    .dataframe thead th {\n",
       "        text-align: right;\n",
       "    }\n",
       "</style>\n",
       "<table border=\"1\" class=\"dataframe\">\n",
       "  <thead>\n",
       "    <tr style=\"text-align: right;\">\n",
       "      <th></th>\n",
       "      <th>user_id</th>\n",
       "      <th>user_archetype</th>\n",
       "      <th>switch_choice</th>\n",
       "      <th>explanation</th>\n",
       "      <th>patient</th>\n",
       "      <th>view</th>\n",
       "    </tr>\n",
       "  </thead>\n",
       "  <tbody>\n",
       "    <tr>\n",
       "      <th>0</th>\n",
       "      <td>0</td>\n",
       "      <td>a</td>\n",
       "      <td>dont_switch</td>\n",
       "      <td>temps increasing, systolics dropping, still on...</td>\n",
       "      <td>1</td>\n",
       "      <td>cdss</td>\n",
       "    </tr>\n",
       "    <tr>\n",
       "      <th>1</th>\n",
       "      <td>1</td>\n",
       "      <td>b</td>\n",
       "      <td>dont_switch</td>\n",
       "      <td>The respiratory rates are increasing.</td>\n",
       "      <td>1</td>\n",
       "      <td>soc</td>\n",
       "    </tr>\n",
       "    <tr>\n",
       "      <th>2</th>\n",
       "      <td>2</td>\n",
       "      <td>a</td>\n",
       "      <td>dont_switch</td>\n",
       "      <td>30 hours is not long enough to assess for resp...</td>\n",
       "      <td>1</td>\n",
       "      <td>cdss</td>\n",
       "    </tr>\n",
       "    <tr>\n",
       "      <th>3</th>\n",
       "      <td>3</td>\n",
       "      <td>b</td>\n",
       "      <td>dont_switch</td>\n",
       "      <td>Raised inflammatory markers (raised CRP, RR&gt;20</td>\n",
       "      <td>1</td>\n",
       "      <td>soc</td>\n",
       "    </tr>\n",
       "    <tr>\n",
       "      <th>4</th>\n",
       "      <td>4</td>\n",
       "      <td>a</td>\n",
       "      <td>dont_switch</td>\n",
       "      <td>Based on CURB score the patient is at least CU...</td>\n",
       "      <td>1</td>\n",
       "      <td>cdss</td>\n",
       "    </tr>\n",
       "    <tr>\n",
       "      <th>...</th>\n",
       "      <td>...</td>\n",
       "      <td>...</td>\n",
       "      <td>...</td>\n",
       "      <td>...</td>\n",
       "      <td>...</td>\n",
       "      <td>...</td>\n",
       "    </tr>\n",
       "    <tr>\n",
       "      <th>391</th>\n",
       "      <td>28</td>\n",
       "      <td>a</td>\n",
       "      <td>switch</td>\n",
       "      <td>Stable for 24 hours no clear red flags</td>\n",
       "      <td>12</td>\n",
       "      <td>soc</td>\n",
       "    </tr>\n",
       "    <tr>\n",
       "      <th>392</th>\n",
       "      <td>29</td>\n",
       "      <td>b</td>\n",
       "      <td>dont_switch</td>\n",
       "      <td>GCS low; low grade fevers</td>\n",
       "      <td>12</td>\n",
       "      <td>cdss</td>\n",
       "    </tr>\n",
       "    <tr>\n",
       "      <th>393</th>\n",
       "      <td>30</td>\n",
       "      <td>a</td>\n",
       "      <td>dont_switch</td>\n",
       "      <td>Low GCS., I would want more information about ...</td>\n",
       "      <td>12</td>\n",
       "      <td>soc</td>\n",
       "    </tr>\n",
       "    <tr>\n",
       "      <th>394</th>\n",
       "      <td>31</td>\n",
       "      <td>b</td>\n",
       "      <td>dont_switch</td>\n",
       "      <td>Low GCS</td>\n",
       "      <td>12</td>\n",
       "      <td>cdss</td>\n",
       "    </tr>\n",
       "    <tr>\n",
       "      <th>395</th>\n",
       "      <td>32</td>\n",
       "      <td>a</td>\n",
       "      <td>dont_switch</td>\n",
       "      <td>Consider why GCS low, is this back to baseline...</td>\n",
       "      <td>12</td>\n",
       "      <td>soc</td>\n",
       "    </tr>\n",
       "  </tbody>\n",
       "</table>\n",
       "<p>396 rows × 6 columns</p>\n",
       "</div>"
      ],
      "text/plain": [
       "    user_id user_archetype switch_choice  \\\n",
       "0         0              a   dont_switch   \n",
       "1         1              b   dont_switch   \n",
       "2         2              a   dont_switch   \n",
       "3         3              b   dont_switch   \n",
       "4         4              a   dont_switch   \n",
       "..      ...            ...           ...   \n",
       "391      28              a        switch   \n",
       "392      29              b   dont_switch   \n",
       "393      30              a   dont_switch   \n",
       "394      31              b   dont_switch   \n",
       "395      32              a   dont_switch   \n",
       "\n",
       "                                           explanation  patient  view  \n",
       "0    temps increasing, systolics dropping, still on...        1  cdss  \n",
       "1                The respiratory rates are increasing.        1   soc  \n",
       "2    30 hours is not long enough to assess for resp...        1  cdss  \n",
       "3       Raised inflammatory markers (raised CRP, RR>20        1   soc  \n",
       "4    Based on CURB score the patient is at least CU...        1  cdss  \n",
       "..                                                 ...      ...   ...  \n",
       "391             Stable for 24 hours no clear red flags       12   soc  \n",
       "392                         GCS low; low grade fevers        12  cdss  \n",
       "393  Low GCS., I would want more information about ...       12   soc  \n",
       "394                                            Low GCS       12  cdss  \n",
       "395  Consider why GCS low, is this back to baseline...       12   soc  \n",
       "\n",
       "[396 rows x 6 columns]"
      ]
     },
     "execution_count": 9,
     "metadata": {},
     "output_type": "execute_result"
    }
   ],
   "source": [
    "all_choices"
   ]
  },
  {
   "cell_type": "code",
   "execution_count": 9,
   "metadata": {},
   "outputs": [],
   "source": [
    "# Add demographics \n",
    "demographics = pd.read_csv('/home/wb1115/VSCode_projects/cdss/cdss_1/cdss_1/demographic_results/demographics_processed.csv')\n",
    "all_choices['user_id'] = all_choices['user_id'].astype(int)\n",
    "all_choices = pd.merge(all_choices, demographics[['user_id', 'user_archetype', 'age_new', 'sex_new', 'medical_speciality_new', 'grade_new', 'ai_familiarity_new']])"
   ]
  },
  {
   "cell_type": "code",
   "execution_count": 10,
   "metadata": {},
   "outputs": [
    {
     "data": {
      "text/html": [
       "<div>\n",
       "<style scoped>\n",
       "    .dataframe tbody tr th:only-of-type {\n",
       "        vertical-align: middle;\n",
       "    }\n",
       "\n",
       "    .dataframe tbody tr th {\n",
       "        vertical-align: top;\n",
       "    }\n",
       "\n",
       "    .dataframe thead th {\n",
       "        text-align: right;\n",
       "    }\n",
       "</style>\n",
       "<table border=\"1\" class=\"dataframe\">\n",
       "  <thead>\n",
       "    <tr style=\"text-align: right;\">\n",
       "      <th></th>\n",
       "      <th>user_id</th>\n",
       "      <th>user_archetype</th>\n",
       "      <th>switch_choice</th>\n",
       "      <th>explanation</th>\n",
       "      <th>patient</th>\n",
       "      <th>view</th>\n",
       "      <th>age_new</th>\n",
       "      <th>sex_new</th>\n",
       "      <th>medical_speciality_new</th>\n",
       "      <th>grade_new</th>\n",
       "      <th>ai_familiarity_new</th>\n",
       "    </tr>\n",
       "  </thead>\n",
       "  <tbody>\n",
       "    <tr>\n",
       "      <th>0</th>\n",
       "      <td>0</td>\n",
       "      <td>a</td>\n",
       "      <td>dont_switch</td>\n",
       "      <td>temps increasing, systolics dropping, still on...</td>\n",
       "      <td>1</td>\n",
       "      <td>cdss</td>\n",
       "      <td>30s</td>\n",
       "      <td>Male</td>\n",
       "      <td>Pharmacist</td>\n",
       "      <td>Other</td>\n",
       "      <td>NaN</td>\n",
       "    </tr>\n",
       "    <tr>\n",
       "      <th>1</th>\n",
       "      <td>0</td>\n",
       "      <td>a</td>\n",
       "      <td>switch</td>\n",
       "      <td>apyrexial, HR returned to normal</td>\n",
       "      <td>2</td>\n",
       "      <td>soc</td>\n",
       "      <td>30s</td>\n",
       "      <td>Male</td>\n",
       "      <td>Pharmacist</td>\n",
       "      <td>Other</td>\n",
       "      <td>NaN</td>\n",
       "    </tr>\n",
       "    <tr>\n",
       "      <th>2</th>\n",
       "      <td>0</td>\n",
       "      <td>a</td>\n",
       "      <td>dont_switch</td>\n",
       "      <td>temp and HR increasing, GCS dropped in last 24...</td>\n",
       "      <td>3</td>\n",
       "      <td>soc</td>\n",
       "      <td>30s</td>\n",
       "      <td>Male</td>\n",
       "      <td>Pharmacist</td>\n",
       "      <td>Other</td>\n",
       "      <td>NaN</td>\n",
       "    </tr>\n",
       "    <tr>\n",
       "      <th>3</th>\n",
       "      <td>0</td>\n",
       "      <td>a</td>\n",
       "      <td>switch</td>\n",
       "      <td>temps and other vitals all ok, and have been s...</td>\n",
       "      <td>4</td>\n",
       "      <td>cdss</td>\n",
       "      <td>30s</td>\n",
       "      <td>Male</td>\n",
       "      <td>Pharmacist</td>\n",
       "      <td>Other</td>\n",
       "      <td>NaN</td>\n",
       "    </tr>\n",
       "    <tr>\n",
       "      <th>4</th>\n",
       "      <td>0</td>\n",
       "      <td>a</td>\n",
       "      <td>switch</td>\n",
       "      <td>all vitals in range</td>\n",
       "      <td>5</td>\n",
       "      <td>soc</td>\n",
       "      <td>30s</td>\n",
       "      <td>Male</td>\n",
       "      <td>Pharmacist</td>\n",
       "      <td>Other</td>\n",
       "      <td>NaN</td>\n",
       "    </tr>\n",
       "    <tr>\n",
       "      <th>...</th>\n",
       "      <td>...</td>\n",
       "      <td>...</td>\n",
       "      <td>...</td>\n",
       "      <td>...</td>\n",
       "      <td>...</td>\n",
       "      <td>...</td>\n",
       "      <td>...</td>\n",
       "      <td>...</td>\n",
       "      <td>...</td>\n",
       "      <td>...</td>\n",
       "      <td>...</td>\n",
       "    </tr>\n",
       "    <tr>\n",
       "      <th>391</th>\n",
       "      <td>32</td>\n",
       "      <td>a</td>\n",
       "      <td>switch</td>\n",
       "      <td>meets criteria for switch, would also consider...</td>\n",
       "      <td>8</td>\n",
       "      <td>soc</td>\n",
       "      <td>20s</td>\n",
       "      <td>Female</td>\n",
       "      <td>Other</td>\n",
       "      <td>Other</td>\n",
       "      <td>Slightly familiar</td>\n",
       "    </tr>\n",
       "    <tr>\n",
       "      <th>392</th>\n",
       "      <td>32</td>\n",
       "      <td>a</td>\n",
       "      <td>dont_switch</td>\n",
       "      <td>would need more information around patient pas...</td>\n",
       "      <td>9</td>\n",
       "      <td>soc</td>\n",
       "      <td>20s</td>\n",
       "      <td>Female</td>\n",
       "      <td>Other</td>\n",
       "      <td>Other</td>\n",
       "      <td>Slightly familiar</td>\n",
       "    </tr>\n",
       "    <tr>\n",
       "      <th>393</th>\n",
       "      <td>32</td>\n",
       "      <td>a</td>\n",
       "      <td>dont_switch</td>\n",
       "      <td>Would require more information around clinical...</td>\n",
       "      <td>10</td>\n",
       "      <td>cdss</td>\n",
       "      <td>20s</td>\n",
       "      <td>Female</td>\n",
       "      <td>Other</td>\n",
       "      <td>Other</td>\n",
       "      <td>Slightly familiar</td>\n",
       "    </tr>\n",
       "    <tr>\n",
       "      <th>394</th>\n",
       "      <td>32</td>\n",
       "      <td>a</td>\n",
       "      <td>switch</td>\n",
       "      <td>consider whether patient is clinically improvi...</td>\n",
       "      <td>11</td>\n",
       "      <td>cdss</td>\n",
       "      <td>20s</td>\n",
       "      <td>Female</td>\n",
       "      <td>Other</td>\n",
       "      <td>Other</td>\n",
       "      <td>Slightly familiar</td>\n",
       "    </tr>\n",
       "    <tr>\n",
       "      <th>395</th>\n",
       "      <td>32</td>\n",
       "      <td>a</td>\n",
       "      <td>dont_switch</td>\n",
       "      <td>Consider why GCS low, is this back to baseline...</td>\n",
       "      <td>12</td>\n",
       "      <td>soc</td>\n",
       "      <td>20s</td>\n",
       "      <td>Female</td>\n",
       "      <td>Other</td>\n",
       "      <td>Other</td>\n",
       "      <td>Slightly familiar</td>\n",
       "    </tr>\n",
       "  </tbody>\n",
       "</table>\n",
       "<p>396 rows × 11 columns</p>\n",
       "</div>"
      ],
      "text/plain": [
       "     user_id user_archetype switch_choice  \\\n",
       "0          0              a   dont_switch   \n",
       "1          0              a        switch   \n",
       "2          0              a   dont_switch   \n",
       "3          0              a        switch   \n",
       "4          0              a        switch   \n",
       "..       ...            ...           ...   \n",
       "391       32              a        switch   \n",
       "392       32              a   dont_switch   \n",
       "393       32              a   dont_switch   \n",
       "394       32              a        switch   \n",
       "395       32              a   dont_switch   \n",
       "\n",
       "                                           explanation  patient  view age_new  \\\n",
       "0    temps increasing, systolics dropping, still on...        1  cdss     30s   \n",
       "1                     apyrexial, HR returned to normal        2   soc     30s   \n",
       "2    temp and HR increasing, GCS dropped in last 24...        3   soc     30s   \n",
       "3    temps and other vitals all ok, and have been s...        4  cdss     30s   \n",
       "4                                  all vitals in range        5   soc     30s   \n",
       "..                                                 ...      ...   ...     ...   \n",
       "391  meets criteria for switch, would also consider...        8   soc     20s   \n",
       "392  would need more information around patient pas...        9   soc     20s   \n",
       "393  Would require more information around clinical...       10  cdss     20s   \n",
       "394  consider whether patient is clinically improvi...       11  cdss     20s   \n",
       "395  Consider why GCS low, is this back to baseline...       12   soc     20s   \n",
       "\n",
       "    sex_new medical_speciality_new grade_new ai_familiarity_new  \n",
       "0      Male             Pharmacist     Other                NaN  \n",
       "1      Male             Pharmacist     Other                NaN  \n",
       "2      Male             Pharmacist     Other                NaN  \n",
       "3      Male             Pharmacist     Other                NaN  \n",
       "4      Male             Pharmacist     Other                NaN  \n",
       "..      ...                    ...       ...                ...  \n",
       "391  Female                  Other     Other  Slightly familiar  \n",
       "392  Female                  Other     Other  Slightly familiar  \n",
       "393  Female                  Other     Other  Slightly familiar  \n",
       "394  Female                  Other     Other  Slightly familiar  \n",
       "395  Female                  Other     Other  Slightly familiar  \n",
       "\n",
       "[396 rows x 11 columns]"
      ]
     },
     "execution_count": 10,
     "metadata": {},
     "output_type": "execute_result"
    }
   ],
   "source": [
    "all_choices"
   ]
  },
  {
   "cell_type": "code",
   "execution_count": 12,
   "metadata": {},
   "outputs": [
    {
     "data": {
      "text/plain": [
       "view\n",
       "cdss    198\n",
       "soc     198\n",
       "Name: count, dtype: int64"
      ]
     },
     "execution_count": 12,
     "metadata": {},
     "output_type": "execute_result"
    },
    {
     "data": {
      "text/plain": [
       "switch_choice\n",
       "switch         245\n",
       "dont_switch    151\n",
       "Name: count, dtype: int64"
      ]
     },
     "execution_count": 12,
     "metadata": {},
     "output_type": "execute_result"
    },
    {
     "data": {
      "text/plain": [
       "patient\n",
       "1     33\n",
       "2     33\n",
       "3     33\n",
       "4     33\n",
       "5     33\n",
       "6     33\n",
       "7     33\n",
       "8     33\n",
       "9     33\n",
       "10    33\n",
       "11    33\n",
       "12    33\n",
       "Name: count, dtype: int64"
      ]
     },
     "execution_count": 12,
     "metadata": {},
     "output_type": "execute_result"
    }
   ],
   "source": [
    "all_choices['view'].value_counts()\n",
    "all_choices['switch_choice'].value_counts()\n",
    "all_choices['patient'].value_counts()"
   ]
  },
  {
   "cell_type": "code",
   "execution_count": 13,
   "metadata": {},
   "outputs": [
    {
     "data": {
      "text/plain": [
       "patient  view  switch_choice\n",
       "1        cdss  dont_switch      17\n",
       "         soc   dont_switch      16\n",
       "2        cdss  switch           16\n",
       "         soc   switch           15\n",
       "               dont_switch       2\n",
       "3        cdss  dont_switch      13\n",
       "               switch            3\n",
       "         soc   dont_switch      11\n",
       "               switch            6\n",
       "4        cdss  switch           15\n",
       "               dont_switch       2\n",
       "         soc   switch           16\n",
       "5        cdss  switch           16\n",
       "         soc   switch           15\n",
       "               dont_switch       2\n",
       "6        cdss  switch           13\n",
       "               dont_switch       4\n",
       "         soc   switch           16\n",
       "7        cdss  dont_switch      12\n",
       "               switch            5\n",
       "         soc   switch           12\n",
       "               dont_switch       4\n",
       "8        cdss  switch           10\n",
       "               dont_switch       6\n",
       "         soc   switch            9\n",
       "               dont_switch       8\n",
       "9        cdss  switch           14\n",
       "               dont_switch       2\n",
       "         soc   switch           14\n",
       "               dont_switch       3\n",
       "10       cdss  dont_switch       9\n",
       "               switch            8\n",
       "         soc   switch           11\n",
       "               dont_switch       5\n",
       "11       cdss  dont_switch       9\n",
       "               switch            8\n",
       "         soc   switch            9\n",
       "               dont_switch       7\n",
       "12       cdss  dont_switch      11\n",
       "               switch            5\n",
       "         soc   switch            9\n",
       "               dont_switch       8\n",
       "Name: count, dtype: int64"
      ]
     },
     "execution_count": 13,
     "metadata": {},
     "output_type": "execute_result"
    }
   ],
   "source": [
    "all_choices.groupby(['patient', 'view'])['switch_choice'].value_counts()"
   ]
  },
  {
   "cell_type": "markdown",
   "metadata": {},
   "source": [
    "# Chi-squared"
   ]
  },
  {
   "cell_type": "code",
   "execution_count": 20,
   "metadata": {},
   "outputs": [
    {
     "name": "stdout",
     "output_type": "stream",
     "text": [
      "Chi-square: 3.4681443438302475, p-value: 0.06256145645171585\n"
     ]
    }
   ],
   "source": [
    "# Contingency table\n",
    "contingency_table = pd.crosstab(all_choices['view'], all_choices['switch_choice'])\n",
    "#contingency_table = pd.crosstab(all_choices['switch_choice'], all_choices['view'])\n",
    "\n",
    "# Chi-square test\n",
    "chi2, p, dof, expected = chi2_contingency(contingency_table)\n",
    "\n",
    "print(f\"Chi-square: {chi2}, p-value: {p}\")"
   ]
  },
  {
   "cell_type": "code",
   "execution_count": 15,
   "metadata": {},
   "outputs": [
    {
     "data": {
      "text/html": [
       "<div>\n",
       "<style scoped>\n",
       "    .dataframe tbody tr th:only-of-type {\n",
       "        vertical-align: middle;\n",
       "    }\n",
       "\n",
       "    .dataframe tbody tr th {\n",
       "        vertical-align: top;\n",
       "    }\n",
       "\n",
       "    .dataframe thead th {\n",
       "        text-align: right;\n",
       "    }\n",
       "</style>\n",
       "<table border=\"1\" class=\"dataframe\">\n",
       "  <thead>\n",
       "    <tr style=\"text-align: right;\">\n",
       "      <th>switch_choice</th>\n",
       "      <th>dont_switch</th>\n",
       "      <th>switch</th>\n",
       "    </tr>\n",
       "    <tr>\n",
       "      <th>view</th>\n",
       "      <th></th>\n",
       "      <th></th>\n",
       "    </tr>\n",
       "  </thead>\n",
       "  <tbody>\n",
       "    <tr>\n",
       "      <th>cdss</th>\n",
       "      <td>12</td>\n",
       "      <td>5</td>\n",
       "    </tr>\n",
       "    <tr>\n",
       "      <th>soc</th>\n",
       "      <td>4</td>\n",
       "      <td>12</td>\n",
       "    </tr>\n",
       "  </tbody>\n",
       "</table>\n",
       "</div>"
      ],
      "text/plain": [
       "switch_choice  dont_switch  switch\n",
       "view                              \n",
       "cdss                    12       5\n",
       "soc                      4      12"
      ]
     },
     "execution_count": 15,
     "metadata": {},
     "output_type": "execute_result"
    },
    {
     "data": {
      "text/html": [
       "<div>\n",
       "<style scoped>\n",
       "    .dataframe tbody tr th:only-of-type {\n",
       "        vertical-align: middle;\n",
       "    }\n",
       "\n",
       "    .dataframe tbody tr th {\n",
       "        vertical-align: top;\n",
       "    }\n",
       "\n",
       "    .dataframe thead th {\n",
       "        text-align: right;\n",
       "    }\n",
       "</style>\n",
       "<table border=\"1\" class=\"dataframe\">\n",
       "  <thead>\n",
       "    <tr style=\"text-align: right;\">\n",
       "      <th>switch_choice</th>\n",
       "      <th>dont_switch</th>\n",
       "      <th>switch</th>\n",
       "    </tr>\n",
       "    <tr>\n",
       "      <th>view</th>\n",
       "      <th></th>\n",
       "      <th></th>\n",
       "    </tr>\n",
       "  </thead>\n",
       "  <tbody>\n",
       "    <tr>\n",
       "      <th>cdss</th>\n",
       "      <td>4</td>\n",
       "      <td>13</td>\n",
       "    </tr>\n",
       "    <tr>\n",
       "      <th>soc</th>\n",
       "      <td>0</td>\n",
       "      <td>16</td>\n",
       "    </tr>\n",
       "  </tbody>\n",
       "</table>\n",
       "</div>"
      ],
      "text/plain": [
       "switch_choice  dont_switch  switch\n",
       "view                              \n",
       "cdss                     4      13\n",
       "soc                      0      16"
      ]
     },
     "execution_count": 15,
     "metadata": {},
     "output_type": "execute_result"
    }
   ],
   "source": [
    "# Subset the data for the specific patient\n",
    "subset_df = all_choices[all_choices['patient'] == 7]\n",
    "# Contingency table\n",
    "contingency_table = pd.crosstab(subset_df['view'], subset_df['switch_choice'])\n",
    "contingency_table\n",
    "# Subset the data for the specific patient\n",
    "subset_df = all_choices[all_choices['patient'] == 6]\n",
    "# Contingency table\n",
    "contingency_table = pd.crosstab(subset_df['view'], subset_df['switch_choice'])\n",
    "contingency_table"
   ]
  },
  {
   "cell_type": "code",
   "execution_count": 23,
   "metadata": {},
   "outputs": [
    {
     "data": {
      "text/plain": [
       "array([[1, 2],\n",
       "       [3, 4]])"
      ]
     },
     "execution_count": 23,
     "metadata": {},
     "output_type": "execute_result"
    }
   ],
   "source": [
    "contingency_table"
   ]
  },
  {
   "cell_type": "code",
   "execution_count": 32,
   "metadata": {},
   "outputs": [
    {
     "data": {
      "text/plain": [
       "Chi2ContingencyResult(statistic=4.947916666666667, pvalue=0.026122128524138182, dof=1, expected_freq=array([[ 3., 16.],\n",
       "       [ 3., 16.]]))"
      ]
     },
     "execution_count": 32,
     "metadata": {},
     "output_type": "execute_result"
    }
   ],
   "source": [
    "contingency_table = np.array([[6, 13], [0, 19]])\n",
    "chi2_contingency(contingency_table)"
   ]
  },
  {
   "cell_type": "code",
   "execution_count": 66,
   "metadata": {},
   "outputs": [
    {
     "data": {
      "text/plain": [
       "Chi2ContingencyResult(statistic=4.283975659229209, pvalue=0.03847325866217401, dof=1, expected_freq=array([[ 2.06060606, 14.93939394],\n",
       "       [ 1.93939394, 14.06060606]]))"
      ]
     },
     "execution_count": 66,
     "metadata": {},
     "output_type": "execute_result"
    }
   ],
   "source": [
    "contingency_table = np.array([[4, 13], [0, 16]])\n",
    "chi2_contingency(contingency_table, correction=False)"
   ]
  },
  {
   "cell_type": "code",
   "execution_count": 16,
   "metadata": {},
   "outputs": [
    {
     "name": "stdout",
     "output_type": "stream",
     "text": [
      "Patient: 1\n",
      "Chi-square: 0.0, p-value: 1.0\n",
      "  -> The differences in are ***NOT*** statistically significant.\n",
      "\n",
      "------------------------------\n",
      "Patient: 2\n",
      "Chi-square: 0.47012867647058815, p-value: 0.4929279773130959\n",
      "  -> The differences in are ***NOT*** statistically significant.\n",
      "\n",
      "------------------------------\n",
      "Patient: 3\n",
      "Chi-square: 0.45622702205882326, p-value: 0.49939257864130693\n",
      "  -> The differences in are ***NOT*** statistically significant.\n",
      "\n",
      "------------------------------\n",
      "Patient: 4\n",
      "Chi-square: 0.4701286764705882, p-value: 0.4929279773130959\n",
      "  -> The differences in are ***NOT*** statistically significant.\n",
      "\n",
      "------------------------------\n",
      "Patient: 5\n",
      "Chi-square: 0.47012867647058815, p-value: 0.4929279773130959\n",
      "  -> The differences in are ***NOT*** statistically significant.\n",
      "\n",
      "------------------------------\n",
      "Patient: 6\n",
      "Chi-square: 2.35979494168357, p-value: 0.12449855341046362\n",
      "  -> The differences in are ***NOT*** statistically significant.\n",
      "\n",
      "------------------------------\n",
      "Patient: 7\n",
      "Chi-square: 5.154577341046712, p-value: 0.02318517777646421\n",
      "  -> The differences in are statistically significant.\n",
      "\n",
      "------------------------------\n",
      "Patient: 8\n",
      "Chi-square: 0.041163340336134405, p-value: 0.8392229594890738\n",
      "  -> The differences in are ***NOT*** statistically significant.\n",
      "\n",
      "------------------------------\n",
      "Patient: 9\n",
      "Chi-square: 0.0, p-value: 1.0\n",
      "  -> The differences in are ***NOT*** statistically significant.\n",
      "\n",
      "------------------------------\n",
      "Patient: 10\n",
      "Chi-square: 0.8238369360902253, p-value: 0.3640607190335835\n",
      "  -> The differences in are ***NOT*** statistically significant.\n",
      "\n",
      "------------------------------\n",
      "Patient: 11\n",
      "Chi-square: 0.032226562500000056, p-value: 0.8575313125805434\n",
      "  -> The differences in are ***NOT*** statistically significant.\n",
      "\n",
      "------------------------------\n",
      "Patient: 12\n",
      "Chi-square: 0.8238369360902252, p-value: 0.3640607190335834\n",
      "  -> The differences in are ***NOT*** statistically significant.\n",
      "\n",
      "------------------------------\n"
     ]
    }
   ],
   "source": [
    "# Loop through each unique patient\n",
    "for patient in all_choices['patient'].unique():\n",
    "    # Subset the data for the specific patient\n",
    "    subset_df = all_choices[all_choices['patient'] == patient]\n",
    "    \n",
    "    # Contingency table\n",
    "    contingency_table = pd.crosstab(subset_df['view'], subset_df['switch_choice'])\n",
    "    \n",
    "    # Chi-square test\n",
    "    chi2, p, dof, expected = chi2_contingency(contingency_table)\n",
    "    \n",
    "    print(f\"Patient: {patient}\")\n",
    "    print(f\"Chi-square: {chi2}, p-value: {p}\")\n",
    "    if p < 0.05:\n",
    "        print(f\"  -> The differences in are statistically significant.\\n\")\n",
    "    else:\n",
    "        print(f\"  -> The differences in are ***NOT*** statistically significant.\\n\")\n",
    "    print(\"-\" * 30)"
   ]
  },
  {
   "cell_type": "code",
   "execution_count": 131,
   "metadata": {},
   "outputs": [
    {
     "data": {
      "text/plain": [
       "Index(['user_id', 'user_archetype', 'switch_choice', 'explanation', 'patient',\n",
       "       'view', 'age_new', 'sex_new', 'medical_speciality_new', 'grade_new',\n",
       "       'ai_familiarity_new', 'view_binary', 'switch_choice_binary'],\n",
       "      dtype='object')"
      ]
     },
     "execution_count": 131,
     "metadata": {},
     "output_type": "execute_result"
    }
   ],
   "source": [
    "all_choices.columns"
   ]
  },
  {
   "cell_type": "code",
   "execution_count": 51,
   "metadata": {},
   "outputs": [
    {
     "name": "stdout",
     "output_type": "stream",
     "text": [
      "Demographic: age_new\n",
      "Chi-square: 4.897449438528277, p-value: 0.2979825941285748\n",
      "  -> The differences in are ***NOT*** statistically significant.\n",
      "\n",
      "------------------------------\n",
      "Demographic: sex_new\n",
      "Chi-square: 0.0008028111907014628, p-value: 0.9773958248388864\n",
      "  -> The differences in are ***NOT*** statistically significant.\n",
      "\n",
      "------------------------------\n",
      "Demographic: medical_speciality_new\n",
      "Chi-square: 6.56699553993783, p-value: 0.08705748178007759\n",
      "  -> The differences in are ***NOT*** statistically significant.\n",
      "\n",
      "------------------------------\n",
      "Demographic: grade_new\n",
      "Chi-square: 0.9749377328982692, p-value: 0.32345180222146486\n",
      "  -> The differences in are ***NOT*** statistically significant.\n",
      "\n",
      "------------------------------\n",
      "Demographic: ai_familiarity_new\n",
      "Chi-square: 6.069293585736774, p-value: 0.10828718138210097\n",
      "  -> The differences in are ***NOT*** statistically significant.\n",
      "\n",
      "------------------------------\n"
     ]
    }
   ],
   "source": [
    "# Loop through each demographic\n",
    "demographic_list = ['age_new', 'sex_new', 'medical_speciality_new', 'grade_new', 'ai_familiarity_new']\n",
    "for demographic in demographic_list:\n",
    "    # Contingency table\n",
    "    contingency_table = pd.crosstab(all_choices[demographic], all_choices['switch_choice'])\n",
    "    \n",
    "    # Chi-square test\n",
    "    chi2, p, dof, expected = chi2_contingency(contingency_table)\n",
    "    \n",
    "    print(f\"Demographic: {demographic}\")\n",
    "    print(f\"Chi-square: {chi2}, p-value: {p}\")\n",
    "    if p < 0.05:\n",
    "        print(f\"  -> The differences in are statistically significant.\\n\")\n",
    "    else:\n",
    "        print(f\"  -> The differences in are ***NOT*** statistically significant.\\n\")\n",
    "    print(\"-\" * 30)"
   ]
  },
  {
   "cell_type": "code",
   "execution_count": 33,
   "metadata": {},
   "outputs": [
    {
     "name": "stdout",
     "output_type": "stream",
     "text": [
      "Done\n"
     ]
    }
   ],
   "source": [
    "# Loop through each unique patient\n",
    "for patient in all_choices['patient'].unique():\n",
    "    # Loop through each demographic\n",
    "    demographic_list = ['age_new', 'sex_new', 'medical_speciality_new', 'grade_new', 'ai_familiarity_new']\n",
    "    for demographic in demographic_list:\n",
    "        # Subset the data for the specific patient\n",
    "        subset_df = all_choices[all_choices['patient'] == patient]\n",
    "        # Contingency table\n",
    "        contingency_table = pd.crosstab(subset_df[demographic], subset_df['switch_choice'])\n",
    "        \n",
    "        # Chi-square test\n",
    "        chi2, p, dof, expected = chi2_contingency(contingency_table)\n",
    "        if p < 0.05:\n",
    "            print(f\"Patient: {patient}\")\n",
    "            print(f\"Demographic: {demographic}\")\n",
    "            print(f\"Chi-square: {chi2}, p-value: {p}\")\n",
    "            print(f\"  -> The differences in are statistically significant.\\n\")\n",
    "        #else:\n",
    "        #    print(f\"  -> The differences in are ***NOT*** statistically significant.\\n\")\n",
    "        #print(\"-\" * 30)\n",
    "print('Done')"
   ]
  },
  {
   "cell_type": "code",
   "execution_count": 32,
   "metadata": {},
   "outputs": [
    {
     "name": "stdout",
     "output_type": "stream",
     "text": [
      "Done\n"
     ]
    }
   ],
   "source": [
    "# Filter for demographics and test\n",
    "\n",
    "# Loop through each demographic\n",
    "demographic_list = ['age_new', 'sex_new', 'medical_speciality_new', 'grade_new', 'ai_familiarity_new']\n",
    "for demographic in demographic_list:\n",
    "    for group in all_choices[demographic].unique():\n",
    "        if group == group: # Filter out nan\n",
    "            sub_df = all_choices[all_choices[demographic] == group]\n",
    "            # Contingency table\n",
    "            contingency_table = pd.crosstab(sub_df['view'], sub_df['switch_choice'])\n",
    "            \n",
    "            # Chi-square test\n",
    "            chi2, p, dof, expected = chi2_contingency(contingency_table)\n",
    "            if p < 0.05:\n",
    "                print(f\"Demographic: {demographic}\")\n",
    "                print(f\"group: {group}\")\n",
    "                print(f\"Chi-square: {chi2}, p-value: {p}\")\n",
    "                print(f\"  -> The differences in are statistically significant.\\n\")\n",
    "            #else:\n",
    "            #    print(f\"  -> The differences in are ***NOT*** statistically significant.\\n\")\n",
    "            #print(\"-\" * 30)\n",
    "print('Done')\n"
   ]
  },
  {
   "cell_type": "code",
   "execution_count": 36,
   "metadata": {},
   "outputs": [
    {
     "name": "stdout",
     "output_type": "stream",
     "text": [
      "Patient: 7\n",
      "Demographic: sex_new\n",
      "group: Male\n",
      "Chi-square: 3.8503124999999994, p-value: 0.04973672306126012\n",
      "  -> The differences in are statistically significant.\n",
      "\n",
      "switch_choice  dont_switch  switch\n",
      "view                              \n",
      "cdss                     7       3\n",
      "soc                      1       7\n",
      "Patient: 7\n",
      "Demographic: grade_new\n",
      "group: Consultant\n",
      "Chi-square: 3.915805785123967, p-value: 0.04783407913543005\n",
      "  -> The differences in are statistically significant.\n",
      "\n",
      "switch_choice  dont_switch  switch\n",
      "view                              \n",
      "cdss                     8       3\n",
      "soc                      2       8\n",
      "Done\n"
     ]
    }
   ],
   "source": [
    "# Filter for demographics and test for specific patients\n",
    "\n",
    "# Loop through each demographic\n",
    "demographic_list = ['age_new', 'sex_new', 'medical_speciality_new', 'grade_new', 'ai_familiarity_new']\n",
    "for demographic in demographic_list:\n",
    "    for group in all_choices[demographic].unique():\n",
    "        if group == group: # Filter out nan\n",
    "            # Loop through each unique patient\n",
    "            for patient in all_choices['patient'].unique():\n",
    "                # Subset the data for the specific patient\n",
    "                subset_df = all_choices[all_choices['patient'] == patient]\n",
    "                sub_df = subset_df[subset_df[demographic] == group]\n",
    "                # Contingency table\n",
    "                contingency_table = pd.crosstab(sub_df['view'], sub_df['switch_choice'])\n",
    "                \n",
    "                # Chi-square test\n",
    "                chi2, p, dof, expected = chi2_contingency(contingency_table)\n",
    "                if p < 0.05:\n",
    "                    print(f\"Patient: {patient}\")\n",
    "                    print(f\"Demographic: {demographic}\")\n",
    "                    print(f\"group: {group}\")\n",
    "                    print(f\"Chi-square: {chi2}, p-value: {p}\")\n",
    "                    print(f\"  -> The differences in are statistically significant.\\n\")\n",
    "                    print(contingency_table)\n",
    "                #else:\n",
    "                #    print(f\"  -> The differences in are ***NOT*** statistically significant.\\n\")\n",
    "                #print(\"-\" * 30)\n",
    "print('Done')"
   ]
  },
  {
   "cell_type": "markdown",
   "metadata": {},
   "source": [
    "# Plot"
   ]
  },
  {
   "cell_type": "code",
   "execution_count": 13,
   "metadata": {},
   "outputs": [
    {
     "data": {
      "text/plain": [
       "<Axes: xlabel='view', ylabel='switch_choice'>"
      ]
     },
     "execution_count": 13,
     "metadata": {},
     "output_type": "execute_result"
    },
    {
     "data": {
      "text/plain": [
       "Text(0.5, 1.0, 'Heatmap of Switch Choice by View')"
      ]
     },
     "execution_count": 13,
     "metadata": {},
     "output_type": "execute_result"
    },
    {
     "data": {
      "text/plain": [
       "Text(0.5, 606.7222222222223, 'View')"
      ]
     },
     "execution_count": 13,
     "metadata": {},
     "output_type": "execute_result"
    },
    {
     "data": {
      "text/plain": [
       "Text(158.08159722222223, 0.5, 'Switch Choice')"
      ]
     },
     "execution_count": 13,
     "metadata": {},
     "output_type": "execute_result"
    },
    {
     "data": {
      "text/plain": [
       "<Axes: xlabel='switch_choice'>"
      ]
     },
     "execution_count": 13,
     "metadata": {},
     "output_type": "execute_result"
    },
    {
     "data": {
      "text/plain": [
       "Text(0.5, 1.0, 'Stacked Bar Chart of Switch Choice by View')"
      ]
     },
     "execution_count": 13,
     "metadata": {},
     "output_type": "execute_result"
    },
    {
     "data": {
      "text/plain": [
       "Text(0.5, 606.7222222222223, 'Switch Choice')"
      ]
     },
     "execution_count": 13,
     "metadata": {},
     "output_type": "execute_result"
    },
    {
     "data": {
      "text/plain": [
       "Text(784.1881313131312, 0.5, 'Frequency')"
      ]
     },
     "execution_count": 13,
     "metadata": {},
     "output_type": "execute_result"
    },
    {
     "data": {
      "text/plain": [
       "(<Figure size 1500x1200 with 7 Axes>,\n",
       " {('dont_switch', 'cdss'): (0.0, 0.0, 0.3794160510578421, 0.5610437614133902),\n",
       "  ('dont_switch', 'soc'): (0.0,\n",
       "   0.5643660205496028,\n",
       "   0.3794160510578421,\n",
       "   0.4356339794503971),\n",
       "  ('switch', 'cdss'): (0.3843911754359515,\n",
       "   0.0,\n",
       "   0.6156088245640484,\n",
       "   0.4596921825208488),\n",
       "  ('switch', 'soc'): (0.3843911754359515,\n",
       "   0.46301444165706146,\n",
       "   0.6156088245640484,\n",
       "   0.5369855583429385)})"
      ]
     },
     "execution_count": 13,
     "metadata": {},
     "output_type": "execute_result"
    },
    {
     "data": {
      "text/plain": [
       "Text(0.5, 1.0, 'Mosaic Plot of Switch Choice by View')"
      ]
     },
     "execution_count": 13,
     "metadata": {},
     "output_type": "execute_result"
    },
    {
     "data": {
      "text/plain": [
       "Text(0.5, 102.72222222222219, 'View')"
      ]
     },
     "execution_count": 13,
     "metadata": {},
     "output_type": "execute_result"
    },
    {
     "data": {
      "text/plain": [
       "Text(150.09722222222223, 0.5, 'Switch Choice')"
      ]
     },
     "execution_count": 13,
     "metadata": {},
     "output_type": "execute_result"
    },
    {
     "data": {
      "image/png": "[encoded data removed]",
      "text/plain": [
       "<Figure size 1500x1200 with 7 Axes>"
      ]
     },
     "metadata": {},
     "output_type": "display_data"
    }
   ],
   "source": [
    "# Example contingency table\n",
    "contingency_table = pd.crosstab(all_choices['switch_choice'], all_choices['view'])\n",
    "\n",
    "fig, axs = plt.subplots(2, 2, figsize=(15, 12))\n",
    "\n",
    "# Heatmap\n",
    "sns.heatmap(contingency_table, annot=True, fmt='d', cmap='coolwarm', ax=axs[0, 0])\n",
    "axs[0, 0].set_title('Heatmap of Switch Choice by View')\n",
    "axs[0, 0].set_xlabel('View')\n",
    "axs[0, 0].set_ylabel('Switch Choice')\n",
    "\n",
    "# Stacked Bar Chart\n",
    "contingency_table.plot(kind='bar', stacked=True, ax=axs[0, 1])\n",
    "axs[0, 1].set_title('Stacked Bar Chart of Switch Choice by View')\n",
    "axs[0, 1].set_xlabel('Switch Choice')\n",
    "axs[0, 1].set_ylabel('Frequency')\n",
    "\n",
    "# Mosaic Plot\n",
    "contingency_dict = contingency_table.stack().reset_index().set_index(['switch_choice', 'view'])[0].to_dict()\n",
    "mosaic(contingency_dict, ax=axs[1, 0])\n",
    "axs[1, 0].set_title('Mosaic Plot of Switch Choice by View')\n",
    "axs[1, 0].set_xlabel('View')\n",
    "axs[1, 0].set_ylabel('Switch Choice')\n",
    "\n",
    "# Adjust layout\n",
    "plt.tight_layout()\n",
    "plt.show()"
   ]
  },
  {
   "cell_type": "code",
   "execution_count": 67,
   "metadata": {},
   "outputs": [
    {
     "data": {
      "text/plain": [
       "patient  view  switch_choice\n",
       "1        cdss  dont_switch      17\n",
       "         soc   dont_switch      16\n",
       "2        cdss  switch           16\n",
       "         soc   switch           15\n",
       "               dont_switch       2\n",
       "3        cdss  dont_switch      13\n",
       "               switch            3\n",
       "         soc   dont_switch      11\n",
       "               switch            6\n",
       "4        cdss  switch           15\n",
       "               dont_switch       2\n",
       "         soc   switch           16\n",
       "5        cdss  switch           16\n",
       "         soc   switch           15\n",
       "               dont_switch       2\n",
       "6        cdss  switch           13\n",
       "               dont_switch       4\n",
       "         soc   switch           16\n",
       "7        cdss  dont_switch      12\n",
       "               switch            5\n",
       "         soc   switch           12\n",
       "               dont_switch       4\n",
       "8        cdss  switch           10\n",
       "               dont_switch       6\n",
       "         soc   switch            9\n",
       "               dont_switch       8\n",
       "9        cdss  switch           14\n",
       "               dont_switch       2\n",
       "         soc   switch           14\n",
       "               dont_switch       3\n",
       "10       cdss  dont_switch       9\n",
       "               switch            8\n",
       "         soc   switch           11\n",
       "               dont_switch       5\n",
       "11       cdss  dont_switch       9\n",
       "               switch            8\n",
       "         soc   switch            9\n",
       "               dont_switch       7\n",
       "12       cdss  dont_switch      11\n",
       "               switch            5\n",
       "         soc   switch            9\n",
       "               dont_switch       8\n",
       "Name: count, dtype: int64"
      ]
     },
     "execution_count": 67,
     "metadata": {},
     "output_type": "execute_result"
    }
   ],
   "source": [
    "all_choices.groupby(['patient', 'view'])['switch_choice'].value_counts()"
   ]
  },
  {
   "cell_type": "code",
   "execution_count": 59,
   "metadata": {},
   "outputs": [
    {
     "data": {
      "text/plain": [
       "<Axes: xlabel='view', ylabel='switch_choice'>"
      ]
     },
     "execution_count": 59,
     "metadata": {},
     "output_type": "execute_result"
    },
    {
     "data": {
      "text/plain": [
       "Text(0.5, 1.0, 'Heatmap of Switch Choice by View')"
      ]
     },
     "execution_count": 59,
     "metadata": {},
     "output_type": "execute_result"
    },
    {
     "data": {
      "text/plain": [
       "Text(0.5, 25.722222222222214, 'View')"
      ]
     },
     "execution_count": 59,
     "metadata": {},
     "output_type": "execute_result"
    },
    {
     "data": {
      "text/plain": [
       "Text(158.08159722222223, 0.5, 'Switch Choice')"
      ]
     },
     "execution_count": 59,
     "metadata": {},
     "output_type": "execute_result"
    },
    {
     "data": {
      "text/plain": [
       "<Axes: xlabel='view'>"
      ]
     },
     "execution_count": 59,
     "metadata": {},
     "output_type": "execute_result"
    },
    {
     "data": {
      "text/plain": [
       "Text(0.5, 1.0, 'Stacked Bar Chart of Switch Choice by View')"
      ]
     },
     "execution_count": 59,
     "metadata": {},
     "output_type": "execute_result"
    },
    {
     "data": {
      "text/plain": [
       "Text(0.5, 25.722222222222214, 'View')"
      ]
     },
     "execution_count": 59,
     "metadata": {},
     "output_type": "execute_result"
    },
    {
     "data": {
      "text/plain": [
       "Text(784.1881313131312, 0.5, 'Frequency')"
      ]
     },
     "execution_count": 59,
     "metadata": {},
     "output_type": "execute_result"
    },
    {
     "data": {
      "text/plain": [
       "<matplotlib.legend.Legend at 0x7f19b26f6020>"
      ]
     },
     "execution_count": 59,
     "metadata": {},
     "output_type": "execute_result"
    },
    {
     "data": {
      "text/plain": [
       "[Text(0, 0, 'soc'), Text(1, 0, 'cdss')]"
      ]
     },
     "execution_count": 59,
     "metadata": {},
     "output_type": "execute_result"
    },
    {
     "data": {
      "image/png": "[encoded data removed]",
      "text/plain": [
       "<Figure size 1500x500 with 3 Axes>"
      ]
     },
     "metadata": {},
     "output_type": "display_data"
    }
   ],
   "source": [
    "from matplotlib.colors import LinearSegmentedColormap\n",
    "\n",
    "# Patient 6\n",
    "contingency_table = pd.crosstab(all_choices[all_choices['patient'] == 6]['switch_choice'], all_choices[all_choices['patient'] == 6]['view'])\n",
    "\n",
    "# Function to truncate a colormap\n",
    "def truncate_colormap(cmap, minval=0.0, maxval=1.0, n=100):\n",
    "    new_cmap = LinearSegmentedColormap.from_list(\n",
    "        'truncated_cmap', cmap(np.linspace(minval, maxval, n)))\n",
    "    return new_cmap\n",
    "\n",
    "# Choose a colormap and truncate it to focus on the central part\n",
    "original_cmap = plt.get_cmap('rainbow')\n",
    "truncated_cmap = truncate_colormap(original_cmap, 0.1, 0.8)\n",
    "\n",
    "# Reorder soc and cdss\n",
    "col = contingency_table.pop('soc')\n",
    "contingency_table.insert(0, col.name, col)\n",
    "\n",
    "# Fig\n",
    "fig, axs = plt.subplots(1, 2, figsize=(15, 5))\n",
    "\n",
    "# Heatmap\n",
    "sns.heatmap(contingency_table.reindex([\"switch\", \"dont_switch\"]), annot=True, fmt='d', cmap=truncated_cmap, ax=axs[0])\n",
    "axs[0].set_title('Heatmap of Switch Choice by View')\n",
    "axs[0].set_xlabel('View')\n",
    "axs[0].set_ylabel('Switch Choice')\n",
    "\n",
    "# Stacked Bar Chart\n",
    "contingency_table.T.plot(kind='bar', stacked=True, ax=axs[1])\n",
    "axs[1].set_title('Stacked Bar Chart of Switch Choice by View')\n",
    "axs[1].set_xlabel('View')\n",
    "axs[1].set_ylabel('Frequency')\n",
    "\n",
    "# Place legend outside the plot\n",
    "handles, labels = axs[1].get_legend_handles_labels()\n",
    "axs[1].legend(handles, labels, loc='center left', bbox_to_anchor=(1, 0.5))\n",
    "# Rotate x labels\n",
    "axs[1].set_xticklabels(axs[1].get_xticklabels(), rotation=0)\n",
    "\n",
    "\n",
    "# Adjust layout\n",
    "plt.tight_layout()\n",
    "plt.show()"
   ]
  },
  {
   "cell_type": "code",
   "execution_count": 58,
   "metadata": {},
   "outputs": [
    {
     "data": {
      "text/plain": [
       "<Axes: xlabel='view', ylabel='switch_choice'>"
      ]
     },
     "execution_count": 58,
     "metadata": {},
     "output_type": "execute_result"
    },
    {
     "data": {
      "text/plain": [
       "Text(0.5, 1.0, 'Heatmap of Switch Choice by View')"
      ]
     },
     "execution_count": 58,
     "metadata": {},
     "output_type": "execute_result"
    },
    {
     "data": {
      "text/plain": [
       "Text(0.5, 25.722222222222214, 'View')"
      ]
     },
     "execution_count": 58,
     "metadata": {},
     "output_type": "execute_result"
    },
    {
     "data": {
      "text/plain": [
       "Text(158.08159722222223, 0.5, 'Switch Choice')"
      ]
     },
     "execution_count": 58,
     "metadata": {},
     "output_type": "execute_result"
    },
    {
     "data": {
      "text/plain": [
       "<Axes: xlabel='view'>"
      ]
     },
     "execution_count": 58,
     "metadata": {},
     "output_type": "execute_result"
    },
    {
     "data": {
      "text/plain": [
       "Text(0.5, 1.0, 'Stacked Bar Chart of Switch Choice by View')"
      ]
     },
     "execution_count": 58,
     "metadata": {},
     "output_type": "execute_result"
    },
    {
     "data": {
      "text/plain": [
       "Text(0.5, 25.722222222222214, 'View')"
      ]
     },
     "execution_count": 58,
     "metadata": {},
     "output_type": "execute_result"
    },
    {
     "data": {
      "text/plain": [
       "Text(784.1881313131312, 0.5, 'Frequency')"
      ]
     },
     "execution_count": 58,
     "metadata": {},
     "output_type": "execute_result"
    },
    {
     "data": {
      "text/plain": [
       "<matplotlib.legend.Legend at 0x7f19b27441f0>"
      ]
     },
     "execution_count": 58,
     "metadata": {},
     "output_type": "execute_result"
    },
    {
     "data": {
      "text/plain": [
       "[Text(0, 0, 'soc'), Text(1, 0, 'cdss')]"
      ]
     },
     "execution_count": 58,
     "metadata": {},
     "output_type": "execute_result"
    },
    {
     "data": {
      "image/png": "[encoded data removed]",
      "text/plain": [
       "<Figure size 1500x500 with 3 Axes>"
      ]
     },
     "metadata": {},
     "output_type": "display_data"
    }
   ],
   "source": [
    "from matplotlib.colors import LinearSegmentedColormap\n",
    "\n",
    "# Patient 7\n",
    "contingency_table = pd.crosstab(all_choices[all_choices['patient'] == 7]['switch_choice'], all_choices[all_choices['patient'] == 7]['view'])\n",
    "\n",
    "# Function to truncate a colormap\n",
    "def truncate_colormap(cmap, minval=0.0, maxval=1.0, n=100):\n",
    "    new_cmap = LinearSegmentedColormap.from_list(\n",
    "        'truncated_cmap', cmap(np.linspace(minval, maxval, n)))\n",
    "    return new_cmap\n",
    "\n",
    "# Choose a colormap and truncate it to focus on the central part\n",
    "original_cmap = plt.get_cmap('rainbow')\n",
    "truncated_cmap = truncate_colormap(original_cmap, 0.1, 0.8)\n",
    "\n",
    "# Reorder soc and cdss\n",
    "col = contingency_table.pop('soc')\n",
    "contingency_table.insert(0, col.name, col)\n",
    "\n",
    "# Fig\n",
    "fig, axs = plt.subplots(1, 2, figsize=(15, 5))\n",
    "\n",
    "# Heatmap\n",
    "sns.heatmap(contingency_table.reindex([\"switch\", \"dont_switch\"]), annot=True, fmt='d', cmap=truncated_cmap, ax=axs[0])\n",
    "axs[0].set_title('Heatmap of Switch Choice by View')\n",
    "axs[0].set_xlabel('View')\n",
    "axs[0].set_ylabel('Switch Choice')\n",
    "\n",
    "# Stacked Bar Chart\n",
    "contingency_table.T.plot(kind='bar', stacked=True, ax=axs[1])\n",
    "axs[1].set_title('Stacked Bar Chart of Switch Choice by View')\n",
    "axs[1].set_xlabel('View')\n",
    "axs[1].set_ylabel('Frequency')\n",
    "\n",
    "# Place legend outside the plot\n",
    "handles, labels = axs[1].get_legend_handles_labels()\n",
    "axs[1].legend(handles, labels, loc='center left', bbox_to_anchor=(1, 0.5))\n",
    "# Rotate x labels\n",
    "axs[1].set_xticklabels(axs[1].get_xticklabels(), rotation=0)\n",
    "\n",
    "\n",
    "# Adjust layout\n",
    "plt.tight_layout()\n",
    "plt.show()"
   ]
  },
  {
   "cell_type": "code",
   "execution_count": 60,
   "metadata": {},
   "outputs": [
    {
     "data": {
      "text/plain": [
       "<Axes: xlabel='view', ylabel='switch_choice'>"
      ]
     },
     "execution_count": 60,
     "metadata": {},
     "output_type": "execute_result"
    },
    {
     "data": {
      "text/plain": [
       "Text(0.5, 1.0, 'Heatmap of Switch Choice by View')"
      ]
     },
     "execution_count": 60,
     "metadata": {},
     "output_type": "execute_result"
    },
    {
     "data": {
      "text/plain": [
       "Text(0.5, 25.722222222222214, 'View')"
      ]
     },
     "execution_count": 60,
     "metadata": {},
     "output_type": "execute_result"
    },
    {
     "data": {
      "text/plain": [
       "Text(158.08159722222223, 0.5, 'Switch Choice')"
      ]
     },
     "execution_count": 60,
     "metadata": {},
     "output_type": "execute_result"
    },
    {
     "data": {
      "text/plain": [
       "<Axes: xlabel='view'>"
      ]
     },
     "execution_count": 60,
     "metadata": {},
     "output_type": "execute_result"
    },
    {
     "data": {
      "text/plain": [
       "Text(0.5, 1.0, 'Stacked Bar Chart of Switch Choice by View')"
      ]
     },
     "execution_count": 60,
     "metadata": {},
     "output_type": "execute_result"
    },
    {
     "data": {
      "text/plain": [
       "Text(0.5, 25.722222222222214, 'View')"
      ]
     },
     "execution_count": 60,
     "metadata": {},
     "output_type": "execute_result"
    },
    {
     "data": {
      "text/plain": [
       "Text(784.1881313131312, 0.5, 'Frequency')"
      ]
     },
     "execution_count": 60,
     "metadata": {},
     "output_type": "execute_result"
    },
    {
     "data": {
      "text/plain": [
       "<matplotlib.legend.Legend at 0x7f19b240d090>"
      ]
     },
     "execution_count": 60,
     "metadata": {},
     "output_type": "execute_result"
    },
    {
     "data": {
      "text/plain": [
       "[Text(0, 0, 'soc'), Text(1, 0, 'cdss')]"
      ]
     },
     "execution_count": 60,
     "metadata": {},
     "output_type": "execute_result"
    },
    {
     "data": {
      "image/png": "[encoded data removed]",
      "text/plain": [
       "<Figure size 1500x500 with 3 Axes>"
      ]
     },
     "metadata": {},
     "output_type": "display_data"
    }
   ],
   "source": [
    "from matplotlib.colors import LinearSegmentedColormap\n",
    "\n",
    "# Patient 7\n",
    "contingency_table = pd.crosstab(all_choices[all_choices['patient'] == 10]['switch_choice'], all_choices[all_choices['patient'] == 10]['view'])\n",
    "\n",
    "# Function to truncate a colormap\n",
    "def truncate_colormap(cmap, minval=0.0, maxval=1.0, n=100):\n",
    "    new_cmap = LinearSegmentedColormap.from_list(\n",
    "        'truncated_cmap', cmap(np.linspace(minval, maxval, n)))\n",
    "    return new_cmap\n",
    "\n",
    "# Choose a colormap and truncate it to focus on the central part\n",
    "original_cmap = plt.get_cmap('rainbow')\n",
    "truncated_cmap = truncate_colormap(original_cmap, 0.1, 0.8)\n",
    "\n",
    "# Reorder soc and cdss\n",
    "col = contingency_table.pop('soc')\n",
    "contingency_table.insert(0, col.name, col)\n",
    "\n",
    "# Fig\n",
    "fig, axs = plt.subplots(1, 2, figsize=(15, 5))\n",
    "\n",
    "# Heatmap\n",
    "sns.heatmap(contingency_table.reindex([\"switch\", \"dont_switch\"]), annot=True, fmt='d', cmap=truncated_cmap, ax=axs[0])\n",
    "axs[0].set_title('Heatmap of Switch Choice by View')\n",
    "axs[0].set_xlabel('View')\n",
    "axs[0].set_ylabel('Switch Choice')\n",
    "\n",
    "# Stacked Bar Chart\n",
    "contingency_table.T.plot(kind='bar', stacked=True, ax=axs[1])\n",
    "axs[1].set_title('Stacked Bar Chart of Switch Choice by View')\n",
    "axs[1].set_xlabel('View')\n",
    "axs[1].set_ylabel('Frequency')\n",
    "\n",
    "# Place legend outside the plot\n",
    "handles, labels = axs[1].get_legend_handles_labels()\n",
    "axs[1].legend(handles, labels, loc='center left', bbox_to_anchor=(1, 0.5))\n",
    "# Rotate x labels\n",
    "axs[1].set_xticklabels(axs[1].get_xticklabels(), rotation=0)\n",
    "\n",
    "\n",
    "# Adjust layout\n",
    "plt.tight_layout()\n",
    "plt.show()"
   ]
  },
  {
   "cell_type": "markdown",
   "metadata": {},
   "source": [
    "# Others"
   ]
  },
  {
   "cell_type": "code",
   "execution_count": null,
   "metadata": {},
   "outputs": [],
   "source": [
    "# Cant get this to work atm\n",
    "\n",
    "# Define contingency table\n",
    "contingency_table = pd.crosstab(all_choices['switch_choice'], all_choices['view'])\n",
    "\n",
    "# Fit a log-linear model\n",
    "exog, endog = sm.add_constant(all_choices['view']), all_choices['switch_choice']\n",
    "mod = sm.GLM(endog, exog, family=sm.families.Poisson ,link=sm.families.links.log)\n",
    "res = mod.fit()\n",
    "\n",
    "# Summary of the results\n",
    "print(res.summary())"
   ]
  },
  {
   "cell_type": "code",
   "execution_count": 61,
   "metadata": {},
   "outputs": [],
   "source": [
    "# Function for Cochran-Mantel-Haenszel test\n",
    "def cmh_test(df, exposure, outcome, stratify_by):\n",
    "    #print(stratify_by)\n",
    "    tables = []\n",
    "    \n",
    "    for stratify_level in df[stratify_by].unique():\n",
    "        if stratify_level == stratify_level: # remove nan\n",
    "            subset = df[df[stratify_by] == stratify_level]\n",
    "            table = pd.crosstab(subset[exposure], subset[outcome])\n",
    "            tables.append(table.values)\n",
    "    #print(tables)\n",
    "    \n",
    "    # Sum tables across stratification levels\n",
    "    summed_table = sum(tables)\n",
    "    #print(summed_table)\n",
    "    \n",
    "    # Perform Chi-Square Test on the summed table\n",
    "    chi2, p, dof, expected = chi2_contingency(summed_table, correction=False)\n",
    "    \n",
    "    return chi2, p, tables, summed_table"
   ]
  },
  {
   "cell_type": "code",
   "execution_count": 54,
   "metadata": {},
   "outputs": [
    {
     "name": "stdout",
     "output_type": "stream",
     "text": [
      "user_archetype\n",
      "[[ 85 113]\n",
      " [ 66 132]]\n",
      "Cochran-Mantel-Haenszel Chi2: 3.864197864576294, p-value: 0.049326766966655854\n",
      "age_new\n",
      "[[ 81 111]\n",
      " [ 62 130]]\n",
      "Cochran-Mantel-Haenszel Chi2: 4.0224008356788445, p-value: 0.04489975447312349\n",
      "sex_new\n",
      "[[ 85 113]\n",
      " [ 66 132]]\n",
      "Cochran-Mantel-Haenszel Chi2: 3.864197864576294, p-value: 0.049326766966655854\n",
      "medical_speciality_new\n",
      "[[ 85 113]\n",
      " [ 66 132]]\n",
      "Cochran-Mantel-Haenszel Chi2: 3.864197864576294, p-value: 0.049326766966655854\n",
      "grade_new\n",
      "[[ 85 113]\n",
      " [ 66 132]]\n",
      "Cochran-Mantel-Haenszel Chi2: 3.864197864576294, p-value: 0.049326766966655854\n",
      "ai_familiarity_new\n",
      "[[ 74 100]\n",
      " [ 56 118]]\n",
      "Cochran-Mantel-Haenszel Chi2: 3.9785462244177836, p-value: 0.04608332058679349\n"
     ]
    }
   ],
   "source": [
    "# Loop through each demographic\n",
    "demographic_list = ['user_archetype', 'age_new', 'sex_new', 'medical_speciality_new', 'grade_new', 'ai_familiarity_new']\n",
    "for demographic in demographic_list:\n",
    "    chi2, p, tables, summed_table = cmh_test(all_choices, 'view', 'switch_choice', demographic)\n",
    "    print(f\"Cochran-Mantel-Haenszel Chi2: {chi2}, p-value: {p}\")"
   ]
  },
  {
   "cell_type": "code",
   "execution_count": 62,
   "metadata": {},
   "outputs": [
    {
     "name": "stdout",
     "output_type": "stream",
     "text": [
      "Patient: 6\n",
      "Demographic: sex_new\n",
      "Cochran-Mantel-Haenszel Chi-square: 4.283975659229209, p-value: 0.03847325866217401\n",
      "  -> The differences in are statistically significant.\n",
      "\n",
      "[array([[2, 8],\n",
      "       [0, 8]]), array([[2, 5],\n",
      "       [0, 8]])]\n",
      "[[ 4 13]\n",
      " [ 0 16]]\n",
      "Patient: 6\n",
      "Demographic: grade_new\n",
      "Cochran-Mantel-Haenszel Chi-square: 4.283975659229209, p-value: 0.03847325866217401\n",
      "  -> The differences in are statistically significant.\n",
      "\n",
      "[array([[2, 4],\n",
      "       [0, 6]]), array([[ 2,  9],\n",
      "       [ 0, 10]])]\n",
      "[[ 4 13]\n",
      " [ 0 16]]\n",
      "Patient: 7\n",
      "Demographic: age_new\n",
      "Cochran-Mantel-Haenszel Chi-square: 5.764705882352941, p-value: 0.016351221575805836\n",
      "  -> The differences in are statistically significant.\n",
      "\n",
      "[array([[6, 1],\n",
      "       [2, 3]]), array([[3, 1],\n",
      "       [1, 5]]), array([[1, 2],\n",
      "       [1, 2]]), array([[1],\n",
      "       [1]]), array([[1, 0],\n",
      "       [0, 1]])]\n",
      "[[12  5]\n",
      " [ 5 12]]\n",
      "Patient: 7\n",
      "Demographic: sex_new\n",
      "Cochran-Mantel-Haenszel Chi-square: 6.858347750865052, p-value: 0.008822809435952395\n",
      "  -> The differences in are statistically significant.\n",
      "\n",
      "[array([[7, 3],\n",
      "       [1, 7]]), array([[5, 2],\n",
      "       [3, 5]])]\n",
      "[[12  5]\n",
      " [ 4 12]]\n",
      "Patient: 7\n",
      "Demographic: medical_speciality_new\n",
      "Cochran-Mantel-Haenszel Chi-square: 6.858347750865052, p-value: 0.008822809435952395\n",
      "  -> The differences in are statistically significant.\n",
      "\n",
      "[array([[4, 0],\n",
      "       [1, 1]]), array([[2, 3],\n",
      "       [2, 4]]), array([[2, 1],\n",
      "       [0, 3]]), array([[4, 1],\n",
      "       [1, 4]])]\n",
      "[[12  5]\n",
      " [ 4 12]]\n",
      "Patient: 7\n",
      "Demographic: grade_new\n",
      "Cochran-Mantel-Haenszel Chi-square: 6.858347750865052, p-value: 0.008822809435952395\n",
      "  -> The differences in are statistically significant.\n",
      "\n",
      "[array([[4, 2],\n",
      "       [2, 4]]), array([[8, 3],\n",
      "       [2, 8]])]\n",
      "[[12  5]\n",
      " [ 4 12]]\n",
      "Patient: 7\n",
      "Demographic: ai_familiarity_new\n",
      "Cochran-Mantel-Haenszel Chi-square: 4.441368704344483, p-value: 0.035078114724316954\n",
      "  -> The differences in are statistically significant.\n",
      "\n",
      "[array([[7, 2],\n",
      "       [1, 3]]), array([[1, 0],\n",
      "       [2, 4]]), array([[1, 2],\n",
      "       [1, 4]]), array([[1]])]\n",
      "[[10  5]\n",
      " [ 5 12]]\n",
      "Done\n"
     ]
    }
   ],
   "source": [
    "# Loop through each unique patient\n",
    "for patient in all_choices['patient'].unique():\n",
    "    # Subset the data for the specific patient\n",
    "    subset_df = all_choices[all_choices['patient'] == patient]\n",
    "    # Loop through each demographic\n",
    "    demographic_list = ['user_archetype', 'age_new', 'sex_new', 'medical_speciality_new', 'grade_new', 'ai_familiarity_new']\n",
    "    for demographic in demographic_list:\n",
    "        chi2, p, tables, summed_table = cmh_test(subset_df, 'view', 'switch_choice', demographic)\n",
    "        if p < 0.05:\n",
    "            print(f\"Patient: {patient}\")\n",
    "            print(f\"Demographic: {demographic}\")\n",
    "            print(f\"Cochran-Mantel-Haenszel Chi-square: {chi2}, p-value: {p}\")\n",
    "            print(f\"  -> The differences in are statistically significant.\\n\")\n",
    "            print(tables)\n",
    "            print(summed_table)\n",
    "print('Done')"
   ]
  },
  {
   "cell_type": "code",
   "execution_count": 49,
   "metadata": {},
   "outputs": [
    {
     "name": "stdout",
     "output_type": "stream",
     "text": [
      "[array([[17],\n",
      "       [16]]), array([[ 0, 16],\n",
      "       [ 2, 15]]), array([[13,  3],\n",
      "       [11,  6]]), array([[ 2, 15],\n",
      "       [ 0, 16]]), array([[ 0, 16],\n",
      "       [ 2, 15]]), array([[ 4, 13],\n",
      "       [ 0, 16]]), array([[12,  5],\n",
      "       [ 4, 12]]), array([[ 6, 10],\n",
      "       [ 8,  9]]), array([[ 2, 14],\n",
      "       [ 3, 14]]), array([[ 9,  8],\n",
      "       [ 5, 11]]), array([[9, 8],\n",
      "       [7, 9]]), array([[11,  5],\n",
      "       [ 8,  9]])]\n",
      "[[ 85 130]\n",
      " [ 66 148]]\n",
      "Cochran-Mantel-Haenszel Chi2: 3.5538844106758236, p-value: 0.05940622814531912\n"
     ]
    }
   ],
   "source": [
    "chi2, p = cmh_test(all_choices, 'view', 'switch_choice', 'patient')\n",
    "print(f\"Cochran-Mantel-Haenszel Chi2: {chi2}, p-value: {p}\")"
   ]
  },
  {
   "cell_type": "markdown",
   "metadata": {},
   "source": [
    "# LR"
   ]
  },
  {
   "cell_type": "code",
   "execution_count": 64,
   "metadata": {},
   "outputs": [],
   "source": [
    "# Create a mapping dictionary\n",
    "view_mapping = {'cdss': 1, 'soc': 0, '1': 1, '0': 0}\n",
    "switch_choice_mapping = {'switch': 1, 'dont_switch': 0, '1': 1, '0': 0}\n",
    "\n",
    "# Map categorical values to numeric\n",
    "all_choices['view_binary'] = all_choices['view'].map(view_mapping).astype('int')\n",
    "all_choices['switch_choice_binary'] = all_choices['switch_choice'].map(switch_choice_mapping).astype('int')"
   ]
  },
  {
   "cell_type": "code",
   "execution_count": 65,
   "metadata": {},
   "outputs": [
    {
     "name": "stdout",
     "output_type": "stream",
     "text": [
      "                            Logit Regression Results                            \n",
      "================================================================================\n",
      "Dep. Variable:     switch_choice_binary   No. Observations:                  384\n",
      "Model:                            Logit   Df Residuals:                      382\n",
      "Method:                             MLE   Df Model:                            1\n",
      "Date:                  Wed, 10 Jul 2024   Pseudo R-squ.:                0.007803\n",
      "Time:                          18:05:25   Log-Likelihood:                -253.53\n",
      "converged:                         True   LL-Null:                       -255.52\n",
      "Covariance Type:              nonrobust   LLR p-value:                   0.04584\n",
      "===============================================================================\n",
      "                  coef    std err          z      P>|z|      [0.025      0.975]\n",
      "-------------------------------------------------------------------------------\n",
      "const           0.6931      0.153      4.528      0.000       0.393       0.993\n",
      "view_binary    -0.4206      0.211     -1.990      0.047      -0.835      -0.006\n",
      "===============================================================================\n"
     ]
    }
   ],
   "source": [
    "# Logistic regression model\n",
    "X = all_choices['view_binary']\n",
    "y = all_choices['switch_choice_binary']\n",
    "\n",
    "# Adding a constant to the model (intercept)\n",
    "X = sm.add_constant(X)\n",
    "\n",
    "# Fitting the model\n",
    "logit_model = sm.Logit(y, X).fit(disp=0)\n",
    "\n",
    "# Model summary\n",
    "print(logit_model.summary())"
   ]
  },
  {
   "cell_type": "markdown",
   "metadata": {},
   "source": [
    "LLR p-value:\n",
    "LLR p-value: 0.04584 - This is the p-value for the likelihood ratio test, which tests whether your model with predictors is significantly better than a model with no predictors. A p-value less than 0.05 indicates that your model is statistically significant.\n",
    "\n",
    "Interpretation of Coefficient for view_binary\n",
    "Coefficient (coef): -0.4206\n",
    "The negative coefficient for view_binary means that an increase in the value of view_binary is associated with a decrease in the log odds of the outcome switch_choice_binary being 1.\n",
    "To interpret this in terms of odds ratio:\n",
    "Odds Ratio: exp(coef)=exp(−0.4206)≈0.657\n",
    "The odds of switch_choice_binary being 1 are about 65.7% of the odds when view_binary is 0. In other words, if view_binary changes from 0 to 1, the odds of switch_choice_binary being 1 decrease by approximately 34.3%.\n",
    "Significance (P>|z|): 0.047\n",
    "\n",
    "The p-value is less than 0.05, which indicates that the effect of view_binary on switch_choice_binary is statistically significant.\n",
    "Summary\n",
    "Intercept: Significant, but its practical interpretation depends on the context of switch_choice_binary.\n",
    "view_binary: Has a statistically significant negative effect on switch_choice_binary, suggesting that when view_binary increases, the probability of switch_choice_binary being 1 decreases."
   ]
  },
  {
   "cell_type": "code",
   "execution_count": 76,
   "metadata": {},
   "outputs": [
    {
     "name": "stdout",
     "output_type": "stream",
     "text": [
      "Patient: 1\n",
      "                            Logit Regression Results                            \n",
      "================================================================================\n",
      "Dep. Variable:     switch_choice_binary   No. Observations:                   32\n",
      "Model:                            Logit   Df Residuals:                       30\n",
      "Method:                             MLE   Df Model:                            1\n",
      "Date:                  Wed, 10 Jul 2024   Pseudo R-squ.:                     inf\n",
      "Time:                          18:34:51   Log-Likelihood:            -2.4486e-07\n",
      "converged:                        False   LL-Null:                        0.0000\n",
      "Covariance Type:              nonrobust   LLR p-value:                     1.000\n",
      "===============================================================================\n",
      "                  coef    std err          z      P>|z|      [0.025      0.975]\n",
      "-------------------------------------------------------------------------------\n",
      "const         -17.9952   2020.883     -0.009      0.993   -3978.852    3942.862\n",
      "view_binary   -26.7135   1.28e+09  -2.09e-08      1.000    -2.5e+09     2.5e+09\n",
      "===============================================================================\n",
      "\n",
      "Complete Separation: The results show that there iscomplete separation or perfect prediction.\n",
      "In this case the Maximum Likelihood Estimator does not exist and the parameters\n",
      "are not identified.\n",
      "------------------------------\n",
      "Patient: 2\n",
      "                            Logit Regression Results                            \n",
      "================================================================================\n",
      "Dep. Variable:     switch_choice_binary   No. Observations:                   32\n",
      "Model:                            Logit   Df Residuals:                       30\n",
      "Method:                             MLE   Df Model:                            1\n",
      "Date:                  Wed, 10 Jul 2024   Pseudo R-squ.:                  0.1942\n",
      "Time:                          18:34:51   Log-Likelihood:                -6.0283\n",
      "converged:                        False   LL-Null:                       -7.4813\n",
      "Covariance Type:              nonrobust   LLR p-value:                   0.08825\n",
      "===============================================================================\n",
      "                  coef    std err          z      P>|z|      [0.025      0.975]\n",
      "-------------------------------------------------------------------------------\n",
      "const           1.9459      0.756      2.574      0.010       0.464       3.428\n",
      "view_binary    29.8418   1.99e+06    1.5e-05      1.000    -3.9e+06     3.9e+06\n",
      "===============================================================================\n",
      "\n",
      "Possibly complete quasi-separation: A fraction 0.50 of observations can be\n",
      "perfectly predicted. This might indicate that there is complete\n",
      "quasi-separation. In this case some parameters will not be identified.\n",
      "------------------------------\n",
      "Patient: 3\n",
      "                            Logit Regression Results                            \n",
      "================================================================================\n",
      "Dep. Variable:     switch_choice_binary   No. Observations:                   32\n",
      "Model:                            Logit   Df Residuals:                       30\n",
      "Method:                             MLE   Df Model:                            1\n",
      "Date:                  Wed, 10 Jul 2024   Pseudo R-squ.:                 0.01868\n",
      "Time:                          18:34:51   Log-Likelihood:                -17.659\n",
      "converged:                         True   LL-Null:                       -17.995\n",
      "Covariance Type:              nonrobust   LLR p-value:                    0.4123\n",
      "===============================================================================\n",
      "                  coef    std err          z      P>|z|      [0.025      0.975]\n",
      "-------------------------------------------------------------------------------\n",
      "const          -0.7885      0.539     -1.462      0.144      -1.846       0.269\n",
      "view_binary    -0.6779      0.837     -0.810      0.418      -2.319       0.963\n",
      "===============================================================================\n",
      "------------------------------\n",
      "Patient: 4\n",
      "                            Logit Regression Results                            \n",
      "================================================================================\n",
      "Dep. Variable:     switch_choice_binary   No. Observations:                   32\n",
      "Model:                            Logit   Df Residuals:                       30\n",
      "Method:                             MLE   Df Model:                            1\n",
      "Date:                  Wed, 10 Jul 2024   Pseudo R-squ.:                  0.1942\n",
      "Time:                          18:34:51   Log-Likelihood:                -6.0283\n",
      "converged:                        False   LL-Null:                       -7.4813\n",
      "Covariance Type:              nonrobust   LLR p-value:                   0.08825\n",
      "===============================================================================\n",
      "                  coef    std err          z      P>|z|      [0.025      0.975]\n",
      "-------------------------------------------------------------------------------\n",
      "const          20.8037   8229.954      0.003      0.998   -1.61e+04    1.62e+04\n",
      "view_binary   -18.8577   8229.954     -0.002      0.998   -1.61e+04    1.61e+04\n",
      "===============================================================================\n",
      "\n",
      "Possibly complete quasi-separation: A fraction 0.50 of observations can be\n",
      "perfectly predicted. This might indicate that there is complete\n",
      "quasi-separation. In this case some parameters will not be identified.\n",
      "------------------------------\n",
      "Patient: 5\n",
      "                            Logit Regression Results                            \n",
      "================================================================================\n",
      "Dep. Variable:     switch_choice_binary   No. Observations:                   32\n",
      "Model:                            Logit   Df Residuals:                       30\n",
      "Method:                             MLE   Df Model:                            1\n",
      "Date:                  Wed, 10 Jul 2024   Pseudo R-squ.:                  0.1942\n",
      "Time:                          18:34:51   Log-Likelihood:                -6.0283\n",
      "converged:                        False   LL-Null:                       -7.4813\n",
      "Covariance Type:              nonrobust   LLR p-value:                   0.08825\n",
      "===============================================================================\n",
      "                  coef    std err          z      P>|z|      [0.025      0.975]\n",
      "-------------------------------------------------------------------------------\n",
      "const           1.9459      0.756      2.574      0.010       0.464       3.428\n",
      "view_binary    29.8418   1.99e+06    1.5e-05      1.000    -3.9e+06     3.9e+06\n",
      "===============================================================================\n",
      "\n",
      "Possibly complete quasi-separation: A fraction 0.50 of observations can be\n",
      "perfectly predicted. This might indicate that there is complete\n",
      "quasi-separation. In this case some parameters will not be identified.\n",
      "------------------------------\n",
      "Patient: 6\n",
      "                            Logit Regression Results                            \n",
      "================================================================================\n",
      "Dep. Variable:     switch_choice_binary   No. Observations:                   32\n",
      "Model:                            Logit   Df Residuals:                       30\n",
      "Method:                             MLE   Df Model:                            1\n",
      "Date:                  Wed, 10 Jul 2024   Pseudo R-squ.:                  0.2537\n",
      "Time:                          18:34:51   Log-Likelihood:                -8.9974\n",
      "converged:                        False   LL-Null:                       -12.057\n",
      "Covariance Type:              nonrobust   LLR p-value:                   0.01338\n",
      "===============================================================================\n",
      "                  coef    std err          z      P>|z|      [0.025      0.975]\n",
      "-------------------------------------------------------------------------------\n",
      "const          20.7958   8197.811      0.003      0.998    -1.6e+04    1.61e+04\n",
      "view_binary   -19.6972   8197.811     -0.002      0.998   -1.61e+04     1.6e+04\n",
      "===============================================================================\n",
      "\n",
      "Possibly complete quasi-separation: A fraction 0.50 of observations can be\n",
      "perfectly predicted. This might indicate that there is complete\n",
      "quasi-separation. In this case some parameters will not be identified.\n",
      "------------------------------\n",
      "Patient: 7\n",
      "                            Logit Regression Results                            \n",
      "================================================================================\n",
      "Dep. Variable:     switch_choice_binary   No. Observations:                   32\n",
      "Model:                            Logit   Df Residuals:                       30\n",
      "Method:                             MLE   Df Model:                            1\n",
      "Date:                  Wed, 10 Jul 2024   Pseudo R-squ.:                  0.1887\n",
      "Time:                          18:34:51   Log-Likelihood:                -17.995\n",
      "converged:                         True   LL-Null:                       -22.181\n",
      "Covariance Type:              nonrobust   LLR p-value:                  0.003811\n",
      "===============================================================================\n",
      "                  coef    std err          z      P>|z|      [0.025      0.975]\n",
      "-------------------------------------------------------------------------------\n",
      "const           1.0986      0.577      1.903      0.057      -0.033       2.230\n",
      "view_binary    -2.1972      0.816     -2.691      0.007      -3.798      -0.597\n",
      "===============================================================================\n",
      "------------------------------\n",
      "Patient: 8\n",
      "                            Logit Regression Results                            \n",
      "================================================================================\n",
      "Dep. Variable:     switch_choice_binary   No. Observations:                   32\n",
      "Model:                            Logit   Df Residuals:                       30\n",
      "Method:                             MLE   Df Model:                            1\n",
      "Date:                  Wed, 10 Jul 2024   Pseudo R-squ.:                 0.01161\n",
      "Time:                          18:34:51   Log-Likelihood:                -21.675\n",
      "converged:                         True   LL-Null:                       -21.930\n",
      "Covariance Type:              nonrobust   LLR p-value:                    0.4754\n",
      "===============================================================================\n",
      "                  coef    std err          z      P>|z|      [0.025      0.975]\n",
      "-------------------------------------------------------------------------------\n",
      "const        1.858e-16      0.500   3.72e-16      1.000      -0.980       0.980\n",
      "view_binary     0.5108      0.719      0.711      0.477      -0.898       1.920\n",
      "===============================================================================\n",
      "------------------------------\n",
      "Patient: 9\n",
      "                            Logit Regression Results                            \n",
      "================================================================================\n",
      "Dep. Variable:     switch_choice_binary   No. Observations:                   32\n",
      "Model:                            Logit   Df Residuals:                       30\n",
      "Method:                             MLE   Df Model:                            1\n",
      "Date:                  Wed, 10 Jul 2024   Pseudo R-squ.:               1.086e-10\n",
      "Time:                          18:34:51   Log-Likelihood:                -12.057\n",
      "converged:                         True   LL-Null:                       -12.057\n",
      "Covariance Type:              nonrobust   LLR p-value:                     1.000\n",
      "===============================================================================\n",
      "                  coef    std err          z      P>|z|      [0.025      0.975]\n",
      "-------------------------------------------------------------------------------\n",
      "const           1.9459      0.756      2.574      0.010       0.464       3.428\n",
      "view_binary -4.661e-16      1.069  -4.36e-16      1.000      -2.095       2.095\n",
      "===============================================================================\n",
      "------------------------------\n",
      "Patient: 10\n",
      "                            Logit Regression Results                            \n",
      "================================================================================\n",
      "Dep. Variable:     switch_choice_binary   No. Observations:                   32\n",
      "Model:                            Logit   Df Residuals:                       30\n",
      "Method:                             MLE   Df Model:                            1\n",
      "Date:                  Wed, 10 Jul 2024   Pseudo R-squ.:                 0.02716\n",
      "Time:                          18:34:51   Log-Likelihood:                -21.028\n",
      "converged:                         True   LL-Null:                       -21.615\n",
      "Covariance Type:              nonrobust   LLR p-value:                    0.2785\n",
      "===============================================================================\n",
      "                  coef    std err          z      P>|z|      [0.025      0.975]\n",
      "-------------------------------------------------------------------------------\n",
      "const           0.7885      0.539      1.462      0.144      -0.269       1.846\n",
      "view_binary    -0.7885      0.735     -1.072      0.284      -2.230       0.653\n",
      "===============================================================================\n",
      "------------------------------\n",
      "Patient: 11\n",
      "                            Logit Regression Results                            \n",
      "================================================================================\n",
      "Dep. Variable:     switch_choice_binary   No. Observations:                   32\n",
      "Model:                            Logit   Df Residuals:                       30\n",
      "Method:                             MLE   Df Model:                            1\n",
      "Date:                  Wed, 10 Jul 2024   Pseudo R-squ.:                 0.01130\n",
      "Time:                          18:34:51   Log-Likelihood:                -21.930\n",
      "converged:                         True   LL-Null:                       -22.181\n",
      "Covariance Type:              nonrobust   LLR p-value:                    0.4789\n",
      "===============================================================================\n",
      "                  coef    std err          z      P>|z|      [0.025      0.975]\n",
      "-------------------------------------------------------------------------------\n",
      "const           0.2513      0.504      0.499      0.618      -0.736       1.239\n",
      "view_binary    -0.5026      0.713     -0.705      0.481      -1.899       0.894\n",
      "===============================================================================\n",
      "------------------------------\n",
      "Patient: 12\n",
      "                            Logit Regression Results                            \n",
      "================================================================================\n",
      "Dep. Variable:     switch_choice_binary   No. Observations:                   32\n",
      "Model:                            Logit   Df Residuals:                       30\n",
      "Method:                             MLE   Df Model:                            1\n",
      "Date:                  Wed, 10 Jul 2024   Pseudo R-squ.:                 0.04686\n",
      "Time:                          18:34:51   Log-Likelihood:                -20.902\n",
      "converged:                         True   LL-Null:                       -21.930\n",
      "Covariance Type:              nonrobust   LLR p-value:                    0.1517\n",
      "===============================================================================\n",
      "                  coef    std err          z      P>|z|      [0.025      0.975]\n",
      "-------------------------------------------------------------------------------\n",
      "const           0.2513      0.504      0.499      0.618      -0.736       1.239\n",
      "view_binary    -1.0398      0.738     -1.409      0.159      -2.487       0.407\n",
      "===============================================================================\n",
      "------------------------------\n"
     ]
    },
    {
     "name": "stderr",
     "output_type": "stream",
     "text": [
      "/home/wb1115/anaconda3/envs/cdss/lib/python3.10/site-packages/statsmodels/discrete/discrete_model.py:227: PerfectSeparationWarning: Perfect separation or prediction detected, parameter may not be identified\n",
      "  warnings.warn(msg, category=PerfectSeparationWarning)\n",
      "/home/wb1115/anaconda3/envs/cdss/lib/python3.10/site-packages/statsmodels/discrete/discrete_model.py:227: PerfectSeparationWarning: Perfect separation or prediction detected, parameter may not be identified\n",
      "  warnings.warn(msg, category=PerfectSeparationWarning)\n",
      "/home/wb1115/anaconda3/envs/cdss/lib/python3.10/site-packages/statsmodels/discrete/discrete_model.py:227: PerfectSeparationWarning: Perfect separation or prediction detected, parameter may not be identified\n",
      "  warnings.warn(msg, category=PerfectSeparationWarning)\n",
      "/home/wb1115/anaconda3/envs/cdss/lib/python3.10/site-packages/statsmodels/base/model.py:607: ConvergenceWarning: Maximum Likelihood optimization failed to converge. Check mle_retvals\n",
      "  warnings.warn(\"Maximum Likelihood optimization failed to \"\n",
      "/home/wb1115/anaconda3/envs/cdss/lib/python3.10/site-packages/statsmodels/discrete/discrete_model.py:227: PerfectSeparationWarning: Perfect separation or prediction detected, parameter may not be identified\n",
      "  warnings.warn(msg, category=PerfectSeparationWarning)\n",
      "/home/wb1115/anaconda3/envs/cdss/lib/python3.10/site-packages/statsmodels/discrete/discrete_model.py:227: PerfectSeparationWarning: Perfect separation or prediction detected, parameter may not be identified\n",
      "  warnings.warn(msg, category=PerfectSeparationWarning)\n",
      "/home/wb1115/anaconda3/envs/cdss/lib/python3.10/site-packages/statsmodels/discrete/discrete_model.py:227: PerfectSeparationWarning: Perfect separation or prediction detected, parameter may not be identified\n",
      "  warnings.warn(msg, category=PerfectSeparationWarning)\n",
      "/home/wb1115/anaconda3/envs/cdss/lib/python3.10/site-packages/statsmodels/discrete/discrete_model.py:227: PerfectSeparationWarning: Perfect separation or prediction detected, parameter may not be identified\n",
      "  warnings.warn(msg, category=PerfectSeparationWarning)\n",
      "/home/wb1115/anaconda3/envs/cdss/lib/python3.10/site-packages/statsmodels/discrete/discrete_model.py:227: PerfectSeparationWarning: Perfect separation or prediction detected, parameter may not be identified\n",
      "  warnings.warn(msg, category=PerfectSeparationWarning)\n",
      "/home/wb1115/anaconda3/envs/cdss/lib/python3.10/site-packages/statsmodels/discrete/discrete_model.py:227: PerfectSeparationWarning: Perfect separation or prediction detected, parameter may not be identified\n",
      "  warnings.warn(msg, category=PerfectSeparationWarning)\n",
      "/home/wb1115/anaconda3/envs/cdss/lib/python3.10/site-packages/statsmodels/discrete/discrete_model.py:227: PerfectSeparationWarning: Perfect separation or prediction detected, parameter may not be identified\n",
      "  warnings.warn(msg, category=PerfectSeparationWarning)\n",
      "/home/wb1115/anaconda3/envs/cdss/lib/python3.10/site-packages/statsmodels/discrete/discrete_model.py:227: PerfectSeparationWarning: Perfect separation or prediction detected, parameter may not be identified\n",
      "  warnings.warn(msg, category=PerfectSeparationWarning)\n",
      "/home/wb1115/anaconda3/envs/cdss/lib/python3.10/site-packages/statsmodels/discrete/discrete_model.py:227: PerfectSeparationWarning: Perfect separation or prediction detected, parameter may not be identified\n",
      "  warnings.warn(msg, category=PerfectSeparationWarning)\n",
      "/home/wb1115/anaconda3/envs/cdss/lib/python3.10/site-packages/statsmodels/discrete/discrete_model.py:227: PerfectSeparationWarning: Perfect separation or prediction detected, parameter may not be identified\n",
      "  warnings.warn(msg, category=PerfectSeparationWarning)\n",
      "/home/wb1115/anaconda3/envs/cdss/lib/python3.10/site-packages/statsmodels/discrete/discrete_model.py:227: PerfectSeparationWarning: Perfect separation or prediction detected, parameter may not be identified\n",
      "  warnings.warn(msg, category=PerfectSeparationWarning)\n",
      "/home/wb1115/anaconda3/envs/cdss/lib/python3.10/site-packages/statsmodels/discrete/discrete_model.py:227: PerfectSeparationWarning: Perfect separation or prediction detected, parameter may not be identified\n",
      "  warnings.warn(msg, category=PerfectSeparationWarning)\n",
      "/home/wb1115/anaconda3/envs/cdss/lib/python3.10/site-packages/statsmodels/discrete/discrete_model.py:227: PerfectSeparationWarning: Perfect separation or prediction detected, parameter may not be identified\n",
      "  warnings.warn(msg, category=PerfectSeparationWarning)\n",
      "/home/wb1115/anaconda3/envs/cdss/lib/python3.10/site-packages/statsmodels/discrete/discrete_model.py:227: PerfectSeparationWarning: Perfect separation or prediction detected, parameter may not be identified\n",
      "  warnings.warn(msg, category=PerfectSeparationWarning)\n",
      "/home/wb1115/anaconda3/envs/cdss/lib/python3.10/site-packages/statsmodels/discrete/discrete_model.py:227: PerfectSeparationWarning: Perfect separation or prediction detected, parameter may not be identified\n",
      "  warnings.warn(msg, category=PerfectSeparationWarning)\n",
      "/home/wb1115/anaconda3/envs/cdss/lib/python3.10/site-packages/statsmodels/discrete/discrete_model.py:227: PerfectSeparationWarning: Perfect separation or prediction detected, parameter may not be identified\n",
      "  warnings.warn(msg, category=PerfectSeparationWarning)\n",
      "/home/wb1115/anaconda3/envs/cdss/lib/python3.10/site-packages/statsmodels/discrete/discrete_model.py:227: PerfectSeparationWarning: Perfect separation or prediction detected, parameter may not be identified\n",
      "  warnings.warn(msg, category=PerfectSeparationWarning)\n",
      "/home/wb1115/anaconda3/envs/cdss/lib/python3.10/site-packages/statsmodels/discrete/discrete_model.py:227: PerfectSeparationWarning: Perfect separation or prediction detected, parameter may not be identified\n",
      "  warnings.warn(msg, category=PerfectSeparationWarning)\n",
      "/home/wb1115/anaconda3/envs/cdss/lib/python3.10/site-packages/statsmodels/discrete/discrete_model.py:227: PerfectSeparationWarning: Perfect separation or prediction detected, parameter may not be identified\n",
      "  warnings.warn(msg, category=PerfectSeparationWarning)\n",
      "/home/wb1115/anaconda3/envs/cdss/lib/python3.10/site-packages/statsmodels/discrete/discrete_model.py:227: PerfectSeparationWarning: Perfect separation or prediction detected, parameter may not be identified\n",
      "  warnings.warn(msg, category=PerfectSeparationWarning)\n",
      "/home/wb1115/anaconda3/envs/cdss/lib/python3.10/site-packages/statsmodels/discrete/discrete_model.py:227: PerfectSeparationWarning: Perfect separation or prediction detected, parameter may not be identified\n",
      "  warnings.warn(msg, category=PerfectSeparationWarning)\n",
      "/home/wb1115/anaconda3/envs/cdss/lib/python3.10/site-packages/statsmodels/discrete/discrete_model.py:4469: RuntimeWarning: divide by zero encountered in scalar divide\n",
      "  return 1 - self.llf/self.llnull\n",
      "/home/wb1115/anaconda3/envs/cdss/lib/python3.10/site-packages/statsmodels/base/model.py:607: ConvergenceWarning: Maximum Likelihood optimization failed to converge. Check mle_retvals\n",
      "  warnings.warn(\"Maximum Likelihood optimization failed to \"\n",
      "/home/wb1115/anaconda3/envs/cdss/lib/python3.10/site-packages/statsmodels/base/model.py:607: ConvergenceWarning: Maximum Likelihood optimization failed to converge. Check mle_retvals\n",
      "  warnings.warn(\"Maximum Likelihood optimization failed to \"\n",
      "/home/wb1115/anaconda3/envs/cdss/lib/python3.10/site-packages/statsmodels/base/model.py:607: ConvergenceWarning: Maximum Likelihood optimization failed to converge. Check mle_retvals\n",
      "  warnings.warn(\"Maximum Likelihood optimization failed to \"\n",
      "/home/wb1115/anaconda3/envs/cdss/lib/python3.10/site-packages/statsmodels/base/model.py:607: ConvergenceWarning: Maximum Likelihood optimization failed to converge. Check mle_retvals\n",
      "  warnings.warn(\"Maximum Likelihood optimization failed to \"\n"
     ]
    }
   ],
   "source": [
    "# Loop through each unique patient\n",
    "for patient in all_choices['patient'].unique():\n",
    "    # Subset the data for the specific patient\n",
    "    subset_df = all_choices[all_choices['patient'] == patient]\n",
    "\n",
    "    # Logistic regression model\n",
    "    X = subset_df['view_binary']\n",
    "    y = subset_df['switch_choice_binary']\n",
    "\n",
    "    # Adding a constant to the model (intercept)\n",
    "    X = sm.add_constant(X)\n",
    "\n",
    "    # Fitting the model\n",
    "    logit_model = sm.Logit(y, X).fit(disp=0)\n",
    "\n",
    "    # Model summary\n",
    "    print(f\"Patient: {patient}\")\n",
    "    print(logit_model.summary())\n",
    "    print(\"-\" * 30)"
   ]
  },
  {
   "cell_type": "markdown",
   "metadata": {},
   "source": [
    "Those that are statistically significant\n",
    "\n",
    "6 - pvalue 0.01 - Odds Ratio: exp(coef)=exp(-19.6972)≈0. Model failed to converge. \n",
    "\n",
    "\n",
    "7 - pvalue 0.003 - Odds Ratio: exp(coef)=exp(-19.6972)≈0.11. The odds of switch_choice_binary being 1 are about 11% of the odds when view_binary is 0. In other words, if view_binary changes from 0 to 1, the odds of switch_choice_binary being 1 decrease by approximately 89%. Has a statistically significant negative effect on switch_choice_binary, suggesting that when view_binary increases, the probability of switch_choice_binary being 1 decreases. Good 7 CDSS says dont switch! How is this possible when decisions are the same? "
   ]
  },
  {
   "cell_type": "code",
   "execution_count": 122,
   "metadata": {},
   "outputs": [
    {
     "name": "stdout",
     "output_type": "stream",
     "text": [
      "Patient: 1\n",
      "                            Logit Regression Results                            \n",
      "================================================================================\n",
      "Dep. Variable:     switch_choice_binary   No. Observations:                   32\n",
      "Model:                            Logit   Df Residuals:                       19\n",
      "Method:                             MLE   Df Model:                           12\n",
      "Date:                  Wed, 10 Jul 2024   Pseudo R-squ.:                     inf\n",
      "Time:                          19:21:28   Log-Likelihood:            -1.5321e-13\n",
      "converged:                        False   LL-Null:                        0.0000\n",
      "Covariance Type:              nonrobust   LLR p-value:                     1.000\n",
      "========================================================================================================\n",
      "                                           coef    std err          z      P>|z|      [0.025      0.975]\n",
      "--------------------------------------------------------------------------------------------------------\n",
      "const                                  -28.0814   3.31e+07  -8.47e-07      1.000   -6.49e+07    6.49e+07\n",
      "view_soc                                -3.5120   1.18e+07  -2.99e-07      1.000    -2.3e+07     2.3e+07\n",
      "age_new_40s                             -1.7669   1.94e+07  -9.12e-08      1.000    -3.8e+07     3.8e+07\n",
      "age_new_50s                             -0.8755   1.26e+07  -6.93e-08      1.000   -2.48e+07    2.48e+07\n",
      "age_new_60s                             -0.8482   4.75e+07  -1.79e-08      1.000    -9.3e+07     9.3e+07\n",
      "sex_new_Male                            -3.8169   2.23e+07  -1.71e-07      1.000   -4.36e+07    4.36e+07\n",
      "medical_speciality_new_Microbiology     -1.6043   2.91e+07  -5.51e-08      1.000   -5.71e+07    5.71e+07\n",
      "medical_speciality_new_Other            -0.2029   2.23e+07   -9.1e-09      1.000   -4.37e+07    4.37e+07\n",
      "medical_speciality_new_Pharmacist       -1.4803   1.96e+07  -7.56e-08      1.000   -3.84e+07    3.84e+07\n",
      "grade_new_Other                         -0.5728   2.07e+07  -2.76e-08      1.000   -4.06e+07    4.06e+07\n",
      "ai_familiarity_new_Not familiar         -1.2000   2.55e+07  -4.71e-08      1.000   -4.99e+07    4.99e+07\n",
      "ai_familiarity_new_Slightly familiar    -2.3879   1.03e+07  -2.33e-07      1.000   -2.01e+07    2.01e+07\n",
      "ai_familiarity_new_Very familiar        -0.4077    3.2e+07  -1.27e-08      1.000   -6.27e+07    6.27e+07\n",
      "========================================================================================================\n",
      "\n",
      "Complete Separation: The results show that there iscomplete separation or perfect prediction.\n",
      "In this case the Maximum Likelihood Estimator does not exist and the parameters\n",
      "are not identified.\n",
      "------------------------------\n",
      "Error: Singular matrix\n",
      "------------------------------\n",
      "Error: Singular matrix\n",
      "------------------------------\n",
      "Error: Singular matrix\n",
      "------------------------------\n",
      "Error: Singular matrix\n",
      "------------------------------\n",
      "Error: Singular matrix\n",
      "------------------------------\n",
      "Patient: 7\n",
      "                            Logit Regression Results                            \n",
      "================================================================================\n",
      "Dep. Variable:     switch_choice_binary   No. Observations:                   32\n",
      "Model:                            Logit   Df Residuals:                       19\n",
      "Method:                             MLE   Df Model:                           12\n",
      "Date:                  Wed, 10 Jul 2024   Pseudo R-squ.:                  0.4755\n",
      "Time:                          19:21:28   Log-Likelihood:                -11.634\n",
      "converged:                        False   LL-Null:                       -22.181\n",
      "Covariance Type:              nonrobust   LLR p-value:                   0.04904\n",
      "========================================================================================================\n",
      "                                           coef    std err          z      P>|z|      [0.025      0.975]\n",
      "--------------------------------------------------------------------------------------------------------\n",
      "const                                   -7.1518      5.324     -1.343      0.179     -17.587       3.283\n",
      "view_soc                                 2.2406      1.546      1.450      0.147      -0.789       5.270\n",
      "age_new_40s                              5.6012      3.681      1.522      0.128      -1.613      12.815\n",
      "age_new_50s                              7.4278      4.550      1.632      0.103      -1.490      16.346\n",
      "age_new_60s                              5.6871      4.236      1.342      0.179      -2.616      13.990\n",
      "sex_new_Male                             2.9754      2.392      1.244      0.214      -1.713       7.663\n",
      "medical_speciality_new_Microbiology      0.6586      2.268      0.290      0.772      -3.786       5.104\n",
      "medical_speciality_new_Other             2.0932      3.370      0.621      0.535      -4.512       8.698\n",
      "medical_speciality_new_Pharmacist       -2.1187      1.711     -1.238      0.216      -5.473       1.235\n",
      "grade_new_Other                          5.2502      3.974      1.321      0.187      -2.540      13.040\n",
      "ai_familiarity_new_Not familiar          0.0271      2.969      0.009      0.993      -5.793       5.847\n",
      "ai_familiarity_new_Slightly familiar    -3.6308      1.866     -1.945      0.052      -7.289       0.027\n",
      "ai_familiarity_new_Very familiar       -34.6774   1.97e+08  -1.76e-07      1.000   -3.86e+08    3.86e+08\n",
      "========================================================================================================\n",
      "------------------------------\n",
      "Patient: 8\n",
      "                            Logit Regression Results                            \n",
      "================================================================================\n",
      "Dep. Variable:     switch_choice_binary   No. Observations:                   32\n",
      "Model:                            Logit   Df Residuals:                       19\n",
      "Method:                             MLE   Df Model:                           12\n",
      "Date:                  Wed, 10 Jul 2024   Pseudo R-squ.:                  0.2568\n",
      "Time:                          19:21:28   Log-Likelihood:                -16.298\n",
      "converged:                        False   LL-Null:                       -21.930\n",
      "Covariance Type:              nonrobust   LLR p-value:                    0.5065\n",
      "========================================================================================================\n",
      "                                           coef    std err          z      P>|z|      [0.025      0.975]\n",
      "--------------------------------------------------------------------------------------------------------\n",
      "const                                    0.4263      2.912      0.146      0.884      -5.282       6.134\n",
      "view_soc                                -0.5279      1.130     -0.467      0.640      -2.742       1.686\n",
      "age_new_40s                              1.0123      1.527      0.663      0.507      -1.981       4.005\n",
      "age_new_50s                              2.7720      2.016      1.375      0.169      -1.180       6.724\n",
      "age_new_60s                            -31.0358   5.84e+06  -5.31e-06      1.000   -1.14e+07    1.14e+07\n",
      "sex_new_Male                            -0.3236      1.388     -0.233      0.816      -3.044       2.397\n",
      "medical_speciality_new_Microbiology     -1.1428      1.986     -0.576      0.565      -5.034       2.749\n",
      "medical_speciality_new_Other            -0.6308      1.615     -0.391      0.696      -3.796       2.534\n",
      "medical_speciality_new_Pharmacist       -0.6076      1.338     -0.454      0.650      -3.229       2.014\n",
      "grade_new_Other                          0.5171      1.900      0.272      0.786      -3.207       4.241\n",
      "ai_familiarity_new_Not familiar          0.4554      2.038      0.223      0.823      -3.538       4.449\n",
      "ai_familiarity_new_Slightly familiar    -0.6140      1.061     -0.578      0.563      -2.694       1.466\n",
      "ai_familiarity_new_Very familiar        13.3754    366.382      0.037      0.971    -704.720     731.471\n",
      "========================================================================================================\n",
      "------------------------------\n",
      "Error: Singular matrix\n",
      "------------------------------\n",
      "Patient: 10\n",
      "                            Logit Regression Results                            \n",
      "================================================================================\n",
      "Dep. Variable:     switch_choice_binary   No. Observations:                   32\n",
      "Model:                            Logit   Df Residuals:                       19\n",
      "Method:                             MLE   Df Model:                           12\n",
      "Date:                  Wed, 10 Jul 2024   Pseudo R-squ.:                  0.1735\n",
      "Time:                          19:21:28   Log-Likelihood:                -17.864\n",
      "converged:                        False   LL-Null:                       -21.615\n",
      "Covariance Type:              nonrobust   LLR p-value:                    0.8228\n",
      "========================================================================================================\n",
      "                                           coef    std err          z      P>|z|      [0.025      0.975]\n",
      "--------------------------------------------------------------------------------------------------------\n",
      "const                                    1.0727      2.232      0.481      0.631      -3.303       5.448\n",
      "view_soc                                 1.0122      1.139      0.889      0.374      -1.220       3.245\n",
      "age_new_40s                             -0.5623      1.518     -0.371      0.711      -3.537       2.412\n",
      "age_new_50s                              0.8332      1.800      0.463      0.643      -2.695       4.361\n",
      "age_new_60s                             -0.5554      2.237     -0.248      0.804      -4.941       3.830\n",
      "sex_new_Male                            -0.2950      1.392     -0.212      0.832      -3.023       2.433\n",
      "medical_speciality_new_Microbiology     -0.5185      1.880     -0.276      0.783      -4.204       3.167\n",
      "medical_speciality_new_Other            -1.3847      1.622     -0.854      0.393      -4.564       1.795\n",
      "medical_speciality_new_Pharmacist       -1.5293      1.403     -1.090      0.276      -4.279       1.221\n",
      "grade_new_Other                         -0.2128      1.889     -0.113      0.910      -3.916       3.490\n",
      "ai_familiarity_new_Not familiar         -0.3303      1.994     -0.166      0.868      -4.239       3.578\n",
      "ai_familiarity_new_Slightly familiar    -0.3845      1.034     -0.372      0.710      -2.411       1.642\n",
      "ai_familiarity_new_Very familiar        11.4095    341.851      0.033      0.973    -658.606     681.425\n",
      "========================================================================================================\n",
      "------------------------------\n",
      "Patient: 11\n",
      "                            Logit Regression Results                            \n",
      "================================================================================\n",
      "Dep. Variable:     switch_choice_binary   No. Observations:                   32\n",
      "Model:                            Logit   Df Residuals:                       19\n",
      "Method:                             MLE   Df Model:                           12\n",
      "Date:                  Wed, 10 Jul 2024   Pseudo R-squ.:                  0.1784\n",
      "Time:                          19:21:28   Log-Likelihood:                -18.223\n",
      "converged:                        False   LL-Null:                       -22.181\n",
      "Covariance Type:              nonrobust   LLR p-value:                    0.7918\n",
      "========================================================================================================\n",
      "                                           coef    std err          z      P>|z|      [0.025      0.975]\n",
      "--------------------------------------------------------------------------------------------------------\n",
      "const                                   -1.1842      2.348     -0.504      0.614      -5.786       3.417\n",
      "view_soc                                 0.5847      1.169      0.500      0.617      -1.707       2.876\n",
      "age_new_40s                              0.4971      1.529      0.325      0.745      -2.499       3.493\n",
      "age_new_50s                              1.6910      1.755      0.964      0.335      -1.748       5.130\n",
      "age_new_60s                              0.8285      2.328      0.356      0.722      -3.735       5.392\n",
      "sex_new_Male                            -1.0503      1.401     -0.749      0.454      -3.797       1.696\n",
      "medical_speciality_new_Microbiology      0.9251      1.866      0.496      0.620      -2.731       4.581\n",
      "medical_speciality_new_Other             1.1998      1.629      0.736      0.462      -1.994       4.393\n",
      "medical_speciality_new_Pharmacist        1.2364      1.413      0.875      0.381      -1.532       4.005\n",
      "grade_new_Other                          1.1013      1.902      0.579      0.563      -2.627       4.830\n",
      "ai_familiarity_new_Not familiar         -0.1804      2.160     -0.084      0.933      -4.413       4.052\n",
      "ai_familiarity_new_Slightly familiar    -0.4926      1.052     -0.468      0.640      -2.554       1.569\n",
      "ai_familiarity_new_Very familiar        13.0406    352.673      0.037      0.971    -678.186     704.267\n",
      "========================================================================================================\n",
      "------------------------------\n",
      "Patient: 12\n",
      "                            Logit Regression Results                            \n",
      "================================================================================\n",
      "Dep. Variable:     switch_choice_binary   No. Observations:                   32\n",
      "Model:                            Logit   Df Residuals:                       19\n",
      "Method:                             MLE   Df Model:                           12\n",
      "Date:                  Wed, 10 Jul 2024   Pseudo R-squ.:                  0.2379\n",
      "Time:                          19:21:28   Log-Likelihood:                -16.713\n",
      "converged:                        False   LL-Null:                       -21.930\n",
      "Covariance Type:              nonrobust   LLR p-value:                    0.5780\n",
      "========================================================================================================\n",
      "                                           coef    std err          z      P>|z|      [0.025      0.975]\n",
      "--------------------------------------------------------------------------------------------------------\n",
      "const                                   -0.4986      3.397     -0.147      0.883      -7.157       6.159\n",
      "view_soc                                 0.9582      1.176      0.815      0.415      -1.347       3.263\n",
      "age_new_40s                              1.2727      1.653      0.770      0.441      -1.967       4.513\n",
      "age_new_50s                              1.7650      2.053      0.860      0.390      -2.259       5.789\n",
      "age_new_60s                              2.5527      2.587      0.987      0.324      -2.518       7.623\n",
      "sex_new_Male                             0.6879      1.525      0.451      0.652      -2.301       3.677\n",
      "medical_speciality_new_Microbiology     -2.5650      2.213     -1.159      0.247      -6.903       1.773\n",
      "medical_speciality_new_Other            -2.5095      2.008     -1.250      0.211      -6.445       1.426\n",
      "medical_speciality_new_Pharmacist       -1.4679      1.564     -0.938      0.348      -4.533       1.598\n",
      "grade_new_Other                         -0.1990      2.186     -0.091      0.927      -4.484       4.086\n",
      "ai_familiarity_new_Not familiar         -0.6192      2.451     -0.253      0.801      -5.423       4.185\n",
      "ai_familiarity_new_Slightly familiar    -0.0050      1.084     -0.005      0.996      -2.129       2.119\n",
      "ai_familiarity_new_Very familiar        13.2241    366.251      0.036      0.971    -704.615     731.064\n",
      "========================================================================================================\n",
      "------------------------------\n"
     ]
    },
    {
     "name": "stderr",
     "output_type": "stream",
     "text": [
      "/home/wb1115/anaconda3/envs/cdss/lib/python3.10/site-packages/statsmodels/discrete/discrete_model.py:227: PerfectSeparationWarning: Perfect separation or prediction detected, parameter may not be identified\n",
      "  warnings.warn(msg, category=PerfectSeparationWarning)\n",
      "/home/wb1115/anaconda3/envs/cdss/lib/python3.10/site-packages/statsmodels/discrete/discrete_model.py:227: PerfectSeparationWarning: Perfect separation or prediction detected, parameter may not be identified\n",
      "  warnings.warn(msg, category=PerfectSeparationWarning)\n",
      "/home/wb1115/anaconda3/envs/cdss/lib/python3.10/site-packages/statsmodels/discrete/discrete_model.py:227: PerfectSeparationWarning: Perfect separation or prediction detected, parameter may not be identified\n",
      "  warnings.warn(msg, category=PerfectSeparationWarning)\n",
      "/home/wb1115/anaconda3/envs/cdss/lib/python3.10/site-packages/statsmodels/discrete/discrete_model.py:227: PerfectSeparationWarning: Perfect separation or prediction detected, parameter may not be identified\n",
      "  warnings.warn(msg, category=PerfectSeparationWarning)\n",
      "/home/wb1115/anaconda3/envs/cdss/lib/python3.10/site-packages/statsmodels/discrete/discrete_model.py:227: PerfectSeparationWarning: Perfect separation or prediction detected, parameter may not be identified\n",
      "  warnings.warn(msg, category=PerfectSeparationWarning)\n",
      "/home/wb1115/anaconda3/envs/cdss/lib/python3.10/site-packages/statsmodels/discrete/discrete_model.py:227: PerfectSeparationWarning: Perfect separation or prediction detected, parameter may not be identified\n",
      "  warnings.warn(msg, category=PerfectSeparationWarning)\n",
      "/home/wb1115/anaconda3/envs/cdss/lib/python3.10/site-packages/statsmodels/discrete/discrete_model.py:227: PerfectSeparationWarning: Perfect separation or prediction detected, parameter may not be identified\n",
      "  warnings.warn(msg, category=PerfectSeparationWarning)\n",
      "/home/wb1115/anaconda3/envs/cdss/lib/python3.10/site-packages/statsmodels/discrete/discrete_model.py:227: PerfectSeparationWarning: Perfect separation or prediction detected, parameter may not be identified\n",
      "  warnings.warn(msg, category=PerfectSeparationWarning)\n",
      "/home/wb1115/anaconda3/envs/cdss/lib/python3.10/site-packages/statsmodels/discrete/discrete_model.py:227: PerfectSeparationWarning: Perfect separation or prediction detected, parameter may not be identified\n",
      "  warnings.warn(msg, category=PerfectSeparationWarning)\n",
      "/home/wb1115/anaconda3/envs/cdss/lib/python3.10/site-packages/statsmodels/discrete/discrete_model.py:227: PerfectSeparationWarning: Perfect separation or prediction detected, parameter may not be identified\n",
      "  warnings.warn(msg, category=PerfectSeparationWarning)\n",
      "/home/wb1115/anaconda3/envs/cdss/lib/python3.10/site-packages/statsmodels/discrete/discrete_model.py:227: PerfectSeparationWarning: Perfect separation or prediction detected, parameter may not be identified\n",
      "  warnings.warn(msg, category=PerfectSeparationWarning)\n",
      "/home/wb1115/anaconda3/envs/cdss/lib/python3.10/site-packages/statsmodels/discrete/discrete_model.py:227: PerfectSeparationWarning: Perfect separation or prediction detected, parameter may not be identified\n",
      "  warnings.warn(msg, category=PerfectSeparationWarning)\n",
      "/home/wb1115/anaconda3/envs/cdss/lib/python3.10/site-packages/statsmodels/discrete/discrete_model.py:227: PerfectSeparationWarning: Perfect separation or prediction detected, parameter may not be identified\n",
      "  warnings.warn(msg, category=PerfectSeparationWarning)\n",
      "/home/wb1115/anaconda3/envs/cdss/lib/python3.10/site-packages/statsmodels/discrete/discrete_model.py:227: PerfectSeparationWarning: Perfect separation or prediction detected, parameter may not be identified\n",
      "  warnings.warn(msg, category=PerfectSeparationWarning)\n",
      "/home/wb1115/anaconda3/envs/cdss/lib/python3.10/site-packages/statsmodels/discrete/discrete_model.py:227: PerfectSeparationWarning: Perfect separation or prediction detected, parameter may not be identified\n",
      "  warnings.warn(msg, category=PerfectSeparationWarning)\n",
      "/home/wb1115/anaconda3/envs/cdss/lib/python3.10/site-packages/statsmodels/discrete/discrete_model.py:227: PerfectSeparationWarning: Perfect separation or prediction detected, parameter may not be identified\n",
      "  warnings.warn(msg, category=PerfectSeparationWarning)\n",
      "/home/wb1115/anaconda3/envs/cdss/lib/python3.10/site-packages/statsmodels/discrete/discrete_model.py:227: PerfectSeparationWarning: Perfect separation or prediction detected, parameter may not be identified\n",
      "  warnings.warn(msg, category=PerfectSeparationWarning)\n",
      "/home/wb1115/anaconda3/envs/cdss/lib/python3.10/site-packages/statsmodels/discrete/discrete_model.py:227: PerfectSeparationWarning: Perfect separation or prediction detected, parameter may not be identified\n",
      "  warnings.warn(msg, category=PerfectSeparationWarning)\n",
      "/home/wb1115/anaconda3/envs/cdss/lib/python3.10/site-packages/statsmodels/base/model.py:607: ConvergenceWarning: Maximum Likelihood optimization failed to converge. Check mle_retvals\n",
      "  warnings.warn(\"Maximum Likelihood optimization failed to \"\n",
      "/home/wb1115/anaconda3/envs/cdss/lib/python3.10/site-packages/statsmodels/discrete/discrete_model.py:227: PerfectSeparationWarning: Perfect separation or prediction detected, parameter may not be identified\n",
      "  warnings.warn(msg, category=PerfectSeparationWarning)\n",
      "/home/wb1115/anaconda3/envs/cdss/lib/python3.10/site-packages/statsmodels/discrete/discrete_model.py:227: PerfectSeparationWarning: Perfect separation or prediction detected, parameter may not be identified\n",
      "  warnings.warn(msg, category=PerfectSeparationWarning)\n",
      "/home/wb1115/anaconda3/envs/cdss/lib/python3.10/site-packages/statsmodels/discrete/discrete_model.py:227: PerfectSeparationWarning: Perfect separation or prediction detected, parameter may not be identified\n",
      "  warnings.warn(msg, category=PerfectSeparationWarning)\n",
      "/home/wb1115/anaconda3/envs/cdss/lib/python3.10/site-packages/statsmodels/discrete/discrete_model.py:227: PerfectSeparationWarning: Perfect separation or prediction detected, parameter may not be identified\n",
      "  warnings.warn(msg, category=PerfectSeparationWarning)\n",
      "/home/wb1115/anaconda3/envs/cdss/lib/python3.10/site-packages/statsmodels/discrete/discrete_model.py:227: PerfectSeparationWarning: Perfect separation or prediction detected, parameter may not be identified\n",
      "  warnings.warn(msg, category=PerfectSeparationWarning)\n",
      "/home/wb1115/anaconda3/envs/cdss/lib/python3.10/site-packages/statsmodels/discrete/discrete_model.py:227: PerfectSeparationWarning: Perfect separation or prediction detected, parameter may not be identified\n",
      "  warnings.warn(msg, category=PerfectSeparationWarning)\n",
      "/home/wb1115/anaconda3/envs/cdss/lib/python3.10/site-packages/statsmodels/discrete/discrete_model.py:227: PerfectSeparationWarning: Perfect separation or prediction detected, parameter may not be identified\n",
      "  warnings.warn(msg, category=PerfectSeparationWarning)\n",
      "/home/wb1115/anaconda3/envs/cdss/lib/python3.10/site-packages/statsmodels/discrete/discrete_model.py:227: PerfectSeparationWarning: Perfect separation or prediction detected, parameter may not be identified\n",
      "  warnings.warn(msg, category=PerfectSeparationWarning)\n",
      "/home/wb1115/anaconda3/envs/cdss/lib/python3.10/site-packages/statsmodels/discrete/discrete_model.py:227: PerfectSeparationWarning: Perfect separation or prediction detected, parameter may not be identified\n",
      "  warnings.warn(msg, category=PerfectSeparationWarning)\n",
      "/home/wb1115/anaconda3/envs/cdss/lib/python3.10/site-packages/statsmodels/discrete/discrete_model.py:227: PerfectSeparationWarning: Perfect separation or prediction detected, parameter may not be identified\n",
      "  warnings.warn(msg, category=PerfectSeparationWarning)\n",
      "/home/wb1115/anaconda3/envs/cdss/lib/python3.10/site-packages/statsmodels/discrete/discrete_model.py:227: PerfectSeparationWarning: Perfect separation or prediction detected, parameter may not be identified\n",
      "  warnings.warn(msg, category=PerfectSeparationWarning)\n",
      "/home/wb1115/anaconda3/envs/cdss/lib/python3.10/site-packages/statsmodels/discrete/discrete_model.py:227: PerfectSeparationWarning: Perfect separation or prediction detected, parameter may not be identified\n",
      "  warnings.warn(msg, category=PerfectSeparationWarning)\n",
      "/home/wb1115/anaconda3/envs/cdss/lib/python3.10/site-packages/statsmodels/discrete/discrete_model.py:227: PerfectSeparationWarning: Perfect separation or prediction detected, parameter may not be identified\n",
      "  warnings.warn(msg, category=PerfectSeparationWarning)\n",
      "/home/wb1115/anaconda3/envs/cdss/lib/python3.10/site-packages/statsmodels/discrete/discrete_model.py:227: PerfectSeparationWarning: Perfect separation or prediction detected, parameter may not be identified\n",
      "  warnings.warn(msg, category=PerfectSeparationWarning)\n",
      "/home/wb1115/anaconda3/envs/cdss/lib/python3.10/site-packages/statsmodels/discrete/discrete_model.py:227: PerfectSeparationWarning: Perfect separation or prediction detected, parameter may not be identified\n",
      "  warnings.warn(msg, category=PerfectSeparationWarning)\n",
      "/home/wb1115/anaconda3/envs/cdss/lib/python3.10/site-packages/statsmodels/discrete/discrete_model.py:227: PerfectSeparationWarning: Perfect separation or prediction detected, parameter may not be identified\n",
      "  warnings.warn(msg, category=PerfectSeparationWarning)\n",
      "/home/wb1115/anaconda3/envs/cdss/lib/python3.10/site-packages/statsmodels/discrete/discrete_model.py:227: PerfectSeparationWarning: Perfect separation or prediction detected, parameter may not be identified\n",
      "  warnings.warn(msg, category=PerfectSeparationWarning)\n",
      "/home/wb1115/anaconda3/envs/cdss/lib/python3.10/site-packages/statsmodels/discrete/discrete_model.py:227: PerfectSeparationWarning: Perfect separation or prediction detected, parameter may not be identified\n",
      "  warnings.warn(msg, category=PerfectSeparationWarning)\n",
      "/home/wb1115/anaconda3/envs/cdss/lib/python3.10/site-packages/statsmodels/discrete/discrete_model.py:227: PerfectSeparationWarning: Perfect separation or prediction detected, parameter may not be identified\n",
      "  warnings.warn(msg, category=PerfectSeparationWarning)\n",
      "/home/wb1115/anaconda3/envs/cdss/lib/python3.10/site-packages/statsmodels/discrete/discrete_model.py:227: PerfectSeparationWarning: Perfect separation or prediction detected, parameter may not be identified\n",
      "  warnings.warn(msg, category=PerfectSeparationWarning)\n",
      "/home/wb1115/anaconda3/envs/cdss/lib/python3.10/site-packages/statsmodels/discrete/discrete_model.py:227: PerfectSeparationWarning: Perfect separation or prediction detected, parameter may not be identified\n",
      "  warnings.warn(msg, category=PerfectSeparationWarning)\n",
      "/home/wb1115/anaconda3/envs/cdss/lib/python3.10/site-packages/statsmodels/discrete/discrete_model.py:4469: RuntimeWarning: divide by zero encountered in scalar divide\n",
      "  return 1 - self.llf/self.llnull\n",
      "/home/wb1115/anaconda3/envs/cdss/lib/python3.10/site-packages/statsmodels/discrete/discrete_model.py:227: PerfectSeparationWarning: Perfect separation or prediction detected, parameter may not be identified\n",
      "  warnings.warn(msg, category=PerfectSeparationWarning)\n",
      "/home/wb1115/anaconda3/envs/cdss/lib/python3.10/site-packages/statsmodels/discrete/discrete_model.py:227: PerfectSeparationWarning: Perfect separation or prediction detected, parameter may not be identified\n",
      "  warnings.warn(msg, category=PerfectSeparationWarning)\n",
      "/home/wb1115/anaconda3/envs/cdss/lib/python3.10/site-packages/statsmodels/discrete/discrete_model.py:227: PerfectSeparationWarning: Perfect separation or prediction detected, parameter may not be identified\n",
      "  warnings.warn(msg, category=PerfectSeparationWarning)\n",
      "/home/wb1115/anaconda3/envs/cdss/lib/python3.10/site-packages/statsmodels/discrete/discrete_model.py:227: PerfectSeparationWarning: Perfect separation or prediction detected, parameter may not be identified\n",
      "  warnings.warn(msg, category=PerfectSeparationWarning)\n",
      "/home/wb1115/anaconda3/envs/cdss/lib/python3.10/site-packages/statsmodels/discrete/discrete_model.py:227: PerfectSeparationWarning: Perfect separation or prediction detected, parameter may not be identified\n",
      "  warnings.warn(msg, category=PerfectSeparationWarning)\n",
      "/home/wb1115/anaconda3/envs/cdss/lib/python3.10/site-packages/statsmodels/discrete/discrete_model.py:227: PerfectSeparationWarning: Perfect separation or prediction detected, parameter may not be identified\n",
      "  warnings.warn(msg, category=PerfectSeparationWarning)\n",
      "/home/wb1115/anaconda3/envs/cdss/lib/python3.10/site-packages/statsmodels/discrete/discrete_model.py:227: PerfectSeparationWarning: Perfect separation or prediction detected, parameter may not be identified\n",
      "  warnings.warn(msg, category=PerfectSeparationWarning)\n",
      "/home/wb1115/anaconda3/envs/cdss/lib/python3.10/site-packages/statsmodels/discrete/discrete_model.py:227: PerfectSeparationWarning: Perfect separation or prediction detected, parameter may not be identified\n",
      "  warnings.warn(msg, category=PerfectSeparationWarning)\n",
      "/home/wb1115/anaconda3/envs/cdss/lib/python3.10/site-packages/statsmodels/discrete/discrete_model.py:227: PerfectSeparationWarning: Perfect separation or prediction detected, parameter may not be identified\n",
      "  warnings.warn(msg, category=PerfectSeparationWarning)\n",
      "/home/wb1115/anaconda3/envs/cdss/lib/python3.10/site-packages/statsmodels/discrete/discrete_model.py:2385: RuntimeWarning: overflow encountered in exp\n",
      "  return 1/(1+np.exp(-X))\n",
      "/home/wb1115/anaconda3/envs/cdss/lib/python3.10/site-packages/statsmodels/discrete/discrete_model.py:2385: RuntimeWarning: overflow encountered in exp\n",
      "  return 1/(1+np.exp(-X))\n",
      "/home/wb1115/anaconda3/envs/cdss/lib/python3.10/site-packages/statsmodels/discrete/discrete_model.py:2443: RuntimeWarning: divide by zero encountered in log\n",
      "  return np.sum(np.log(self.cdf(q * linpred)))\n",
      "/home/wb1115/anaconda3/envs/cdss/lib/python3.10/site-packages/statsmodels/discrete/discrete_model.py:2385: RuntimeWarning: overflow encountered in exp\n",
      "  return 1/(1+np.exp(-X))\n",
      "/home/wb1115/anaconda3/envs/cdss/lib/python3.10/site-packages/statsmodels/discrete/discrete_model.py:2443: RuntimeWarning: divide by zero encountered in log\n",
      "  return np.sum(np.log(self.cdf(q * linpred)))\n",
      "/home/wb1115/anaconda3/envs/cdss/lib/python3.10/site-packages/statsmodels/base/model.py:607: ConvergenceWarning: Maximum Likelihood optimization failed to converge. Check mle_retvals\n",
      "  warnings.warn(\"Maximum Likelihood optimization failed to \"\n",
      "/home/wb1115/anaconda3/envs/cdss/lib/python3.10/site-packages/statsmodels/base/model.py:607: ConvergenceWarning: Maximum Likelihood optimization failed to converge. Check mle_retvals\n",
      "  warnings.warn(\"Maximum Likelihood optimization failed to \"\n",
      "/home/wb1115/anaconda3/envs/cdss/lib/python3.10/site-packages/statsmodels/discrete/discrete_model.py:2385: RuntimeWarning: overflow encountered in exp\n",
      "  return 1/(1+np.exp(-X))\n",
      "/home/wb1115/anaconda3/envs/cdss/lib/python3.10/site-packages/statsmodels/discrete/discrete_model.py:2443: RuntimeWarning: divide by zero encountered in log\n",
      "  return np.sum(np.log(self.cdf(q * linpred)))\n",
      "/home/wb1115/anaconda3/envs/cdss/lib/python3.10/site-packages/statsmodels/base/model.py:607: ConvergenceWarning: Maximum Likelihood optimization failed to converge. Check mle_retvals\n",
      "  warnings.warn(\"Maximum Likelihood optimization failed to \"\n",
      "/home/wb1115/anaconda3/envs/cdss/lib/python3.10/site-packages/statsmodels/base/model.py:607: ConvergenceWarning: Maximum Likelihood optimization failed to converge. Check mle_retvals\n",
      "  warnings.warn(\"Maximum Likelihood optimization failed to \"\n",
      "/home/wb1115/anaconda3/envs/cdss/lib/python3.10/site-packages/statsmodels/base/model.py:607: ConvergenceWarning: Maximum Likelihood optimization failed to converge. Check mle_retvals\n",
      "  warnings.warn(\"Maximum Likelihood optimization failed to \"\n"
     ]
    }
   ],
   "source": [
    "# Categorical Variables\n",
    "all_choices_interaction = all_choices.copy()\n",
    "all_choices_interaction.drop(columns=['view_binary'], inplace=True)\n",
    "# One-hot encoding categorical variables\n",
    "df_encoded = pd.get_dummies(all_choices_interaction, columns=['view', 'age_new', 'sex_new', 'medical_speciality_new', 'grade_new', 'ai_familiarity_new'], drop_first=True)\n",
    "\n",
    "view_columns = ['view_soc']\n",
    "demographic_columns = df_encoded.iloc[:,8:].columns.to_list()\n",
    "\n",
    "# Convert to 0 and 1\n",
    "df_encoded[demographic_columns] = df_encoded[demographic_columns].astype(int)\n",
    "df_encoded[view_columns] = df_encoded[view_columns].astype(int)\n",
    "\n",
    "# Fit logistic regression model by patient\n",
    "results = {}\n",
    "for patient in df_encoded['patient'].unique():\n",
    "    # Subset the data for the specific patient\n",
    "    subset_df = df_encoded[df_encoded['patient'] == patient]\n",
    "    \n",
    "    # Drop rows with missing values\n",
    "    subset_df = subset_df.dropna(subset=['switch_choice'])\n",
    "    \n",
    "    # Check if there are enough rows to fit the model\n",
    "    if len(subset_df) < 2:\n",
    "        print(f\"Patient: {patient}\")\n",
    "        print(\"Not enough data to fit the model.\")\n",
    "        print(\"-\" * 30)\n",
    "        continue\n",
    "    \n",
    "    # Logistic regression model\n",
    "    X = subset_df[view_columns + demographic_columns]\n",
    "    y = subset_df['switch_choice_binary']\n",
    "    \n",
    "    # Ensure X and y are in the correct format\n",
    "    X = sm.add_constant(X)  # Add intercept\n",
    "    \n",
    "    # Fitting the model\n",
    "    try:\n",
    "        logit_model = sm.Logit(y, X).fit(disp=0)\n",
    "        results[patient] = logit_model\n",
    "        print(f\"Patient: {patient}\")\n",
    "        print(logit_model.summary())\n",
    "    except Exception as e:\n",
    "        print(f\"Error: {e}\")\n",
    "    \n",
    "    print(\"-\" * 30)"
   ]
  },
  {
   "cell_type": "code",
   "execution_count": 118,
   "metadata": {},
   "outputs": [
    {
     "name": "stdout",
     "output_type": "stream",
     "text": [
      "Error: Singular matrix\n",
      "------------------------------\n",
      "Error: Singular matrix\n",
      "------------------------------\n",
      "Error: Singular matrix\n",
      "------------------------------\n",
      "Error: Singular matrix\n",
      "------------------------------\n",
      "Error: Singular matrix\n",
      "------------------------------\n",
      "Error: Singular matrix\n",
      "------------------------------\n",
      "Error: Singular matrix\n",
      "------------------------------\n",
      "Error: Singular matrix\n",
      "------------------------------\n",
      "Error: Singular matrix\n",
      "------------------------------\n",
      "Error: Singular matrix\n",
      "------------------------------\n",
      "Error: Singular matrix\n",
      "------------------------------\n",
      "Error: Singular matrix\n",
      "------------------------------\n"
     ]
    },
    {
     "name": "stderr",
     "output_type": "stream",
     "text": [
      "/home/wb1115/anaconda3/envs/cdss/lib/python3.10/site-packages/statsmodels/discrete/discrete_model.py:227: PerfectSeparationWarning: Perfect separation or prediction detected, parameter may not be identified\n",
      "  warnings.warn(msg, category=PerfectSeparationWarning)\n",
      "/home/wb1115/anaconda3/envs/cdss/lib/python3.10/site-packages/statsmodels/discrete/discrete_model.py:227: PerfectSeparationWarning: Perfect separation or prediction detected, parameter may not be identified\n",
      "  warnings.warn(msg, category=PerfectSeparationWarning)\n",
      "/home/wb1115/anaconda3/envs/cdss/lib/python3.10/site-packages/statsmodels/discrete/discrete_model.py:227: PerfectSeparationWarning: Perfect separation or prediction detected, parameter may not be identified\n",
      "  warnings.warn(msg, category=PerfectSeparationWarning)\n",
      "/home/wb1115/anaconda3/envs/cdss/lib/python3.10/site-packages/statsmodels/discrete/discrete_model.py:227: PerfectSeparationWarning: Perfect separation or prediction detected, parameter may not be identified\n",
      "  warnings.warn(msg, category=PerfectSeparationWarning)\n",
      "/home/wb1115/anaconda3/envs/cdss/lib/python3.10/site-packages/statsmodels/discrete/discrete_model.py:227: PerfectSeparationWarning: Perfect separation or prediction detected, parameter may not be identified\n",
      "  warnings.warn(msg, category=PerfectSeparationWarning)\n",
      "/home/wb1115/anaconda3/envs/cdss/lib/python3.10/site-packages/statsmodels/discrete/discrete_model.py:227: PerfectSeparationWarning: Perfect separation or prediction detected, parameter may not be identified\n",
      "  warnings.warn(msg, category=PerfectSeparationWarning)\n",
      "/home/wb1115/anaconda3/envs/cdss/lib/python3.10/site-packages/statsmodels/discrete/discrete_model.py:227: PerfectSeparationWarning: Perfect separation or prediction detected, parameter may not be identified\n",
      "  warnings.warn(msg, category=PerfectSeparationWarning)\n",
      "/home/wb1115/anaconda3/envs/cdss/lib/python3.10/site-packages/statsmodels/discrete/discrete_model.py:227: PerfectSeparationWarning: Perfect separation or prediction detected, parameter may not be identified\n",
      "  warnings.warn(msg, category=PerfectSeparationWarning)\n",
      "/home/wb1115/anaconda3/envs/cdss/lib/python3.10/site-packages/statsmodels/discrete/discrete_model.py:227: PerfectSeparationWarning: Perfect separation or prediction detected, parameter may not be identified\n",
      "  warnings.warn(msg, category=PerfectSeparationWarning)\n",
      "/home/wb1115/anaconda3/envs/cdss/lib/python3.10/site-packages/statsmodels/discrete/discrete_model.py:227: PerfectSeparationWarning: Perfect separation or prediction detected, parameter may not be identified\n",
      "  warnings.warn(msg, category=PerfectSeparationWarning)\n",
      "/home/wb1115/anaconda3/envs/cdss/lib/python3.10/site-packages/statsmodels/discrete/discrete_model.py:227: PerfectSeparationWarning: Perfect separation or prediction detected, parameter may not be identified\n",
      "  warnings.warn(msg, category=PerfectSeparationWarning)\n",
      "/home/wb1115/anaconda3/envs/cdss/lib/python3.10/site-packages/statsmodels/discrete/discrete_model.py:2385: RuntimeWarning: overflow encountered in exp\n",
      "  return 1/(1+np.exp(-X))\n",
      "/home/wb1115/anaconda3/envs/cdss/lib/python3.10/site-packages/statsmodels/discrete/discrete_model.py:2443: RuntimeWarning: divide by zero encountered in log\n",
      "  return np.sum(np.log(self.cdf(q * linpred)))\n",
      "/home/wb1115/anaconda3/envs/cdss/lib/python3.10/site-packages/statsmodels/discrete/discrete_model.py:2385: RuntimeWarning: overflow encountered in exp\n",
      "  return 1/(1+np.exp(-X))\n",
      "/home/wb1115/anaconda3/envs/cdss/lib/python3.10/site-packages/statsmodels/discrete/discrete_model.py:2443: RuntimeWarning: divide by zero encountered in log\n",
      "  return np.sum(np.log(self.cdf(q * linpred)))\n",
      "/home/wb1115/anaconda3/envs/cdss/lib/python3.10/site-packages/statsmodels/discrete/discrete_model.py:2385: RuntimeWarning: overflow encountered in exp\n",
      "  return 1/(1+np.exp(-X))\n",
      "/home/wb1115/anaconda3/envs/cdss/lib/python3.10/site-packages/statsmodels/discrete/discrete_model.py:2443: RuntimeWarning: divide by zero encountered in log\n",
      "  return np.sum(np.log(self.cdf(q * linpred)))\n",
      "/home/wb1115/anaconda3/envs/cdss/lib/python3.10/site-packages/statsmodels/discrete/discrete_model.py:2385: RuntimeWarning: overflow encountered in exp\n",
      "  return 1/(1+np.exp(-X))\n",
      "/home/wb1115/anaconda3/envs/cdss/lib/python3.10/site-packages/statsmodels/discrete/discrete_model.py:2443: RuntimeWarning: divide by zero encountered in log\n",
      "  return np.sum(np.log(self.cdf(q * linpred)))\n",
      "/home/wb1115/anaconda3/envs/cdss/lib/python3.10/site-packages/statsmodels/discrete/discrete_model.py:2385: RuntimeWarning: overflow encountered in exp\n",
      "  return 1/(1+np.exp(-X))\n",
      "/home/wb1115/anaconda3/envs/cdss/lib/python3.10/site-packages/statsmodels/discrete/discrete_model.py:2443: RuntimeWarning: divide by zero encountered in log\n",
      "  return np.sum(np.log(self.cdf(q * linpred)))\n",
      "/home/wb1115/anaconda3/envs/cdss/lib/python3.10/site-packages/statsmodels/discrete/discrete_model.py:2385: RuntimeWarning: overflow encountered in exp\n",
      "  return 1/(1+np.exp(-X))\n",
      "/home/wb1115/anaconda3/envs/cdss/lib/python3.10/site-packages/statsmodels/discrete/discrete_model.py:2443: RuntimeWarning: divide by zero encountered in log\n",
      "  return np.sum(np.log(self.cdf(q * linpred)))\n",
      "/home/wb1115/anaconda3/envs/cdss/lib/python3.10/site-packages/statsmodels/discrete/discrete_model.py:2385: RuntimeWarning: overflow encountered in exp\n",
      "  return 1/(1+np.exp(-X))\n",
      "/home/wb1115/anaconda3/envs/cdss/lib/python3.10/site-packages/statsmodels/discrete/discrete_model.py:2443: RuntimeWarning: divide by zero encountered in log\n",
      "  return np.sum(np.log(self.cdf(q * linpred)))\n",
      "/home/wb1115/anaconda3/envs/cdss/lib/python3.10/site-packages/statsmodels/discrete/discrete_model.py:2385: RuntimeWarning: overflow encountered in exp\n",
      "  return 1/(1+np.exp(-X))\n",
      "/home/wb1115/anaconda3/envs/cdss/lib/python3.10/site-packages/statsmodels/discrete/discrete_model.py:2443: RuntimeWarning: divide by zero encountered in log\n",
      "  return np.sum(np.log(self.cdf(q * linpred)))\n"
     ]
    }
   ],
   "source": [
    "# Interaction Terms with Categorical Variables\n",
    "all_choices_interaction = all_choices.copy()\n",
    "all_choices_interaction.drop(columns=['view_binary'], inplace=True)\n",
    "# One-hot encoding categorical variables\n",
    "df_encoded = pd.get_dummies(all_choices_interaction, columns=['view', 'age_new', 'sex_new', 'medical_speciality_new', 'grade_new', 'ai_familiarity_new'], drop_first=True)\n",
    "\n",
    "view_columns = ['view_soc']\n",
    "demographic_columns = df_encoded.iloc[:,8:].columns.to_list()\n",
    "# Generate interaction terms\n",
    "interaction_terms = []\n",
    "for view_col in view_columns:\n",
    "    for dem_col in demographic_columns:\n",
    "        interaction_term = f'{view_col}:{dem_col}'\n",
    "        df_encoded[interaction_term] = df_encoded[view_col] * df_encoded[dem_col]\n",
    "        interaction_terms.append(interaction_term)\n",
    "\n",
    "# Convert to 0 and 1\n",
    "df_encoded[demographic_columns] = df_encoded[demographic_columns].astype(int)\n",
    "df_encoded[interaction_terms] = df_encoded[interaction_terms].astype(int)\n",
    "df_encoded[view_columns] = df_encoded[view_columns].astype(int)\n",
    "\n",
    "# Fit logistic regression model by patient\n",
    "results = {}\n",
    "for patient in df_encoded['patient'].unique():\n",
    "    # Subset the data for the specific patient\n",
    "    subset_df = df_encoded[df_encoded['patient'] == patient]\n",
    "    \n",
    "    # Drop rows with missing values\n",
    "    subset_df = subset_df.dropna(subset=['switch_choice'])\n",
    "    \n",
    "    # Check if there are enough rows to fit the model\n",
    "    if len(subset_df) < 2:\n",
    "        print(f\"Patient: {patient}\")\n",
    "        print(\"Not enough data to fit the model.\")\n",
    "        print(\"-\" * 30)\n",
    "        continue\n",
    "    \n",
    "    # Logistic regression model\n",
    "    X = subset_df[view_columns + demographic_columns + interaction_terms]\n",
    "    y = subset_df['switch_choice_binary']\n",
    "    \n",
    "    # Ensure X and y are in the correct format\n",
    "    X = sm.add_constant(X)  # Add intercept\n",
    "    \n",
    "    # Fitting the model\n",
    "    try:\n",
    "        logit_model = sm.Logit(y, X).fit(disp=0)\n",
    "        results[patient] = logit_model\n",
    "        print(f\"Patient: {patient}\")\n",
    "        print(logit_model.summary())\n",
    "    except Exception as e:\n",
    "        print(f\"Error: {e}\")\n",
    "    \n",
    "    print(\"-\" * 30)\n",
    "\n",
    "# Print results for each patient\n",
    "for patient, result in results.items():\n",
    "    print(f\"Patient: {patient}\")\n",
    "    print(result.summary())\n",
    "    print(\"-\" * 30)"
   ]
  }
 ],
 "metadata": {
  "kernelspec": {
   "display_name": "cdss",
   "language": "python",
   "name": "python3"
  },
  "language_info": {
   "codemirror_mode": {
    "name": "ipython",
    "version": 3
   },
   "file_extension": ".py",
   "mimetype": "text/x-python",
   "name": "python",
   "nbconvert_exporter": "python",
   "pygments_lexer": "ipython3",
   "version": "3.10.13"
  }
 },
 "nbformat": 4,
 "nbformat_minor": 2
}
