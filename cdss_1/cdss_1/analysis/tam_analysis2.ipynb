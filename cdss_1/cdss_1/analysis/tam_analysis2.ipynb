{
 "cells": [
  {
   "cell_type": "code",
   "execution_count": 87,
   "metadata": {},
   "outputs": [],
   "source": [
    "import pandas as pd \n",
    "import numpy as np\n",
    "import glob\n",
    "import os\n",
    "import math\n",
    "import scipy.stats as stats\n",
    "from scipy.stats import pearsonr\n",
    "from sklearn.decomposition import FactorAnalysis\n",
    "import pingouin as pg\n",
    "import semopy\n",
    "import statsmodels.api as sm\n",
    "from sklearn import linear_model\n",
    "from mlxtend.feature_selection import SequentialFeatureSelector\n",
    "from statsmodels.multivariate.manova import MANOVA\n",
    "import statsmodels.formula.api as smf\n",
    "import matplotlib.pyplot as plt\n",
    "from statsmodels.formula.api import ols\n",
    "from scipy.stats import f_oneway, kruskal\n",
    "\n",
    "\n",
    "from IPython.core.interactiveshell import InteractiveShell\n",
    "InteractiveShell.ast_node_interactivity = \"all\""
   ]
  },
  {
   "cell_type": "code",
   "execution_count": 56,
   "metadata": {},
   "outputs": [],
   "source": [
    "# Read CSV\n",
    "tam_df = pd.read_csv('/home/wb1115/VSCode_projects/cdss/cdss_1/cdss_1/tam_results/tam.csv')\n",
    "demographics = pd.read_csv('/home/wb1115/VSCode_projects/cdss/cdss_1/cdss_1/demographic_results/demographics_processed.csv')"
   ]
  },
  {
   "cell_type": "code",
   "execution_count": 57,
   "metadata": {},
   "outputs": [],
   "source": [
    "# Merge\n",
    "tam_df = pd.merge(tam_df, demographics[['user_id', 'user_archetype', 'age', 'sex_new', 'medical_speciality_new', 'grade_new', 'ai_familiarity_new']])\n",
    "# Move columns \n",
    "col = tam_df.pop('q28')\n",
    "tam_df.insert(23, col.name, col)\n",
    "col = tam_df.pop('q29')\n",
    "tam_df.insert(24, col.name, col)\n",
    "# Update column names\n",
    "tam_df.columns = ['user_id',\n",
    " 'user_archetype',\n",
    " 'ai_attitude',\n",
    " 'PU1',\n",
    " 'PU2',\n",
    " 'PU3',\n",
    " 'PU4',\n",
    " 'PU5',\n",
    " 'PU6',\n",
    " 'PU7',\n",
    " 'PU8',\n",
    " 'PEOU1',\n",
    " 'PU9',\n",
    " 'PEOU2',\n",
    " 'SE1',\n",
    " 'SE2',\n",
    " 'voluntary',\n",
    " 'SN1',\n",
    " 'SN2',\n",
    " 'prestige_image',\n",
    " 'PU10',\n",
    " 'PU11',\n",
    " 'BC1',\n",
    " 'BC2',\n",
    " 'BC3',\n",
    " 'clinical_workflow',\n",
    " 'infrastructure',\n",
    " 'intention',\n",
    " 'colleagues',\n",
    " 'PU12',\n",
    " 'final_comments',\n",
    " 'age',\n",
    " 'sex_new',\n",
    " 'medical_speciality_new',\n",
    " 'grade_new',\n",
    " 'ai_familiarity_new']\n",
    "\n",
    "# Get result columns \n",
    "tam_df_results = tam_df.iloc[:,2:30]"
   ]
  },
  {
   "cell_type": "code",
   "execution_count": 58,
   "metadata": {},
   "outputs": [],
   "source": [
    "# PU\n",
    "pu_df = tam_df_results.filter(regex='PU')"
   ]
  },
  {
   "cell_type": "code",
   "execution_count": 9,
   "metadata": {},
   "outputs": [
    {
     "data": {
      "text/plain": [
       "3.529569892473118"
      ]
     },
     "execution_count": 9,
     "metadata": {},
     "output_type": "execute_result"
    },
    {
     "data": {
      "text/plain": [
       "0.8717235557707815"
      ]
     },
     "execution_count": 9,
     "metadata": {},
     "output_type": "execute_result"
    }
   ],
   "source": [
    "# Mean and std\n",
    "pu_df.mean().mean()\n",
    "pu_df.std().mean()"
   ]
  },
  {
   "cell_type": "code",
   "execution_count": 59,
   "metadata": {},
   "outputs": [
    {
     "name": "stdout",
     "output_type": "stream",
     "text": [
      "Item-Total Correlations for pu_df:\n",
      " PU1     0.582786\n",
      "PU2     0.403667\n",
      "PU3     0.616049\n",
      "PU4     0.323770\n",
      "PU5     0.697578\n",
      "PU6     0.641762\n",
      "PU7     0.800793\n",
      "PU8     0.649634\n",
      "PU9     0.451745\n",
      "PU10    0.480605\n",
      "PU11    0.444927\n",
      "PU12    0.752123\n",
      "dtype: float64\n"
     ]
    }
   ],
   "source": [
    "# Corrected item-total correlation\n",
    "item_total_corr = pu_df.apply(lambda x: x.corr(pu_df.drop(columns=x.name).sum(axis=1)))\n",
    "print(f\"Item-Total Correlations for pu_df:\\n\", item_total_corr)"
   ]
  },
  {
   "cell_type": "code",
   "execution_count": 60,
   "metadata": {},
   "outputs": [
    {
     "name": "stdout",
     "output_type": "stream",
     "text": [
      "Bivariate Correlations (Spearman's rank):\n",
      "           PU1       PU2       PU3       PU4       PU5       PU6       PU7  \\\n",
      "PU1   1.000000  0.125745  0.393768  0.281075  0.559224  0.457258  0.478879   \n",
      "PU2   0.125745  1.000000  0.459092  0.038105  0.153458  0.275379  0.442264   \n",
      "PU3   0.393768  0.459092  1.000000  0.348442  0.609092  0.627293  0.655718   \n",
      "PU4   0.281075  0.038105  0.348442  1.000000  0.364175  0.267302  0.294930   \n",
      "PU5   0.559224  0.153458  0.609092  0.364175  1.000000  0.588774  0.622430   \n",
      "PU6   0.457258  0.275379  0.627293  0.267302  0.588774  1.000000  0.773989   \n",
      "PU7   0.478879  0.442264  0.655718  0.294930  0.622430  0.773989  1.000000   \n",
      "PU8   0.149005  0.542004  0.375326  0.382090  0.471121  0.347549  0.563312   \n",
      "PU9   0.304011  0.225226  0.062853  0.086529  0.221445  0.379682  0.585908   \n",
      "PU10  0.400805  0.219249  0.102158  0.162767  0.384495  0.150177  0.296157   \n",
      "PU11  0.532998  0.217506  0.230692  0.239100  0.322903  0.248848  0.397457   \n",
      "PU12  0.670345  0.285501  0.487910  0.368373  0.684918  0.420331  0.620180   \n",
      "\n",
      "           PU8       PU9      PU10      PU11      PU12  \n",
      "PU1   0.149005  0.304011  0.400805  0.532998  0.670345  \n",
      "PU2   0.542004  0.225226  0.219249  0.217506  0.285501  \n",
      "PU3   0.375326  0.062853  0.102158  0.230692  0.487910  \n",
      "PU4   0.382090  0.086529  0.162767  0.239100  0.368373  \n",
      "PU5   0.471121  0.221445  0.384495  0.322903  0.684918  \n",
      "PU6   0.347549  0.379682  0.150177  0.248848  0.420331  \n",
      "PU7   0.563312  0.585908  0.296157  0.397457  0.620180  \n",
      "PU8   1.000000  0.403811  0.546030  0.178192  0.628947  \n",
      "PU9   0.403811  1.000000  0.329325  0.217548  0.373127  \n",
      "PU10  0.546030  0.329325  1.000000  0.461459  0.549656  \n",
      "PU11  0.178192  0.217548  0.461459  1.000000  0.391856  \n",
      "PU12  0.628947  0.373127  0.549656  0.391856  1.000000  \n"
     ]
    }
   ],
   "source": [
    "# Calculate bivariate correlations between all question pairs\n",
    "correlation_matrix = pu_df.corr(method='spearman')  # Spearman for ordinal data\n",
    "\n",
    "# Print correlation matrix (optional) - explore using heatmaps for better visualization\n",
    "print(\"Bivariate Correlations (Spearman's rank):\")\n",
    "print(correlation_matrix)"
   ]
  },
  {
   "cell_type": "code",
   "execution_count": 99,
   "metadata": {},
   "outputs": [
    {
     "name": "stdout",
     "output_type": "stream",
     "text": [
      "Shapiro test: W-statistic=0.9665393829345703, p-value=0.42921146750450134\n"
     ]
    },
    {
     "data": {
      "text/plain": [
       "NormaltestResult(statistic=2.3921767821869846, pvalue=0.3023746731202391)"
      ]
     },
     "execution_count": 99,
     "metadata": {},
     "output_type": "execute_result"
    },
    {
     "data": {
      "text/plain": [
       "KstestResult(statistic=0.23351550444722868, pvalue=0.05711512696907728, statistic_location=0.5300701893095106, statistic_sign=1)"
      ]
     },
     "execution_count": 99,
     "metadata": {},
     "output_type": "execute_result"
    },
    {
     "name": "stdout",
     "output_type": "stream",
     "text": [
      "Levene's test for user_archetype: W-statistic=0.5420228241682179, p-value=0.4675095434408971\n",
      "Levene's test for age_new: W-statistic=1.1102932759449615, p-value=0.3728607054234604\n",
      "Levene's test for sex_new: W-statistic=0.2646853631476783, p-value=0.610818208763992\n",
      "Levene's test for medical_speciality_new: W-statistic=0.1354114174645457, p-value=0.9380539789792061\n",
      "Levene's test for grade_new: W-statistic=3.7352118993723984, p-value=0.0630960911551589\n",
      "Levene's test for ai_familiarity_new: W-statistic=0.5424188205628387, p-value=0.6574004996227871\n",
      "\n",
      "\n",
      "anova_bool: True\n",
      "\n",
      "\n",
      "Collective\n",
      "ANOVA for user_archetype: Statistic=0.0181, p-value=0.8946\n",
      "  -> The differences in user_archetype are not statistically significant.\n",
      "\n",
      "ANOVA for age_new: Statistic=0.5779, p-value=0.6826\n",
      "  -> The differences in age_new are not statistically significant.\n",
      "\n",
      "ANOVA for sex_new: Statistic=0.4728, p-value=0.5010\n",
      "  -> The differences in sex_new are not statistically significant.\n",
      "\n",
      "ANOVA for medical_speciality_new: Statistic=1.0121, p-value=0.4116\n",
      "  -> The differences in medical_speciality_new are not statistically significant.\n",
      "\n",
      "ANOVA for grade_new: Statistic=0.1841, p-value=0.6733\n",
      "  -> The differences in grade_new are not statistically significant.\n",
      "\n",
      "ANOVA for ai_familiarity_new: Statistic=0.5115, p-value=0.6797\n",
      "  -> The differences in ai_familiarity_new are not statistically significant.\n",
      "\n",
      "ANOVA for Residual: Statistic=nan, p-value=nan\n",
      "  -> The differences in Residual are not statistically significant.\n",
      "\n",
      "\n",
      "Independant\n",
      "ANOVA for user_archetype: Statistic=0.1190, p-value=0.7326\n",
      "  -> The differences in user_archetype are not statistically significant.\n",
      "\n",
      "ANOVA for age_new: Statistic=1.1495, p-value=0.3556\n",
      "  -> The differences in age_new are not statistically significant.\n",
      "\n",
      "ANOVA for sex_new: Statistic=0.3300, p-value=0.5701\n",
      "  -> The differences in sex_new are not statistically significant.\n",
      "\n",
      "ANOVA for medical_speciality_new: Statistic=2.1339, p-value=0.1193\n",
      "  -> The differences in medical_speciality_new are not statistically significant.\n",
      "\n",
      "ANOVA for grade_new: Statistic=2.8986, p-value=0.0994\n",
      "  -> The differences in grade_new are not statistically significant.\n",
      "\n",
      "ANOVA for ai_familiarity_new: Statistic=0.7109, p-value=0.5539\n",
      "  -> The differences in ai_familiarity_new are not statistically significant.\n",
      "\n"
     ]
    }
   ],
   "source": [
    "# Create df for demographic analysis\n",
    "combined_pu_df = pd.DataFrame(pu_df.mean(axis=1), columns=['pu_mean']).join(demographics[['user_archetype', 'age_new', 'sex_new', 'medical_speciality_new', 'grade_new', 'ai_familiarity_new']])\n",
    "\n",
    "# Imputation with Mode for categorical columns\n",
    "combined_pu_df['age_new'].fillna(combined_pu_df['age_new'].mode()[0], inplace=True)\n",
    "combined_pu_df['sex_new'].fillna(combined_pu_df['sex_new'].mode()[0], inplace=True)\n",
    "combined_pu_df['medical_speciality_new'].fillna(combined_pu_df['medical_speciality_new'].mode()[0], inplace=True)\n",
    "combined_pu_df['grade_new'].fillna(combined_pu_df['grade_new'].mode()[0], inplace=True)\n",
    "combined_pu_df['ai_familiarity_new'].fillna(combined_pu_df['ai_familiarity_new'].mode()[0], inplace=True)\n",
    "\n",
    "# Test for normality\n",
    "model = smf.ols(\"pu_mean ~ user_archetype + age_new + sex_new + medical_speciality_new + grade_new + ai_familiarity_new\", data=combined_pu_df).fit()\n",
    "shapiro_stat, shapiro_p_value = stats.shapiro(model.resid)\n",
    "print(f\"Shapiro test: W-statistic={shapiro_stat}, p-value={shapiro_p_value}\")\n",
    "stats.normaltest(model.resid)\n",
    "stats.kstest(model.resid, 'norm')\n",
    "\n",
    "# Test for vairance\n",
    "# Levene's Test for user_archetype\n",
    "levene_archetype_stat, levene_archetype_p_value = stats.levene(combined_pu_df['pu_mean'][combined_pu_df['user_archetype'] == 'a'],\n",
    "                       combined_pu_df['pu_mean'][combined_pu_df['user_archetype'] == 'b'])\n",
    "print(f\"Levene's test for user_archetype: W-statistic={levene_archetype_stat}, p-value={levene_archetype_p_value}\")\n",
    "# Levene's Test for age_new\n",
    "unique_ages = combined_pu_df['age_new'].unique()\n",
    "grouped_ages = [combined_pu_df['pu_mean'][combined_pu_df['age_new'] == age] for age in unique_ages]\n",
    "levene_age_stat, levene_age_p_value = stats.levene(*grouped_ages)\n",
    "print(f\"Levene's test for age_new: W-statistic={levene_age_stat}, p-value={levene_age_p_value}\")\n",
    "# Levene's Test for sex_new\n",
    "levene_sex_stat, levene_sex_p_value = stats.levene(combined_pu_df['pu_mean'][combined_pu_df['sex_new'] == 'Male'],\n",
    "                       combined_pu_df['pu_mean'][combined_pu_df['sex_new'] == 'Female'])\n",
    "print(f\"Levene's test for sex_new: W-statistic={levene_sex_stat}, p-value={levene_sex_p_value}\")\n",
    "# Levene's Test for medical_speciality_new\n",
    "unique_medical_specialities = combined_pu_df['medical_speciality_new'].unique()\n",
    "grouped_medical_specialities = [combined_pu_df['pu_mean'][combined_pu_df['medical_speciality_new'] == speciality] for speciality in unique_medical_specialities]\n",
    "levene_speciality_stat, levene_speciality_p_value = stats.levene(*grouped_medical_specialities)\n",
    "print(f\"Levene's test for medical_speciality_new: W-statistic={levene_speciality_stat}, p-value={levene_speciality_p_value}\")\n",
    "# Levene's Test for grade_new\n",
    "unique_grades = combined_pu_df['grade_new'].unique()\n",
    "grouped_grades = [combined_pu_df['pu_mean'][combined_pu_df['grade_new'] == grade] for grade in unique_grades]\n",
    "levene_grade_stat, levene_grade_p_value = stats.levene(*grouped_grades)\n",
    "print(f\"Levene's test for grade_new: W-statistic={levene_grade_stat}, p-value={levene_grade_p_value}\")\n",
    "# Levene's Test for ai_familiarity_new\n",
    "unique_ais = combined_pu_df['ai_familiarity_new'].unique()\n",
    "grouped_ais = [combined_pu_df['pu_mean'][combined_pu_df['ai_familiarity_new'] == ai] for ai in unique_ais]\n",
    "levene_ai_stat, levene_ai_p_value = stats.levene(*grouped_ais)\n",
    "print(f\"Levene's test for ai_familiarity_new: W-statistic={levene_ai_stat}, p-value={levene_ai_p_value}\")\n",
    "\n",
    "if shapiro_p_value >= 0.05 and levene_archetype_p_value >=0.05 and levene_age_p_value >=0.05 and levene_sex_p_value >= 0.05 and levene_speciality_p_value >=0.05 and levene_grade_p_value >= 0.05 and levene_ai_p_value >= 0.05:\n",
    "    anova_bool = True\n",
    "else:\n",
    "    anova_bool = False\n",
    "\n",
    "print('\\n')\n",
    "print('anova_bool:', anova_bool)\n",
    "print('\\n')\n",
    "\n",
    "# Perform the appropriate test\n",
    "# Do anover independantly for each variable and collectivly \n",
    "if anova_bool:\n",
    "    print('Collective')\n",
    "    model = ols(\"pu_mean ~ user_archetype + age_new + sex_new + medical_speciality_new + grade_new + ai_familiarity_new\", data=combined_pu_df).fit()\n",
    "    aov_table = sm.stats.anova_lm(model, typ=2)\n",
    "    # Interpretation\n",
    "    for index, row in aov_table.iterrows():\n",
    "        sum_sq, df_value, f_value, pr_f = row\n",
    "        print(f\"ANOVA for {index}: Statistic={f_value:.4f}, p-value={pr_f:.4f}\")\n",
    "        if pr_f < 0.05:\n",
    "            print(f\"  -> The differences in {index} are statistically significant.\\n\")\n",
    "        else:\n",
    "            print(f\"  -> The differences in {index} are not statistically significant.\\n\")\n",
    "\n",
    "# Function to perform ANOVA\n",
    "def perform_anova(df, group_var):\n",
    "    groups = df.groupby(group_var)['pu_mean'].apply(list)\n",
    "    stat, p_value = f_oneway(*groups)\n",
    "    return stat, p_value\n",
    "\n",
    "# Function to perform Kruskal-Wallis H test\n",
    "def perform_kruskal(df, group_var):\n",
    "    groups = df.groupby(group_var)['pu_mean'].apply(list)\n",
    "    stat, p_value = kruskal(*groups)\n",
    "    return stat, p_value\n",
    "\n",
    "print('\\nIndependant')\n",
    "independent_vars = ['user_archetype', 'age_new', 'sex_new', 'medical_speciality_new', 'grade_new', 'ai_familiarity_new']\n",
    "results = {}\n",
    "for var in independent_vars:\n",
    "    if anova_bool:\n",
    "        stat, p_value = perform_anova(combined_pu_df, var)\n",
    "        test_name = 'ANOVA'\n",
    "    else:\n",
    "        stat, p_value = perform_kruskal(combined_pu_df, var)\n",
    "        test_name = 'Kruskal-Wallis'\n",
    "    results[var] = {'test': test_name, 'statistic': stat, 'p_value': p_value}\n",
    "\n",
    "# Print the results\n",
    "for var, result in results.items():\n",
    "    print(f\"{result['test']} for {var}: Statistic={result['statistic']:.4f}, p-value={result['p_value']:.4f}\")\n",
    "    if result['p_value'] < 0.05:\n",
    "        print(f\"  -> The differences in {var} are statistically significant.\\n\")\n",
    "    else:\n",
    "        print(f\"  -> The differences in {var} are not statistically significant.\\n\")"
   ]
  },
  {
   "cell_type": "code",
   "execution_count": 45,
   "metadata": {},
   "outputs": [
    {
     "data": {
      "text/plain": [
       "Text(0.5, 1.0, 'Probability plot of regression residuals \\n with R value')"
      ]
     },
     "execution_count": 45,
     "metadata": {},
     "output_type": "execute_result"
    },
    {
     "data": {
      "text/plain": [
       "<bound method Axes.set of <Axes: title={'center': 'Probability plot of regression residuals \\n with R value'}, xlabel='Theoretical quantiles', ylabel='Ordered Values'>>"
      ]
     },
     "execution_count": 45,
     "metadata": {},
     "output_type": "execute_result"
    },
    {
     "data": {
      "image/png": "[encoded data removed]",
      "text/plain": [
       "<Figure size 1000x1000 with 1 Axes>"
      ]
     },
     "metadata": {},
     "output_type": "display_data"
    }
   ],
   "source": [
    "fig = plt.figure(figsize= (10, 10))\n",
    "ax = fig.add_subplot(111)\n",
    "\n",
    "normality_plot, stat = stats.probplot(model.resid, plot= plt, rvalue= True)\n",
    "ax.set_title(\"Probability plot of regression residuals \\n with R value\")\n",
    "ax.set\n",
    "\n",
    "plt.show()"
   ]
  },
  {
   "cell_type": "code",
   "execution_count": null,
   "metadata": {},
   "outputs": [],
   "source": []
  },
  {
   "cell_type": "markdown",
   "metadata": {},
   "source": [
    "# Old"
   ]
  },
  {
   "cell_type": "code",
   "execution_count": 47,
   "metadata": {},
   "outputs": [
    {
     "name": "stdout",
     "output_type": "stream",
     "text": [
      "HZResults(hz=0.9957092836013285, pval=0.029661972701394965, normal=False)\n"
     ]
    }
   ],
   "source": [
    "mardia_test = pg.multivariate_normality(pu_df, alpha=0.05)\n",
    "print(mardia_test)"
   ]
  },
  {
   "cell_type": "code",
   "execution_count": 37,
   "metadata": {},
   "outputs": [
    {
     "name": "stderr",
     "output_type": "stream",
     "text": [
      "/home/wb1115/anaconda3/envs/cdss/lib/python3.10/site-packages/pandas/core/frame.py:10866: RuntimeWarning: Degrees of freedom <= 0 for slice\n",
      "  base_cov = np.cov(mat.T, ddof=ddof)\n",
      "/home/wb1115/anaconda3/envs/cdss/lib/python3.10/site-packages/numpy/lib/function_base.py:2748: RuntimeWarning: divide by zero encountered in divide\n",
      "  c *= np.true_divide(1, fact)\n",
      "/home/wb1115/anaconda3/envs/cdss/lib/python3.10/site-packages/numpy/lib/function_base.py:2748: RuntimeWarning: invalid value encountered in multiply\n",
      "  c *= np.true_divide(1, fact)\n",
      "/home/wb1115/anaconda3/envs/cdss/lib/python3.10/site-packages/numpy/linalg/linalg.py:2180: RuntimeWarning: invalid value encountered in det\n",
      "  r = _umath_linalg.det(a, signature=signature)\n",
      "/home/wb1115/anaconda3/envs/cdss/lib/python3.10/site-packages/pingouin/multivariate.py:386: RuntimeWarning: divide by zero encountered in divide\n",
      "  c *= (1 / v).sum() - 1 / v.sum()\n"
     ]
    },
    {
     "data": {
      "text/html": [
       "<div>\n",
       "<style scoped>\n",
       "    .dataframe tbody tr th:only-of-type {\n",
       "        vertical-align: middle;\n",
       "    }\n",
       "\n",
       "    .dataframe tbody tr th {\n",
       "        vertical-align: top;\n",
       "    }\n",
       "\n",
       "    .dataframe thead th {\n",
       "        text-align: right;\n",
       "    }\n",
       "</style>\n",
       "<table border=\"1\" class=\"dataframe\">\n",
       "  <thead>\n",
       "    <tr style=\"text-align: right;\">\n",
       "      <th></th>\n",
       "      <th>Chi2</th>\n",
       "      <th>df</th>\n",
       "      <th>pval</th>\n",
       "      <th>equal_cov</th>\n",
       "    </tr>\n",
       "  </thead>\n",
       "  <tbody>\n",
       "    <tr>\n",
       "      <th>box</th>\n",
       "      <td>NaN</td>\n",
       "      <td>1638.0</td>\n",
       "      <td>NaN</td>\n",
       "      <td>False</td>\n",
       "    </tr>\n",
       "  </tbody>\n",
       "</table>\n",
       "</div>"
      ],
      "text/plain": [
       "     Chi2      df  pval  equal_cov\n",
       "box   NaN  1638.0   NaN      False"
      ]
     },
     "execution_count": 37,
     "metadata": {},
     "output_type": "execute_result"
    },
    {
     "data": {
      "text/html": [
       "<div>\n",
       "<style scoped>\n",
       "    .dataframe tbody tr th:only-of-type {\n",
       "        vertical-align: middle;\n",
       "    }\n",
       "\n",
       "    .dataframe tbody tr th {\n",
       "        vertical-align: top;\n",
       "    }\n",
       "\n",
       "    .dataframe thead th {\n",
       "        text-align: right;\n",
       "    }\n",
       "</style>\n",
       "<table border=\"1\" class=\"dataframe\">\n",
       "  <thead>\n",
       "    <tr style=\"text-align: right;\">\n",
       "      <th></th>\n",
       "      <th>Chi2</th>\n",
       "      <th>df</th>\n",
       "      <th>pval</th>\n",
       "      <th>equal_cov</th>\n",
       "    </tr>\n",
       "  </thead>\n",
       "  <tbody>\n",
       "    <tr>\n",
       "      <th>box</th>\n",
       "      <td>75.593733</td>\n",
       "      <td>78.0</td>\n",
       "      <td>0.556115</td>\n",
       "      <td>True</td>\n",
       "    </tr>\n",
       "  </tbody>\n",
       "</table>\n",
       "</div>"
      ],
      "text/plain": [
       "          Chi2    df      pval  equal_cov\n",
       "box  75.593733  78.0  0.556115       True"
      ]
     },
     "execution_count": 37,
     "metadata": {},
     "output_type": "execute_result"
    },
    {
     "name": "stderr",
     "output_type": "stream",
     "text": [
      "/home/wb1115/anaconda3/envs/cdss/lib/python3.10/site-packages/pingouin/multivariate.py:375: RuntimeWarning: invalid value encountered in power\n",
      "  M = ((np.linalg.det(covs) / S_det) ** (v / 2)).prod()\n"
     ]
    },
    {
     "data": {
      "text/html": [
       "<div>\n",
       "<style scoped>\n",
       "    .dataframe tbody tr th:only-of-type {\n",
       "        vertical-align: middle;\n",
       "    }\n",
       "\n",
       "    .dataframe tbody tr th {\n",
       "        vertical-align: top;\n",
       "    }\n",
       "\n",
       "    .dataframe thead th {\n",
       "        text-align: right;\n",
       "    }\n",
       "</style>\n",
       "<table border=\"1\" class=\"dataframe\">\n",
       "  <thead>\n",
       "    <tr style=\"text-align: right;\">\n",
       "      <th></th>\n",
       "      <th>Chi2</th>\n",
       "      <th>df</th>\n",
       "      <th>pval</th>\n",
       "      <th>equal_cov</th>\n",
       "    </tr>\n",
       "  </thead>\n",
       "  <tbody>\n",
       "    <tr>\n",
       "      <th>box</th>\n",
       "      <td>NaN</td>\n",
       "      <td>234.0</td>\n",
       "      <td>NaN</td>\n",
       "      <td>False</td>\n",
       "    </tr>\n",
       "  </tbody>\n",
       "</table>\n",
       "</div>"
      ],
      "text/plain": [
       "     Chi2     df  pval  equal_cov\n",
       "box   NaN  234.0   NaN      False"
      ]
     },
     "execution_count": 37,
     "metadata": {},
     "output_type": "execute_result"
    },
    {
     "name": "stderr",
     "output_type": "stream",
     "text": [
      "/home/wb1115/anaconda3/envs/cdss/lib/python3.10/site-packages/pingouin/multivariate.py:375: RuntimeWarning: invalid value encountered in power\n",
      "  M = ((np.linalg.det(covs) / S_det) ** (v / 2)).prod()\n"
     ]
    },
    {
     "data": {
      "text/html": [
       "<div>\n",
       "<style scoped>\n",
       "    .dataframe tbody tr th:only-of-type {\n",
       "        vertical-align: middle;\n",
       "    }\n",
       "\n",
       "    .dataframe tbody tr th {\n",
       "        vertical-align: top;\n",
       "    }\n",
       "\n",
       "    .dataframe thead th {\n",
       "        text-align: right;\n",
       "    }\n",
       "</style>\n",
       "<table border=\"1\" class=\"dataframe\">\n",
       "  <thead>\n",
       "    <tr style=\"text-align: right;\">\n",
       "      <th></th>\n",
       "      <th>Chi2</th>\n",
       "      <th>df</th>\n",
       "      <th>pval</th>\n",
       "      <th>equal_cov</th>\n",
       "    </tr>\n",
       "  </thead>\n",
       "  <tbody>\n",
       "    <tr>\n",
       "      <th>box</th>\n",
       "      <td>NaN</td>\n",
       "      <td>78.0</td>\n",
       "      <td>NaN</td>\n",
       "      <td>False</td>\n",
       "    </tr>\n",
       "  </tbody>\n",
       "</table>\n",
       "</div>"
      ],
      "text/plain": [
       "     Chi2    df  pval  equal_cov\n",
       "box   NaN  78.0   NaN      False"
      ]
     },
     "execution_count": 37,
     "metadata": {},
     "output_type": "execute_result"
    },
    {
     "name": "stderr",
     "output_type": "stream",
     "text": [
      "/home/wb1115/anaconda3/envs/cdss/lib/python3.10/site-packages/pandas/core/frame.py:10866: RuntimeWarning: Degrees of freedom <= 0 for slice\n",
      "  base_cov = np.cov(mat.T, ddof=ddof)\n",
      "/home/wb1115/anaconda3/envs/cdss/lib/python3.10/site-packages/numpy/lib/function_base.py:2748: RuntimeWarning: divide by zero encountered in divide\n",
      "  c *= np.true_divide(1, fact)\n",
      "/home/wb1115/anaconda3/envs/cdss/lib/python3.10/site-packages/numpy/lib/function_base.py:2748: RuntimeWarning: invalid value encountered in multiply\n",
      "  c *= np.true_divide(1, fact)\n",
      "/home/wb1115/anaconda3/envs/cdss/lib/python3.10/site-packages/numpy/linalg/linalg.py:2180: RuntimeWarning: invalid value encountered in det\n",
      "  r = _umath_linalg.det(a, signature=signature)\n",
      "/home/wb1115/anaconda3/envs/cdss/lib/python3.10/site-packages/pingouin/multivariate.py:386: RuntimeWarning: divide by zero encountered in divide\n",
      "  c *= (1 / v).sum() - 1 / v.sum()\n"
     ]
    },
    {
     "data": {
      "text/html": [
       "<div>\n",
       "<style scoped>\n",
       "    .dataframe tbody tr th:only-of-type {\n",
       "        vertical-align: middle;\n",
       "    }\n",
       "\n",
       "    .dataframe tbody tr th {\n",
       "        vertical-align: top;\n",
       "    }\n",
       "\n",
       "    .dataframe thead th {\n",
       "        text-align: right;\n",
       "    }\n",
       "</style>\n",
       "<table border=\"1\" class=\"dataframe\">\n",
       "  <thead>\n",
       "    <tr style=\"text-align: right;\">\n",
       "      <th></th>\n",
       "      <th>Chi2</th>\n",
       "      <th>df</th>\n",
       "      <th>pval</th>\n",
       "      <th>equal_cov</th>\n",
       "    </tr>\n",
       "  </thead>\n",
       "  <tbody>\n",
       "    <tr>\n",
       "      <th>box</th>\n",
       "      <td>NaN</td>\n",
       "      <td>234.0</td>\n",
       "      <td>NaN</td>\n",
       "      <td>False</td>\n",
       "    </tr>\n",
       "  </tbody>\n",
       "</table>\n",
       "</div>"
      ],
      "text/plain": [
       "     Chi2     df  pval  equal_cov\n",
       "box   NaN  234.0   NaN      False"
      ]
     },
     "execution_count": 37,
     "metadata": {},
     "output_type": "execute_result"
    }
   ],
   "source": [
    "pg.box_m(data=pu_df.join(demographics[['age', 'sex_new', 'medical_speciality_new', 'grade_new', 'ai_familiarity_new']]), dvs=['PU1', 'PU2', 'PU3', 'PU4', 'PU5', 'PU6', 'PU7', 'PU8', 'PU9', 'PU10', 'PU11', 'PU12'], group='age')\n",
    "pg.box_m(data=pu_df.join(demographics[['age', 'sex_new', 'medical_speciality_new', 'grade_new', 'ai_familiarity_new']]), dvs=['PU1', 'PU2', 'PU3', 'PU4', 'PU5', 'PU6', 'PU7', 'PU8', 'PU9', 'PU10', 'PU11', 'PU12'], group='sex_new')\n",
    "pg.box_m(data=pu_df.join(demographics[['age', 'sex_new', 'medical_speciality_new', 'grade_new', 'ai_familiarity_new']]), dvs=['PU1', 'PU2', 'PU3', 'PU4', 'PU5', 'PU6', 'PU7', 'PU8', 'PU9', 'PU10', 'PU11', 'PU12'], group='medical_speciality_new')\n",
    "pg.box_m(data=pu_df.join(demographics[['age', 'sex_new', 'medical_speciality_new', 'grade_new', 'ai_familiarity_new']]), dvs=['PU1', 'PU2', 'PU3', 'PU4', 'PU5', 'PU6', 'PU7', 'PU8', 'PU9', 'PU10', 'PU11', 'PU12'], group='grade_new')\n",
    "pg.box_m(data=pu_df.join(demographics[['age', 'sex_new', 'medical_speciality_new', 'grade_new', 'ai_familiarity_new']]), dvs=['PU1', 'PU2', 'PU3', 'PU4', 'PU5', 'PU6', 'PU7', 'PU8', 'PU9', 'PU10', 'PU11', 'PU12'], group='ai_familiarity_new')"
   ]
  },
  {
   "cell_type": "code",
   "execution_count": 27,
   "metadata": {},
   "outputs": [
    {
     "data": {
      "text/plain": [
       "'PU1+PU2+PU3+PU4+PU5+PU6+PU7+PU8+PU9+PU10+PU11+PU12 ~ age + sex_new + medical_speciality_new + grade_new + ai_familiarity_new'"
      ]
     },
     "execution_count": 27,
     "metadata": {},
     "output_type": "execute_result"
    }
   ],
   "source": [
    "formula"
   ]
  },
  {
   "cell_type": "code",
   "execution_count": 26,
   "metadata": {},
   "outputs": [],
   "source": [
    "# Prepare the formula for MANOVA\n",
    "# Include all questionnaire items in the dependent variables section\n",
    "dependent_vars = '+'.join([f'{i}' for i in pu_df.columns])\n",
    "formula = f'{dependent_vars} ~ age + sex_new + medical_speciality_new + grade_new + ai_familiarity_new'\n",
    "\n",
    "manova = MANOVA.from_formula(formula, data=pu_df.join(demographics[['age', 'sex_new', 'medical_speciality_new', 'grade_new', 'ai_familiarity_new']]))\n",
    "result = manova.mv_test()"
   ]
  },
  {
   "cell_type": "code",
   "execution_count": 29,
   "metadata": {},
   "outputs": [
    {
     "name": "stdout",
     "output_type": "stream",
     "text": [
      "                  Multivariate linear model\n",
      "==============================================================\n",
      "                                                              \n",
      "--------------------------------------------------------------\n",
      "         Intercept        Value   Num DF Den DF F Value Pr > F\n",
      "--------------------------------------------------------------\n",
      "            Wilks' lambda 0.1534 12.0000 5.0000  2.2992 0.1841\n",
      "           Pillai's trace 0.8466 12.0000 5.0000  2.2992 0.1841\n",
      "   Hotelling-Lawley trace 5.5182 12.0000 5.0000  2.2992 0.1841\n",
      "      Roy's greatest root 5.5182 12.0000 5.0000  2.2992 0.1841\n",
      "--------------------------------------------------------------\n",
      "                                                              \n",
      "--------------------------------------------------------------\n",
      "          sex_new         Value   Num DF Den DF F Value Pr > F\n",
      "--------------------------------------------------------------\n",
      "            Wilks' lambda 0.2781 12.0000 5.0000  1.0816 0.5018\n",
      "           Pillai's trace 0.7219 12.0000 5.0000  1.0816 0.5018\n",
      "   Hotelling-Lawley trace 2.5958 12.0000 5.0000  1.0816 0.5018\n",
      "      Roy's greatest root 2.5958 12.0000 5.0000  1.0816 0.5018\n",
      "--------------------------------------------------------------\n",
      "                                                              \n",
      "--------------------------------------------------------------\n",
      " medical_speciality_new  Value   Num DF  Den DF F Value Pr > F\n",
      "--------------------------------------------------------------\n",
      "          Wilks' lambda  0.0076 36.0000 15.5007  1.8198 0.1035\n",
      "         Pillai's trace  2.2363 36.0000 21.0000  1.7082 0.0978\n",
      " Hotelling-Lawley trace 16.9690 36.0000  5.7674  2.1648 0.1746\n",
      "    Roy's greatest root 11.9469 12.0000  7.0000  6.9690 0.0080\n",
      "--------------------------------------------------------------\n",
      "                                                              \n",
      "--------------------------------------------------------------\n",
      "         grade_new        Value   Num DF Den DF F Value Pr > F\n",
      "--------------------------------------------------------------\n",
      "            Wilks' lambda 0.2102 12.0000 5.0000  1.5652 0.3253\n",
      "           Pillai's trace 0.7898 12.0000 5.0000  1.5652 0.3253\n",
      "   Hotelling-Lawley trace 3.7564 12.0000 5.0000  1.5652 0.3253\n",
      "      Roy's greatest root 3.7564 12.0000 5.0000  1.5652 0.3253\n",
      "--------------------------------------------------------------\n",
      "                                                              \n",
      "--------------------------------------------------------------\n",
      "    ai_familiarity_new   Value   Num DF  Den DF F Value Pr > F\n",
      "--------------------------------------------------------------\n",
      "           Wilks' lambda 0.0232 36.0000 15.5007  1.1092 0.4287\n",
      "          Pillai's trace 2.0617 36.0000 21.0000  1.2818 0.2770\n",
      "  Hotelling-Lawley trace 8.3730 36.0000  5.7674  1.0682 0.5212\n",
      "     Roy's greatest root 3.9887 12.0000  7.0000  2.3267 0.1345\n",
      "--------------------------------------------------------------\n",
      "                                                              \n",
      "--------------------------------------------------------------\n",
      "            age           Value   Num DF Den DF F Value Pr > F\n",
      "--------------------------------------------------------------\n",
      "            Wilks' lambda 0.1577 12.0000 5.0000  2.2253 0.1940\n",
      "           Pillai's trace 0.8423 12.0000 5.0000  2.2253 0.1940\n",
      "   Hotelling-Lawley trace 5.3408 12.0000 5.0000  2.2253 0.1940\n",
      "      Roy's greatest root 5.3408 12.0000 5.0000  2.2253 0.1940\n",
      "==============================================================\n",
      "\n"
     ]
    }
   ],
   "source": [
    "print(result)\n"
   ]
  },
  {
   "cell_type": "code",
   "execution_count": 38,
   "metadata": {},
   "outputs": [],
   "source": [
    "# Prepare the formula for MANOVA\n",
    "# Include all questionnaire items in the dependent variables section\n",
    "dependent_vars = '+'.join([f'{i}' for i in pu_df.columns])\n",
    "formula = f'{dependent_vars} ~ age + sex_new + medical_speciality_new + grade_new + ai_familiarity_new'\n",
    "\n",
    "manova = MANOVA.from_formula(formula, data=pu_df.rank().join(demographics[['age', 'sex_new', 'medical_speciality_new', 'grade_new', 'ai_familiarity_new']]))\n",
    "result = manova.mv_test()"
   ]
  },
  {
   "cell_type": "code",
   "execution_count": 39,
   "metadata": {},
   "outputs": [
    {
     "name": "stdout",
     "output_type": "stream",
     "text": [
      "                  Multivariate linear model\n",
      "==============================================================\n",
      "                                                              \n",
      "--------------------------------------------------------------\n",
      "         Intercept        Value   Num DF Den DF F Value Pr > F\n",
      "--------------------------------------------------------------\n",
      "            Wilks' lambda 0.2193 12.0000 5.0000  1.4837 0.3489\n",
      "           Pillai's trace 0.7807 12.0000 5.0000  1.4837 0.3489\n",
      "   Hotelling-Lawley trace 3.5609 12.0000 5.0000  1.4837 0.3489\n",
      "      Roy's greatest root 3.5609 12.0000 5.0000  1.4837 0.3489\n",
      "--------------------------------------------------------------\n",
      "                                                              \n",
      "--------------------------------------------------------------\n",
      "          sex_new         Value   Num DF Den DF F Value Pr > F\n",
      "--------------------------------------------------------------\n",
      "            Wilks' lambda 0.4661 12.0000 5.0000  0.4774 0.8635\n",
      "           Pillai's trace 0.5339 12.0000 5.0000  0.4774 0.8635\n",
      "   Hotelling-Lawley trace 1.1457 12.0000 5.0000  0.4774 0.8635\n",
      "      Roy's greatest root 1.1457 12.0000 5.0000  0.4774 0.8635\n",
      "--------------------------------------------------------------\n",
      "                                                              \n",
      "--------------------------------------------------------------\n",
      " medical_speciality_new  Value   Num DF  Den DF F Value Pr > F\n",
      "--------------------------------------------------------------\n",
      "          Wilks' lambda  0.0099 36.0000 15.5007  1.6208 0.1547\n",
      "         Pillai's trace  2.1447 36.0000 21.0000  1.4626 0.1794\n",
      " Hotelling-Lawley trace 15.4067 36.0000  5.7674  1.9655 0.2088\n",
      "    Roy's greatest root 10.8558 12.0000  7.0000  6.3325 0.0106\n",
      "--------------------------------------------------------------\n",
      "                                                              \n",
      "--------------------------------------------------------------\n",
      "         grade_new        Value   Num DF Den DF F Value Pr > F\n",
      "--------------------------------------------------------------\n",
      "            Wilks' lambda 0.2014 12.0000 5.0000  1.6522 0.3024\n",
      "           Pillai's trace 0.7986 12.0000 5.0000  1.6522 0.3024\n",
      "   Hotelling-Lawley trace 3.9652 12.0000 5.0000  1.6522 0.3024\n",
      "      Roy's greatest root 3.9652 12.0000 5.0000  1.6522 0.3024\n",
      "--------------------------------------------------------------\n",
      "                                                              \n",
      "--------------------------------------------------------------\n",
      "    ai_familiarity_new   Value   Num DF  Den DF F Value Pr > F\n",
      "--------------------------------------------------------------\n",
      "           Wilks' lambda 0.0253 36.0000 15.5007  1.0645 0.4657\n",
      "          Pillai's trace 2.0797 36.0000 21.0000  1.3183 0.2541\n",
      "  Hotelling-Lawley trace 7.6874 36.0000  5.7674  0.9807 0.5733\n",
      "     Roy's greatest root 3.9277 12.0000  7.0000  2.2912 0.1389\n",
      "--------------------------------------------------------------\n",
      "                                                              \n",
      "--------------------------------------------------------------\n",
      "            age           Value   Num DF Den DF F Value Pr > F\n",
      "--------------------------------------------------------------\n",
      "            Wilks' lambda 0.2082 12.0000 5.0000  1.5842 0.3201\n",
      "           Pillai's trace 0.7918 12.0000 5.0000  1.5842 0.3201\n",
      "   Hotelling-Lawley trace 3.8020 12.0000 5.0000  1.5842 0.3201\n",
      "      Roy's greatest root 3.8020 12.0000 5.0000  1.5842 0.3201\n",
      "==============================================================\n",
      "\n"
     ]
    }
   ],
   "source": [
    "print(result)"
   ]
  }
 ],
 "metadata": {
  "kernelspec": {
   "display_name": "cdss",
   "language": "python",
   "name": "python3"
  },
  "language_info": {
   "codemirror_mode": {
    "name": "ipython",
    "version": 3
   },
   "file_extension": ".py",
   "mimetype": "text/x-python",
   "name": "python",
   "nbconvert_exporter": "python",
   "pygments_lexer": "ipython3",
   "version": "3.10.13"
  }
 },
 "nbformat": 4,
 "nbformat_minor": 2
}
