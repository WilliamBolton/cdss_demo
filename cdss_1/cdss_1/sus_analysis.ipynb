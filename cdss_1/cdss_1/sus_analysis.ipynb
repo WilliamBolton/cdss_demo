{
 "cells": [
  {
   "cell_type": "code",
   "execution_count": 1,
   "metadata": {},
   "outputs": [],
   "source": [
    "import pandas as pd\n",
    "import numpy as np"
   ]
  },
  {
   "cell_type": "code",
   "execution_count": 2,
   "metadata": {},
   "outputs": [],
   "source": [
    "# Read CSV\n",
    "sus_df = pd.read_csv('/home/wb1115/VSCode_projects/cdss/cdss_1/cdss_1/sus_results/sus.csv')"
   ]
  },
  {
   "cell_type": "code",
   "execution_count": 3,
   "metadata": {},
   "outputs": [
    {
     "name": "stdout",
     "output_type": "stream",
     "text": [
      "72.0\n",
      "7.984359711335656\n"
     ]
    }
   ],
   "source": [
    "# Filter \n",
    "filtered_sus_df = sus_df.iloc[:, 2:]\n",
    "# Select columns with even and odd indices\n",
    "odd_index_columns = filtered_sus_df.iloc[:, ::2]\n",
    "even_index_columns = filtered_sus_df.iloc[:, 1::2]\n",
    "# Subtract 1 from odd_index_columns\n",
    "odd_index_columns = odd_index_columns - 1\n",
    "# Subtract from 5 for even_index_columns\n",
    "even_index_columns = 5 - even_index_columns\n",
    "# Combine\n",
    "processed_sus_df = even_index_columns.join(odd_index_columns)\n",
    "# Sum\n",
    "processed_sus_df['score'] = processed_sus_df.sum(axis=1)*2.5\n",
    "# Average\n",
    "print(processed_sus_df['score'].mean())\n",
    "# Std\n",
    "print(processed_sus_df['score'].std())"
   ]
  },
  {
   "cell_type": "code",
   "execution_count": 4,
   "metadata": {},
   "outputs": [
    {
     "data": {
      "text/html": [
       "<div>\n",
       "<style scoped>\n",
       "    .dataframe tbody tr th:only-of-type {\n",
       "        vertical-align: middle;\n",
       "    }\n",
       "\n",
       "    .dataframe tbody tr th {\n",
       "        vertical-align: top;\n",
       "    }\n",
       "\n",
       "    .dataframe thead th {\n",
       "        text-align: right;\n",
       "    }\n",
       "</style>\n",
       "<table border=\"1\" class=\"dataframe\">\n",
       "  <thead>\n",
       "    <tr style=\"text-align: right;\">\n",
       "      <th></th>\n",
       "      <th>q2</th>\n",
       "      <th>q4</th>\n",
       "      <th>q6</th>\n",
       "      <th>q8</th>\n",
       "      <th>q10</th>\n",
       "      <th>q1</th>\n",
       "      <th>q3</th>\n",
       "      <th>q5</th>\n",
       "      <th>q7</th>\n",
       "      <th>q9</th>\n",
       "      <th>score</th>\n",
       "    </tr>\n",
       "  </thead>\n",
       "  <tbody>\n",
       "    <tr>\n",
       "      <th>0</th>\n",
       "      <td>3</td>\n",
       "      <td>3</td>\n",
       "      <td>4</td>\n",
       "      <td>3</td>\n",
       "      <td>1</td>\n",
       "      <td>3</td>\n",
       "      <td>3</td>\n",
       "      <td>3</td>\n",
       "      <td>2</td>\n",
       "      <td>3</td>\n",
       "      <td>70.0</td>\n",
       "    </tr>\n",
       "    <tr>\n",
       "      <th>1</th>\n",
       "      <td>1</td>\n",
       "      <td>4</td>\n",
       "      <td>1</td>\n",
       "      <td>3</td>\n",
       "      <td>4</td>\n",
       "      <td>0</td>\n",
       "      <td>2</td>\n",
       "      <td>2</td>\n",
       "      <td>4</td>\n",
       "      <td>4</td>\n",
       "      <td>62.5</td>\n",
       "    </tr>\n",
       "    <tr>\n",
       "      <th>2</th>\n",
       "      <td>2</td>\n",
       "      <td>3</td>\n",
       "      <td>4</td>\n",
       "      <td>2</td>\n",
       "      <td>4</td>\n",
       "      <td>2</td>\n",
       "      <td>1</td>\n",
       "      <td>3</td>\n",
       "      <td>2</td>\n",
       "      <td>4</td>\n",
       "      <td>67.5</td>\n",
       "    </tr>\n",
       "    <tr>\n",
       "      <th>3</th>\n",
       "      <td>3</td>\n",
       "      <td>4</td>\n",
       "      <td>3</td>\n",
       "      <td>3</td>\n",
       "      <td>3</td>\n",
       "      <td>3</td>\n",
       "      <td>3</td>\n",
       "      <td>3</td>\n",
       "      <td>3</td>\n",
       "      <td>3</td>\n",
       "      <td>77.5</td>\n",
       "    </tr>\n",
       "    <tr>\n",
       "      <th>4</th>\n",
       "      <td>3</td>\n",
       "      <td>4</td>\n",
       "      <td>4</td>\n",
       "      <td>3</td>\n",
       "      <td>3</td>\n",
       "      <td>3</td>\n",
       "      <td>3</td>\n",
       "      <td>3</td>\n",
       "      <td>4</td>\n",
       "      <td>3</td>\n",
       "      <td>82.5</td>\n",
       "    </tr>\n",
       "  </tbody>\n",
       "</table>\n",
       "</div>"
      ],
      "text/plain": [
       "   q2  q4  q6  q8  q10  q1  q3  q5  q7  q9  score\n",
       "0   3   3   4   3    1   3   3   3   2   3   70.0\n",
       "1   1   4   1   3    4   0   2   2   4   4   62.5\n",
       "2   2   3   4   2    4   2   1   3   2   4   67.5\n",
       "3   3   4   3   3    3   3   3   3   3   3   77.5\n",
       "4   3   4   4   3    3   3   3   3   4   3   82.5"
      ]
     },
     "execution_count": 4,
     "metadata": {},
     "output_type": "execute_result"
    }
   ],
   "source": [
    "processed_sus_df"
   ]
  },
  {
   "cell_type": "code",
   "execution_count": 5,
   "metadata": {},
   "outputs": [
    {
     "name": "stdout",
     "output_type": "stream",
     "text": [
      "73.33333333333333\n",
      "8.036375634160796\n"
     ]
    }
   ],
   "source": [
    "### For archetype A ###\n",
    "# Filter \n",
    "filtered_sus_df = sus_df[sus_df['user_archetype'] == 'a']\n",
    "# Filter \n",
    "filtered_sus_df = filtered_sus_df.iloc[:, 2:]\n",
    "# Select columns with even and odd indices\n",
    "odd_index_columns = filtered_sus_df.iloc[:, ::2]\n",
    "even_index_columns = filtered_sus_df.iloc[:, 1::2]\n",
    "# Subtract 1 from odd_index_columns\n",
    "odd_index_columns = odd_index_columns - 1\n",
    "# Subtract from 5 for even_index_columns\n",
    "even_index_columns = 5 - even_index_columns\n",
    "# Combine\n",
    "processed_sus_df = even_index_columns.join(odd_index_columns)\n",
    "# Sum\n",
    "processed_sus_df['score'] = processed_sus_df.sum(axis=1)*2.5\n",
    "# Average\n",
    "print(processed_sus_df['score'].mean())\n",
    "# Std\n",
    "print(processed_sus_df['score'].std())"
   ]
  },
  {
   "cell_type": "code",
   "execution_count": 6,
   "metadata": {},
   "outputs": [
    {
     "name": "stdout",
     "output_type": "stream",
     "text": [
      "70.0\n",
      "10.606601717798213\n"
     ]
    }
   ],
   "source": [
    "### For archetype B ###\n",
    "# Filter \n",
    "filtered_sus_df = sus_df[sus_df['user_archetype'] == 'b']\n",
    "# Filter \n",
    "filtered_sus_df = filtered_sus_df.iloc[:, 2:]\n",
    "# Select columns with even and odd indices\n",
    "odd_index_columns = filtered_sus_df.iloc[:, ::2]\n",
    "even_index_columns = filtered_sus_df.iloc[:, 1::2]\n",
    "# Subtract 1 from odd_index_columns\n",
    "odd_index_columns = odd_index_columns - 1\n",
    "# Subtract from 5 for even_index_columns\n",
    "even_index_columns = 5 - even_index_columns\n",
    "# Combine\n",
    "processed_sus_df = even_index_columns.join(odd_index_columns)\n",
    "# Sum\n",
    "processed_sus_df['score'] = processed_sus_df.sum(axis=1)*2.5\n",
    "# Average\n",
    "print(processed_sus_df['score'].mean())\n",
    "# Std\n",
    "print(processed_sus_df['score'].std())"
   ]
  }
 ],
 "metadata": {
  "kernelspec": {
   "display_name": "cdss",
   "language": "python",
   "name": "python3"
  },
  "language_info": {
   "codemirror_mode": {
    "name": "ipython",
    "version": 3
   },
   "file_extension": ".py",
   "mimetype": "text/x-python",
   "name": "python",
   "nbconvert_exporter": "python",
   "pygments_lexer": "ipython3",
   "version": "3.10.13"
  }
 },
 "nbformat": 4,
 "nbformat_minor": 2
}
